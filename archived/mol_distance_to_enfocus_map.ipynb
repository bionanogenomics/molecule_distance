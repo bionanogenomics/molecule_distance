{
 "cells": [
  {
   "cell_type": "markdown",
   "metadata": {},
   "source": [
    "# Repeat Expansion Project: Map Molecule Distance results to Enfocus results"
   ]
  },
  {
   "cell_type": "markdown",
   "metadata": {},
   "source": [
    "## Load Packages"
   ]
  },
  {
   "cell_type": "code",
   "execution_count": 535,
   "metadata": {},
   "outputs": [
    {
     "data": {
      "text/plain": [
       "WindowsPath('c:/Users/sshukor/OneDrive - Bionano Genomics/Documents/Repeat Expansion Project/scripts')"
      ]
     },
     "execution_count": 535,
     "metadata": {},
     "output_type": "execute_result"
    }
   ],
   "source": [
    "# load packages\n",
    "from itertools import groupby\n",
    "from matplotlib_venn import venn2, venn2_circles\n",
    "import numpy as np\n",
    "import pandas as pd\n",
    "import seaborn as sns\n",
    "import matplotlib.pyplot as plt\n",
    "import scipy\n",
    "# from enrichment_util import *\n",
    "\n",
    "import copy\n",
    "import re \n",
    "import os\n",
    "import pathlib\n",
    "working_dir = pathlib.Path().absolute()\n",
    "os.chdir(working_dir)\n",
    "\n",
    "\n",
    "%matplotlib inline\n",
    "pd.options.mode.chained_assignment = None  # default='warn'\n",
    "working_dir"
   ]
  },
  {
   "cell_type": "markdown",
   "metadata": {},
   "source": [
    "Input files:\n",
    "- Molecule Distance: ./for_Radboud_repeat_expansion_paper/Molecule_distance_output/\n",
    "- Enfocus: ./for_Radboud_repeat_expansion_paper/Enfocus/\n",
    "\n",
    "Process:\n",
    "- Iterate through Molecule Distance Rows, save QryContigID\n",
    "- Iterate through Enfocus .xmap files, save MapWt IDs\n",
    "- For each QryContigID, list all Map IDs associated with it.\n",
    "- Create meta table of .xmap Map IDs for each molecule distance table\n",
    "- For each QryContigID, choose the best Map ID based on map length and MapWt score\n",
    "- Manually assign alleles to each meta table Map IDs\n",
    "- Assign alleles to previously mapped QryContigIDs"
   ]
  },
  {
   "cell_type": "markdown",
   "metadata": {},
   "source": [
    "### Check if all input files are there"
   ]
  },
  {
   "cell_type": "code",
   "execution_count": 536,
   "metadata": {},
   "outputs": [],
   "source": [
    "# check for mol distance complete_data.csv file\n",
    "# check for merge files and list their maps"
   ]
  },
  {
   "cell_type": "code",
   "execution_count": 537,
   "metadata": {},
   "outputs": [
    {
     "name": "stdout",
     "output_type": "stream",
     "text": [
      "120\n",
      "120\n"
     ]
    }
   ],
   "source": [
    "enfocus_list_1 = []\n",
    "enfocus_list_2 = []\n",
    "files_list = []\n",
    "repeat_analysis_list = []\n",
    "\n",
    "# Loop through xmap tables \n",
    "rootdir = r'C:\\Users\\sshukor\\OneDrive - Bionano Genomics\\Documents\\Repeat Expansion Project\\for_Radboud_repeat_expansion_paper\\Enfocus'\n",
    "n = 0\n",
    "index = 5 # len(sample_list)\n",
    "compiled_df = pd.DataFrame()\n",
    "compiled_fp_df = pd.DataFrame()\n",
    "\n",
    "for subdir, dirs, files in os.walk(rootdir):\n",
    "    \n",
    "    # ignore folder w/ no files\n",
    "    if len(files) == 0:\n",
    "        continue\n",
    "    # print(subdir)\n",
    "    if (r\"output\\contigs\\exp_refineFinal1\\alignmol\\merge\") in subdir:\n",
    "        # print(subdir.split('\\\\')[9])\n",
    "        enfocus_list_1.append(subdir.split('\\\\')[9])\n",
    "        n += 1\n",
    "\n",
    "        filepaths = []\n",
    "        for file in files:\n",
    "            if file.endswith(\".xmap\"):\n",
    "                filepaths.append(f\"{subdir}\\\\{file}\")\n",
    "                # print(f\"found {file}\")\n",
    "        \n",
    "        files_list.append(filepaths)\n",
    "    if (r\"output\") in subdir:\n",
    "        for file in files:\n",
    "            if file.endswith(\"repeat_analysis_summary_for_Access.csv\"):\n",
    "                \n",
    "                enfocus_list_2.append(subdir.split('\\\\')[9])\n",
    "                repeat_analysis_list.append(f\"{subdir}\\\\{file}\")\n",
    "                # print(f\"{subdir}\\\\{file}\")\n",
    "\n",
    "\n",
    "files_list = [', '.join(ele) for ele in files_list]\n",
    "print(n)         \n",
    "print(len(repeat_analysis_list))"
   ]
  },
  {
   "cell_type": "code",
   "execution_count": 538,
   "metadata": {},
   "outputs": [
    {
     "name": "stdout",
     "output_type": "stream",
     "text": [
      "found:C:\\Users\\sshukor\\OneDrive - Bionano Genomics\\Documents\\Repeat Expansion Project\\for_Radboud_repeat_expansion_paper\\Molecule_distance_output\\ATXN10\\SUSL005\\ATXN10_SUSL005_complete_data.csv\n",
      "found:C:\\Users\\sshukor\\OneDrive - Bionano Genomics\\Documents\\Repeat Expansion Project\\for_Radboud_repeat_expansion_paper\\Molecule_distance_output\\ATXN10\\SUSL007\\ATXN10_SUSL007_complete_data.csv\n",
      "found:C:\\Users\\sshukor\\OneDrive - Bionano Genomics\\Documents\\Repeat Expansion Project\\for_Radboud_repeat_expansion_paper\\Molecule_distance_output\\ATXN10\\SUSL008\\ATXN10_SUSL008_complete_data.csv\n",
      "found:C:\\Users\\sshukor\\OneDrive - Bionano Genomics\\Documents\\Repeat Expansion Project\\for_Radboud_repeat_expansion_paper\\Molecule_distance_output\\ATXN10\\SUSL012\\ATXN10_SUSL012_complete_data.csv\n",
      "found:C:\\Users\\sshukor\\OneDrive - Bionano Genomics\\Documents\\Repeat Expansion Project\\for_Radboud_repeat_expansion_paper\\Molecule_distance_output\\ATXN10\\SUSL013\\ATXN10_SUSL013_complete_data.csv\n",
      "found:C:\\Users\\sshukor\\OneDrive - Bionano Genomics\\Documents\\Repeat Expansion Project\\for_Radboud_repeat_expansion_paper\\Molecule_distance_output\\c9orf72\\c9orf72_08-362\\c9orf72_08-362_complete_data.csv\n",
      "found:C:\\Users\\sshukor\\OneDrive - Bionano Genomics\\Documents\\Repeat Expansion Project\\for_Radboud_repeat_expansion_paper\\Molecule_distance_output\\c9orf72\\c9orf72_106340\\c9orf72_106340_complete_data.csv\n",
      "found:C:\\Users\\sshukor\\OneDrive - Bionano Genomics\\Documents\\Repeat Expansion Project\\for_Radboud_repeat_expansion_paper\\Molecule_distance_output\\CNBP\\CNBP_01\\CNBP_01_-_Molecule_Filter_20210318_molecule_distance_complete_data.csv\n",
      "found:C:\\Users\\sshukor\\OneDrive - Bionano Genomics\\Documents\\Repeat Expansion Project\\for_Radboud_repeat_expansion_paper\\Molecule_distance_output\\CNBP\\CNBP_02\\CNBP_02_20210318_molecule_distance_complete_data.csv\n",
      "found:C:\\Users\\sshukor\\OneDrive - Bionano Genomics\\Documents\\Repeat Expansion Project\\for_Radboud_repeat_expansion_paper\\Molecule_distance_output\\CNBP\\CNBP_03\\CNBP_03_20210318_molecule_distance_complete_data.csv\n",
      "found:C:\\Users\\sshukor\\OneDrive - Bionano Genomics\\Documents\\Repeat Expansion Project\\for_Radboud_repeat_expansion_paper\\Molecule_distance_output\\CNBP\\CNBP_04\\CNBP_04_20210318_molecule_distance_complete_data.csv\n",
      "found:C:\\Users\\sshukor\\OneDrive - Bionano Genomics\\Documents\\Repeat Expansion Project\\for_Radboud_repeat_expansion_paper\\Molecule_distance_output\\CNBP\\CNBP_05\\CNBP_05_20210305_molecule_distance_complete_data.csv\n",
      "found:C:\\Users\\sshukor\\OneDrive - Bionano Genomics\\Documents\\Repeat Expansion Project\\for_Radboud_repeat_expansion_paper\\Molecule_distance_output\\CNBP\\CNBP_06\\CNBP_06_20210326_Research_Chip02_OU4GGZWNPOUFRNWU_F2P1_2021-3-28_01_10_37_RawMolecules_20210326_molecule_distance_complete_data.csv\n",
      "found:C:\\Users\\sshukor\\OneDrive - Bionano Genomics\\Documents\\Repeat Expansion Project\\for_Radboud_repeat_expansion_paper\\Molecule_distance_output\\CNBP\\CNBP_07\\CNBP_07_20210305_Research_chip02_FMSKMFWNPPRFVNWU_F3P1_2021-3-6_18_29_39_RawMolecules_20210305_molecule_distance_complete_data.csv\n",
      "found:C:\\Users\\sshukor\\OneDrive - Bionano Genomics\\Documents\\Repeat Expansion Project\\for_Radboud_repeat_expansion_paper\\Molecule_distance_output\\CNBP\\CNBP_08\\RUMC_CNBP_08_20210326_Research_Chip02_OU4GGZWNPOUFRNWU_F3P1_2021-3-28_06_18_25_RawMolecules_20210326_molecule_distance_complete_data.csv\n",
      "found:C:\\Users\\sshukor\\OneDrive - Bionano Genomics\\Documents\\Repeat Expansion Project\\for_Radboud_repeat_expansion_paper\\Molecule_distance_output\\CNBP\\CNBP_10\\CNBP_10_20220325_molecule_distance_complete_data.csv\n",
      "found:C:\\Users\\sshukor\\OneDrive - Bionano Genomics\\Documents\\Repeat Expansion Project\\for_Radboud_repeat_expansion_paper\\Molecule_distance_output\\CNBP\\CNBP_11\\RUMC_CNBP_11_20211007_molecule_distance_complete_data.csv\n",
      "found:C:\\Users\\sshukor\\OneDrive - Bionano Genomics\\Documents\\Repeat Expansion Project\\for_Radboud_repeat_expansion_paper\\Molecule_distance_output\\CNBP\\CNBP_12\\CNBP_12_Rad_20210608_molecule_distance_complete_data.csv\n",
      "found:C:\\Users\\sshukor\\OneDrive - Bionano Genomics\\Documents\\Repeat Expansion Project\\for_Radboud_repeat_expansion_paper\\Molecule_distance_output\\CNBP\\CNBP_13\\CNBP_13_20210927_molecule_distance_complete_data.csv\n",
      "found:C:\\Users\\sshukor\\OneDrive - Bionano Genomics\\Documents\\Repeat Expansion Project\\for_Radboud_repeat_expansion_paper\\Molecule_distance_output\\CNBP\\CNBP_14\\CNBP_14_20211122_molecule_distance_complete_data.csv\n",
      "found:C:\\Users\\sshukor\\OneDrive - Bionano Genomics\\Documents\\Repeat Expansion Project\\for_Radboud_repeat_expansion_paper\\Molecule_distance_output\\CNBP\\CNBP_15\\CNBP_15_complete_data.csv\n",
      "found:C:\\Users\\sshukor\\OneDrive - Bionano Genomics\\Documents\\Repeat Expansion Project\\for_Radboud_repeat_expansion_paper\\Molecule_distance_output\\CNBP\\CNBP_16\\CNBP_16_20211122_molecule_distance_complete_data.csv\n",
      "found:C:\\Users\\sshukor\\OneDrive - Bionano Genomics\\Documents\\Repeat Expansion Project\\for_Radboud_repeat_expansion_paper\\Molecule_distance_output\\CNBP\\CNBP_17\\CNBP_17_20211122_molecule_distance_complete_data.csv\n",
      "found:C:\\Users\\sshukor\\OneDrive - Bionano Genomics\\Documents\\Repeat Expansion Project\\for_Radboud_repeat_expansion_paper\\Molecule_distance_output\\CNBP\\CNBP_18\\CNBP_18_20211122_molecule_distance_complete_data.csv\n",
      "found:C:\\Users\\sshukor\\OneDrive - Bionano Genomics\\Documents\\Repeat Expansion Project\\for_Radboud_repeat_expansion_paper\\Molecule_distance_output\\CNBP\\CNBP_19\\CNBP_19_20211125_molecule_distance_complete_data.csv\n",
      "found:C:\\Users\\sshukor\\OneDrive - Bionano Genomics\\Documents\\Repeat Expansion Project\\for_Radboud_repeat_expansion_paper\\Molecule_distance_output\\CNBP\\CNBP_20\\CNBP_20_20211125_molecule_distance_complete_data.csv\n",
      "found:C:\\Users\\sshukor\\OneDrive - Bionano Genomics\\Documents\\Repeat Expansion Project\\for_Radboud_repeat_expansion_paper\\Molecule_distance_output\\CNBP\\CNBP_21\\CNBP_21_complete_data.csv\n",
      "found:C:\\Users\\sshukor\\OneDrive - Bionano Genomics\\Documents\\Repeat Expansion Project\\for_Radboud_repeat_expansion_paper\\Molecule_distance_output\\CNBP\\CNBP_22\\RUMC_CNBP_22_20211228_molecule_distance_complete_data.csv\n",
      "found:C:\\Users\\sshukor\\OneDrive - Bionano Genomics\\Documents\\Repeat Expansion Project\\for_Radboud_repeat_expansion_paper\\Molecule_distance_output\\CNBP\\CNBP_23\\RUMC_CNBP_23_20220107_molecule_distance_complete_data.csv\n",
      "found:C:\\Users\\sshukor\\OneDrive - Bionano Genomics\\Documents\\Repeat Expansion Project\\for_Radboud_repeat_expansion_paper\\Molecule_distance_output\\CNBP\\CNBP_24\\RUMC_CNBP_24_20211228_molecule_distance_complete_data.csv\n",
      "found:C:\\Users\\sshukor\\OneDrive - Bionano Genomics\\Documents\\Repeat Expansion Project\\for_Radboud_repeat_expansion_paper\\Molecule_distance_output\\CNBP\\CNBP_25\\RUMC_CNBP_25_20220107_molecule_distance_complete_data.csv\n",
      "found:C:\\Users\\sshukor\\OneDrive - Bionano Genomics\\Documents\\Repeat Expansion Project\\for_Radboud_repeat_expansion_paper\\Molecule_distance_output\\CNBP\\CNBP_26\\RUMC_CNBP_26_20220411_molecule_distance_complete_data.csv\n",
      "found:C:\\Users\\sshukor\\OneDrive - Bionano Genomics\\Documents\\Repeat Expansion Project\\for_Radboud_repeat_expansion_paper\\Molecule_distance_output\\DMPK\\DMPK_01\\DMPK_01_DMPK_01_20201126_molecule_distance_complete_data.csv\n",
      "found:C:\\Users\\sshukor\\OneDrive - Bionano Genomics\\Documents\\Repeat Expansion Project\\for_Radboud_repeat_expansion_paper\\Molecule_distance_output\\DMPK\\DMPK_02\\DMPK_02_DMPK_02_20201012_molecule_distance_complete_data.csv\n",
      "found:C:\\Users\\sshukor\\OneDrive - Bionano Genomics\\Documents\\Repeat Expansion Project\\for_Radboud_repeat_expansion_paper\\Molecule_distance_output\\DMPK\\DMPK_03\\DMPK_03_DMPK_03_20201126_molecule_distance_complete_data.csv\n",
      "found:C:\\Users\\sshukor\\OneDrive - Bionano Genomics\\Documents\\Repeat Expansion Project\\for_Radboud_repeat_expansion_paper\\Molecule_distance_output\\DMPK\\DMPK_04\\DMPK_04_DMPK_04_20201104_molecule_distance_complete_data.csv\n",
      "found:C:\\Users\\sshukor\\OneDrive - Bionano Genomics\\Documents\\Repeat Expansion Project\\for_Radboud_repeat_expansion_paper\\Molecule_distance_output\\DMPK\\DMPK_05\\DMPK_05_merge_UF_DM05_DLE1_480G_merge_UF_DM05_DLE1_480G_pipelines_molecule_distance_complete_data.csv\n",
      "found:C:\\Users\\sshukor\\OneDrive - Bionano Genomics\\Documents\\Repeat Expansion Project\\for_Radboud_repeat_expansion_paper\\Molecule_distance_output\\DMPK\\DMPK_05_repeat\\DMPK_05_repeat_20210319_molecule_distance_complete_data.csv\n",
      "found:C:\\Users\\sshukor\\OneDrive - Bionano Genomics\\Documents\\Repeat Expansion Project\\for_Radboud_repeat_expansion_paper\\Molecule_distance_output\\DMPK\\DMPK_06\\DMPK_06_20210319_molecule_distance_complete_data.csv\n",
      "found:C:\\Users\\sshukor\\OneDrive - Bionano Genomics\\Documents\\Repeat Expansion Project\\for_Radboud_repeat_expansion_paper\\Molecule_distance_output\\DMPK\\DMPK_07\\DMPK_07_20210319_molecule_distance_complete_data.csv\n",
      "found:C:\\Users\\sshukor\\OneDrive - Bionano Genomics\\Documents\\Repeat Expansion Project\\for_Radboud_repeat_expansion_paper\\Molecule_distance_output\\DMPK\\DMPK_08\\DMPK_08_20210319_molecule_distance_complete_data.csv\n",
      "found:C:\\Users\\sshukor\\OneDrive - Bionano Genomics\\Documents\\Repeat Expansion Project\\for_Radboud_repeat_expansion_paper\\Molecule_distance_output\\DMPK\\DMPK_09\\RUMC_DMPK_09_20211006_molecule_distance_complete_data.csv\n",
      "found:C:\\Users\\sshukor\\OneDrive - Bionano Genomics\\Documents\\Repeat Expansion Project\\for_Radboud_repeat_expansion_paper\\Molecule_distance_output\\DMPK\\DMPK_10\\DMPK_10_20210329_molecule_distance_complete_data.csv\n",
      "found:C:\\Users\\sshukor\\OneDrive - Bionano Genomics\\Documents\\Repeat Expansion Project\\for_Radboud_repeat_expansion_paper\\Molecule_distance_output\\DMPK\\DMPK_11\\DMPK_11_20210329_molecule_distance_complete_data.csv\n",
      "found:C:\\Users\\sshukor\\OneDrive - Bionano Genomics\\Documents\\Repeat Expansion Project\\for_Radboud_repeat_expansion_paper\\Molecule_distance_output\\DMPK\\DMPK_12\\DMPK_12_20210329_molecule_distance_complete_data.csv\n",
      "found:C:\\Users\\sshukor\\OneDrive - Bionano Genomics\\Documents\\Repeat Expansion Project\\for_Radboud_repeat_expansion_paper\\Molecule_distance_output\\DMPK\\DMPK_13\\DMPK_13_20210329_molecule_distance_complete_data.csv\n",
      "found:C:\\Users\\sshukor\\OneDrive - Bionano Genomics\\Documents\\Repeat Expansion Project\\for_Radboud_repeat_expansion_paper\\Molecule_distance_output\\DMPK\\DMPK_14\\DMPK_14_20210329_molecule_distance_complete_data.csv\n",
      "found:C:\\Users\\sshukor\\OneDrive - Bionano Genomics\\Documents\\Repeat Expansion Project\\for_Radboud_repeat_expansion_paper\\Molecule_distance_output\\DMPK\\DMPK_15\\DMPK_15_20210329_molecule_distance_complete_data.csv\n",
      "found:C:\\Users\\sshukor\\OneDrive - Bionano Genomics\\Documents\\Repeat Expansion Project\\for_Radboud_repeat_expansion_paper\\Molecule_distance_output\\DMPK\\DMPK_16\\RUMC_DMPK_16_20220128_molecule_distance_complete_data.csv\n",
      "found:C:\\Users\\sshukor\\OneDrive - Bionano Genomics\\Documents\\Repeat Expansion Project\\for_Radboud_repeat_expansion_paper\\Molecule_distance_output\\DMPK\\DMPK_17\\RUMC_DMPK_17_20220128_molecule_distance_complete_data.csv\n",
      "found:C:\\Users\\sshukor\\OneDrive - Bionano Genomics\\Documents\\Repeat Expansion Project\\for_Radboud_repeat_expansion_paper\\Molecule_distance_output\\DMPK\\DMPK_18\\RUMC_DMPK_18_20211223_molecule_distance_complete_data.csv\n",
      "found:C:\\Users\\sshukor\\OneDrive - Bionano Genomics\\Documents\\Repeat Expansion Project\\for_Radboud_repeat_expansion_paper\\Molecule_distance_output\\DMPK\\DMPK_19\\RUMC_DMPK_19_20220128_molecule_distance_complete_data.csv\n",
      "found:C:\\Users\\sshukor\\OneDrive - Bionano Genomics\\Documents\\Repeat Expansion Project\\for_Radboud_repeat_expansion_paper\\Molecule_distance_output\\DMPK\\DMPK_20\\RUMC_DMPK_20_20211223_molecule_distance_complete_data.csv\n",
      "found:C:\\Users\\sshukor\\OneDrive - Bionano Genomics\\Documents\\Repeat Expansion Project\\for_Radboud_repeat_expansion_paper\\Molecule_distance_output\\DMPK\\DMPK_21\\RUMC_DMPK_21_20220406_molecule_distance_complete_data.csv\n",
      "found:C:\\Users\\sshukor\\OneDrive - Bionano Genomics\\Documents\\Repeat Expansion Project\\for_Radboud_repeat_expansion_paper\\Molecule_distance_output\\DMPK\\DMPK_22\\RUMC_DMPK_22_20211223_molecule_distance_complete_data.csv\n",
      "found:C:\\Users\\sshukor\\OneDrive - Bionano Genomics\\Documents\\Repeat Expansion Project\\for_Radboud_repeat_expansion_paper\\Molecule_distance_output\\DMPK\\DMPK_23\\RUMC_DMPK_23_20220202_molecule_distance_complete_data.csv\n",
      "found:C:\\Users\\sshukor\\OneDrive - Bionano Genomics\\Documents\\Repeat Expansion Project\\for_Radboud_repeat_expansion_paper\\Molecule_distance_output\\DMPK\\DMPK_24\\RUMC_DMPK_24_20211228_molecule_distance_complete_data.csv\n",
      "found:C:\\Users\\sshukor\\OneDrive - Bionano Genomics\\Documents\\Repeat Expansion Project\\for_Radboud_repeat_expansion_paper\\Molecule_distance_output\\DMPK\\DMPK_25\\RUMC_DMPK_25_20220128_molecule_distance_complete_data.csv\n",
      "found:C:\\Users\\sshukor\\OneDrive - Bionano Genomics\\Documents\\Repeat Expansion Project\\for_Radboud_repeat_expansion_paper\\Molecule_distance_output\\DMPK\\DMPK_26\\RUMC_DMPK_26_20220128_molecule_distance_complete_data.csv\n",
      "found:C:\\Users\\sshukor\\OneDrive - Bionano Genomics\\Documents\\Repeat Expansion Project\\for_Radboud_repeat_expansion_paper\\Molecule_distance_output\\DMPK\\DMPK_27\\RUMC_DMPK_27_20211216_molecule_distance_complete_data.csv\n",
      "found:C:\\Users\\sshukor\\OneDrive - Bionano Genomics\\Documents\\Repeat Expansion Project\\for_Radboud_repeat_expansion_paper\\Molecule_distance_output\\DMPK\\DMPK_28\\DMPK_28_complete_data.csv\n",
      "found:C:\\Users\\sshukor\\OneDrive - Bionano Genomics\\Documents\\Repeat Expansion Project\\for_Radboud_repeat_expansion_paper\\Molecule_distance_output\\DMPK\\DMPK_29\\DMPK_29_complete_data.csv\n",
      "found:C:\\Users\\sshukor\\OneDrive - Bionano Genomics\\Documents\\Repeat Expansion Project\\for_Radboud_repeat_expansion_paper\\Molecule_distance_output\\DMPK\\DMPK_30\\RUMC_DMPK_30_20220325_molecule_distance_complete_data.csv\n",
      "found:C:\\Users\\sshukor\\OneDrive - Bionano Genomics\\Documents\\Repeat Expansion Project\\for_Radboud_repeat_expansion_paper\\Molecule_distance_output\\DMPK\\DMPK_HvB_01\\RUMC_DMPK_HvB_01_complete_data.csv\n",
      "found:C:\\Users\\sshukor\\OneDrive - Bionano Genomics\\Documents\\Repeat Expansion Project\\for_Radboud_repeat_expansion_paper\\Molecule_distance_output\\DMPK\\DMPK_HvB_02\\RUMC_DMPK_HvB_02_complete_data.csv\n",
      "found:C:\\Users\\sshukor\\OneDrive - Bionano Genomics\\Documents\\Repeat Expansion Project\\for_Radboud_repeat_expansion_paper\\Molecule_distance_output\\DMPK\\DMPK_HvB_03\\RUMC_DMPK_HvB_03_complete_data.csv\n",
      "found:C:\\Users\\sshukor\\OneDrive - Bionano Genomics\\Documents\\Repeat Expansion Project\\for_Radboud_repeat_expansion_paper\\Molecule_distance_output\\DMPK\\DMPK_RW_01\\RUMC_DMPK_RW_01_complete_data.csv\n",
      "found:C:\\Users\\sshukor\\OneDrive - Bionano Genomics\\Documents\\Repeat Expansion Project\\for_Radboud_repeat_expansion_paper\\Molecule_distance_output\\DMPK\\DMPK_RW_02\\RUMC_DMPK_RW_02_complete_data.csv\n",
      "found:C:\\Users\\sshukor\\OneDrive - Bionano Genomics\\Documents\\Repeat Expansion Project\\for_Radboud_repeat_expansion_paper\\Molecule_distance_output\\DMPK\\DMPK_RW_03\\RUMC_DMPK_RW_03_complete_data.csv\n",
      "found:C:\\Users\\sshukor\\OneDrive - Bionano Genomics\\Documents\\Repeat Expansion Project\\for_Radboud_repeat_expansion_paper\\Molecule_distance_output\\DMPK\\DMPK_RW_04\\RUMC_DMPK_RW_04_complete_data.csv\n",
      "found:C:\\Users\\sshukor\\OneDrive - Bionano Genomics\\Documents\\Repeat Expansion Project\\for_Radboud_repeat_expansion_paper\\Molecule_distance_output\\DMPK\\DMPK_RW_05\\RUMC_DMPK_RW_05_complete_data.csv\n",
      "found:C:\\Users\\sshukor\\OneDrive - Bionano Genomics\\Documents\\Repeat Expansion Project\\for_Radboud_repeat_expansion_paper\\Molecule_distance_output\\DMPK\\DMPK_RW_06\\RUMC_DMPK_RW_06_complete_data.csv\n",
      "found:C:\\Users\\sshukor\\OneDrive - Bionano Genomics\\Documents\\Repeat Expansion Project\\for_Radboud_repeat_expansion_paper\\Molecule_distance_output\\FMR1\\FMR1_01\\FMR1_01_complete_data.csv\n",
      "found:C:\\Users\\sshukor\\OneDrive - Bionano Genomics\\Documents\\Repeat Expansion Project\\for_Radboud_repeat_expansion_paper\\Molecule_distance_output\\FMR1\\FMR1_02\\FMR1_02_complete_data.csv\n",
      "found:C:\\Users\\sshukor\\OneDrive - Bionano Genomics\\Documents\\Repeat Expansion Project\\for_Radboud_repeat_expansion_paper\\Molecule_distance_output\\FMR1\\FMR1_03\\FMR1_03_complete_data.csv\n",
      "found:C:\\Users\\sshukor\\OneDrive - Bionano Genomics\\Documents\\Repeat Expansion Project\\for_Radboud_repeat_expansion_paper\\Molecule_distance_output\\FMR1\\FMR1_05\\FMR1_05_complete_data.csv\n",
      "found:C:\\Users\\sshukor\\OneDrive - Bionano Genomics\\Documents\\Repeat Expansion Project\\for_Radboud_repeat_expansion_paper\\Molecule_distance_output\\FMR1\\FMR1_06\\FMR1_06_complete_data.csv\n",
      "found:C:\\Users\\sshukor\\OneDrive - Bionano Genomics\\Documents\\Repeat Expansion Project\\for_Radboud_repeat_expansion_paper\\Molecule_distance_output\\FMR1\\FMR1_07\\FMR1_07_complete_data.csv\n",
      "found:C:\\Users\\sshukor\\OneDrive - Bionano Genomics\\Documents\\Repeat Expansion Project\\for_Radboud_repeat_expansion_paper\\Molecule_distance_output\\FMR1\\FMR1_08\\FMR1_08_complete_data.csv\n",
      "found:C:\\Users\\sshukor\\OneDrive - Bionano Genomics\\Documents\\Repeat Expansion Project\\for_Radboud_repeat_expansion_paper\\Molecule_distance_output\\FMR1\\FMR1_09\\FMR1_09_complete_data.csv\n",
      "found:C:\\Users\\sshukor\\OneDrive - Bionano Genomics\\Documents\\Repeat Expansion Project\\for_Radboud_repeat_expansion_paper\\Molecule_distance_output\\FMR1\\FMR1_10\\FMR1_10_complete_data.csv\n",
      "found:C:\\Users\\sshukor\\OneDrive - Bionano Genomics\\Documents\\Repeat Expansion Project\\for_Radboud_repeat_expansion_paper\\Molecule_distance_output\\FMR1\\FMR1_11\\FMR1_11_complete_data.csv\n",
      "found:C:\\Users\\sshukor\\OneDrive - Bionano Genomics\\Documents\\Repeat Expansion Project\\for_Radboud_repeat_expansion_paper\\Molecule_distance_output\\FMR1\\FMR1_12\\FMR1_12_complete_data.csv\n",
      "found:C:\\Users\\sshukor\\OneDrive - Bionano Genomics\\Documents\\Repeat Expansion Project\\for_Radboud_repeat_expansion_paper\\Molecule_distance_output\\FMR1\\FMR1_13\\FMR1_13_complete_data.csv\n",
      "found:C:\\Users\\sshukor\\OneDrive - Bionano Genomics\\Documents\\Repeat Expansion Project\\for_Radboud_repeat_expansion_paper\\Molecule_distance_output\\FMR1\\FMR1_14\\FMR1_14_complete_data.csv\n",
      "found:C:\\Users\\sshukor\\OneDrive - Bionano Genomics\\Documents\\Repeat Expansion Project\\for_Radboud_repeat_expansion_paper\\Molecule_distance_output\\FXN\\FXN_01\\RUMC_FXN_01_complete_data.csv\n",
      "found:C:\\Users\\sshukor\\OneDrive - Bionano Genomics\\Documents\\Repeat Expansion Project\\for_Radboud_repeat_expansion_paper\\Molecule_distance_output\\FXN\\FXN_02\\RUMC_FXN_02_complete_data.csv\n",
      "found:C:\\Users\\sshukor\\OneDrive - Bionano Genomics\\Documents\\Repeat Expansion Project\\for_Radboud_repeat_expansion_paper\\Molecule_distance_output\\NOP56\\NOP56_01\\RUMC_NOP56_01_complete_data.csv\n",
      "found:C:\\Users\\sshukor\\OneDrive - Bionano Genomics\\Documents\\Repeat Expansion Project\\for_Radboud_repeat_expansion_paper\\Molecule_distance_output\\NOP56\\NOP56_02\\RUMC_NOP56_02_complete_data.csv\n",
      "found:C:\\Users\\sshukor\\OneDrive - Bionano Genomics\\Documents\\Repeat Expansion Project\\for_Radboud_repeat_expansion_paper\\Molecule_distance_output\\RFC1\\RFC1_01\\RFC1_01_RFC1_01_20201014_molecule_distance_complete_data.csv\n",
      "found:C:\\Users\\sshukor\\OneDrive - Bionano Genomics\\Documents\\Repeat Expansion Project\\for_Radboud_repeat_expansion_paper\\Molecule_distance_output\\RFC1\\RFC1_02\\RFC1_02_RFC1_02_20201012_molecule_distance_complete_data.csv\n",
      "found:C:\\Users\\sshukor\\OneDrive - Bionano Genomics\\Documents\\Repeat Expansion Project\\for_Radboud_repeat_expansion_paper\\Molecule_distance_output\\RFC1\\RFC1_03\\RFC1_03_RFC1_03_20201014_molecule_distance_complete_data.csv\n",
      "found:C:\\Users\\sshukor\\OneDrive - Bionano Genomics\\Documents\\Repeat Expansion Project\\for_Radboud_repeat_expansion_paper\\Molecule_distance_output\\RFC1\\RFC1_04\\RFC1_04_RFC1_04_20201104_molecule_distance_complete_data.csv\n",
      "found:C:\\Users\\sshukor\\OneDrive - Bionano Genomics\\Documents\\Repeat Expansion Project\\for_Radboud_repeat_expansion_paper\\Molecule_distance_output\\RFC1\\RFC1_05\\RFC1_05_RFC1_05_20201104_molecule_distance_complete_data.csv\n",
      "found:C:\\Users\\sshukor\\OneDrive - Bionano Genomics\\Documents\\Repeat Expansion Project\\for_Radboud_repeat_expansion_paper\\Molecule_distance_output\\RFC1\\RFC1_06\\RFC1_06_RFC1_06_20201130_molecule_distance_complete_data.csv\n",
      "found:C:\\Users\\sshukor\\OneDrive - Bionano Genomics\\Documents\\Repeat Expansion Project\\for_Radboud_repeat_expansion_paper\\Molecule_distance_output\\RFC1\\RFC1_07\\RFC1_07_20210318_molecule_distance_complete_data.csv\n",
      "found:C:\\Users\\sshukor\\OneDrive - Bionano Genomics\\Documents\\Repeat Expansion Project\\for_Radboud_repeat_expansion_paper\\Molecule_distance_output\\RFC1\\RFC1_08\\RFC1_08_20210305_molecule_distance_complete_data.csv\n",
      "found:C:\\Users\\sshukor\\OneDrive - Bionano Genomics\\Documents\\Repeat Expansion Project\\for_Radboud_repeat_expansion_paper\\Molecule_distance_output\\RFC1\\RFC1_09\\RFC1_09_20210305_molecule_distance_complete_data.csv\n",
      "found:C:\\Users\\sshukor\\OneDrive - Bionano Genomics\\Documents\\Repeat Expansion Project\\for_Radboud_repeat_expansion_paper\\Molecule_distance_output\\RFC1\\RFC1_10\\RFC1_10_20210305_molecule_distance_complete_data.csv\n",
      "found:C:\\Users\\sshukor\\OneDrive - Bionano Genomics\\Documents\\Repeat Expansion Project\\for_Radboud_repeat_expansion_paper\\Molecule_distance_output\\RFC1\\RFC1_11\\RFC1_11_20210521_molecule_distance_complete_data.csv\n",
      "found:C:\\Users\\sshukor\\OneDrive - Bionano Genomics\\Documents\\Repeat Expansion Project\\for_Radboud_repeat_expansion_paper\\Molecule_distance_output\\RFC1\\RFC1_12\\RFC1_12_complete_data.csv\n",
      "found:C:\\Users\\sshukor\\OneDrive - Bionano Genomics\\Documents\\Repeat Expansion Project\\for_Radboud_repeat_expansion_paper\\Molecule_distance_output\\RFC1\\RFC1_13\\RFC1_13_20220208_molecule_distance_complete_data.csv\n",
      "found:C:\\Users\\sshukor\\OneDrive - Bionano Genomics\\Documents\\Repeat Expansion Project\\for_Radboud_repeat_expansion_paper\\Molecule_distance_output\\RFC1\\RFC1_14\\RUMC_RFC1_14_20220208_molecule_distance_complete_data.csv\n",
      "found:C:\\Users\\sshukor\\OneDrive - Bionano Genomics\\Documents\\Repeat Expansion Project\\for_Radboud_repeat_expansion_paper\\Molecule_distance_output\\RFC1\\RFC1_15\\RUMC_RFC1_15_20220208_molecule_distance_complete_data.csv\n",
      "found:C:\\Users\\sshukor\\OneDrive - Bionano Genomics\\Documents\\Repeat Expansion Project\\for_Radboud_repeat_expansion_paper\\Molecule_distance_output\\RFC1\\RFC1_16\\mol_distance_complete_data.csv\n",
      "found:C:\\Users\\sshukor\\OneDrive - Bionano Genomics\\Documents\\Repeat Expansion Project\\for_Radboud_repeat_expansion_paper\\Molecule_distance_output\\RFC1\\RFC1_17\\RUMC_RFC1_17_20220208_molecule_distance_complete_data.csv\n",
      "found:C:\\Users\\sshukor\\OneDrive - Bionano Genomics\\Documents\\Repeat Expansion Project\\for_Radboud_repeat_expansion_paper\\Molecule_distance_output\\RFC1\\RFC1_18\\RUMC_RFC1_18_20220202_molecule_distance_complete_data.csv\n",
      "found:C:\\Users\\sshukor\\OneDrive - Bionano Genomics\\Documents\\Repeat Expansion Project\\for_Radboud_repeat_expansion_paper\\Molecule_distance_output\\RFC1\\RFC1_19\\mol_distance_complete_data.csv\n",
      "found:C:\\Users\\sshukor\\OneDrive - Bionano Genomics\\Documents\\Repeat Expansion Project\\for_Radboud_repeat_expansion_paper\\Molecule_distance_output\\RFC1\\RFC1_20\\RFC1_20_20220406_molecule_distance_complete_data.csv\n",
      "found:C:\\Users\\sshukor\\OneDrive - Bionano Genomics\\Documents\\Repeat Expansion Project\\for_Radboud_repeat_expansion_paper\\Molecule_distance_output\\RFC1\\RFC1_21\\RFC1_21_20220406_molecule_distance_complete_data.csv\n",
      "found:C:\\Users\\sshukor\\OneDrive - Bionano Genomics\\Documents\\Repeat Expansion Project\\for_Radboud_repeat_expansion_paper\\Molecule_distance_output\\RFC1\\RFC1_22\\RFC1_22_20220325_molecule_distance_complete_data.csv\n",
      "found:C:\\Users\\sshukor\\OneDrive - Bionano Genomics\\Documents\\Repeat Expansion Project\\for_Radboud_repeat_expansion_paper\\Molecule_distance_output\\RFC1\\RFC1_23\\RFC1_23_complete_data.csv\n",
      "found:C:\\Users\\sshukor\\OneDrive - Bionano Genomics\\Documents\\Repeat Expansion Project\\for_Radboud_repeat_expansion_paper\\Molecule_distance_output\\RFC1\\RFC1_24\\mol_distance_complete_data.csv\n",
      "found:C:\\Users\\sshukor\\OneDrive - Bionano Genomics\\Documents\\Repeat Expansion Project\\for_Radboud_repeat_expansion_paper\\Molecule_distance_output\\RFC1\\RFC1_25\\RUMC_RFC1_25_20211125_molecule_distance_complete_data.csv\n",
      "found:C:\\Users\\sshukor\\OneDrive - Bionano Genomics\\Documents\\Repeat Expansion Project\\for_Radboud_repeat_expansion_paper\\Molecule_distance_output\\RFC1\\RFC1_26\\RFC1_26_complete_data.csv\n",
      "found:C:\\Users\\sshukor\\OneDrive - Bionano Genomics\\Documents\\Repeat Expansion Project\\for_Radboud_repeat_expansion_paper\\Molecule_distance_output\\RFC1\\RFC1_27\\RUMC_RFC1_27_20220202_molecule_distance_complete_data.csv\n",
      "found:C:\\Users\\sshukor\\OneDrive - Bionano Genomics\\Documents\\Repeat Expansion Project\\for_Radboud_repeat_expansion_paper\\Molecule_distance_output\\RFC1\\RFC1_28\\mol_distance_complete_data.csv\n",
      "found:C:\\Users\\sshukor\\OneDrive - Bionano Genomics\\Documents\\Repeat Expansion Project\\for_Radboud_repeat_expansion_paper\\Molecule_distance_output\\RFC1\\RFC1_29\\RUMC_RFC1_29_20211006_molecule_distance_complete_data.csv\n",
      "found:C:\\Users\\sshukor\\OneDrive - Bionano Genomics\\Documents\\Repeat Expansion Project\\for_Radboud_repeat_expansion_paper\\Molecule_distance_output\\RFC1\\RFC1_30\\RUMC_RFC1_30_20220208_molecule_distance_complete_data.csv\n",
      "found:C:\\Users\\sshukor\\OneDrive - Bionano Genomics\\Documents\\Repeat Expansion Project\\for_Radboud_repeat_expansion_paper\\Molecule_distance_output\\STARD7\\STARD7_39292\\STARD7_39292_complete_data.csv\n",
      "120\n"
     ]
    }
   ],
   "source": [
    "mol_dis_list = []\n",
    "mol_dist_paths = []\n",
    "\n",
    "# Loop through smap tables \n",
    "rootdir = r'C:\\Users\\sshukor\\OneDrive - Bionano Genomics\\Documents\\Repeat Expansion Project\\for_Radboud_repeat_expansion_paper\\Molecule_distance_output'\n",
    "n = 0\n",
    "\n",
    "\n",
    "for subdir, dirs, files in os.walk(rootdir):\n",
    "    \n",
    "    # ignore folder w/ no files\n",
    "    if len(files) == 0:\n",
    "        continue\n",
    "\n",
    "       \n",
    "    for file in files:\n",
    "        if file.endswith(\"complete_data.csv\"):\n",
    "            # print(subdir.split('\\\\')[9])\n",
    "            mol_dis_list.append(subdir.split('\\\\')[9])\n",
    "            mol_dist_paths.append(f\"{subdir}\\\\{file}\")\n",
    "            print(f\"found:{subdir}\\\\{file}\")\n",
    "            n += 1\n",
    "\n",
    "# Now we have compiled df of ALL SVs, With columns of interest\n",
    "print(n)\n",
    "# print(compiled_df.shape)"
   ]
  },
  {
   "cell_type": "markdown",
   "metadata": {},
   "source": [
    "### All samples accounted for, each having mol distance output and enfocus intermediate maps."
   ]
  },
  {
   "cell_type": "markdown",
   "metadata": {},
   "source": [
    "### Output table of samples with input details\n",
    "Sample ID, Path to .csv, Path to maps, # of maps list of map files "
   ]
  },
  {
   "cell_type": "code",
   "execution_count": 541,
   "metadata": {},
   "outputs": [
    {
     "data": {
      "text/html": [
       "<div>\n",
       "<style scoped>\n",
       "    .dataframe tbody tr th:only-of-type {\n",
       "        vertical-align: middle;\n",
       "    }\n",
       "\n",
       "    .dataframe tbody tr th {\n",
       "        vertical-align: top;\n",
       "    }\n",
       "\n",
       "    .dataframe thead th {\n",
       "        text-align: right;\n",
       "    }\n",
       "</style>\n",
       "<table border=\"1\" class=\"dataframe\">\n",
       "  <thead>\n",
       "    <tr style=\"text-align: right;\">\n",
       "      <th></th>\n",
       "      <th>Sample_ID</th>\n",
       "      <th>files</th>\n",
       "      <th>num_files</th>\n",
       "    </tr>\n",
       "  </thead>\n",
       "  <tbody>\n",
       "    <tr>\n",
       "      <th>0</th>\n",
       "      <td>SUSL005</td>\n",
       "      <td>C:\\Users\\sshukor\\OneDrive - Bionano Genomics\\D...</td>\n",
       "      <td>4</td>\n",
       "    </tr>\n",
       "    <tr>\n",
       "      <th>1</th>\n",
       "      <td>SUSL007</td>\n",
       "      <td>C:\\Users\\sshukor\\OneDrive - Bionano Genomics\\D...</td>\n",
       "      <td>5</td>\n",
       "    </tr>\n",
       "    <tr>\n",
       "      <th>2</th>\n",
       "      <td>SUSL008</td>\n",
       "      <td>C:\\Users\\sshukor\\OneDrive - Bionano Genomics\\D...</td>\n",
       "      <td>2</td>\n",
       "    </tr>\n",
       "    <tr>\n",
       "      <th>3</th>\n",
       "      <td>SUSL012</td>\n",
       "      <td>C:\\Users\\sshukor\\OneDrive - Bionano Genomics\\D...</td>\n",
       "      <td>4</td>\n",
       "    </tr>\n",
       "    <tr>\n",
       "      <th>4</th>\n",
       "      <td>SUSL013</td>\n",
       "      <td>C:\\Users\\sshukor\\OneDrive - Bionano Genomics\\D...</td>\n",
       "      <td>4</td>\n",
       "    </tr>\n",
       "    <tr>\n",
       "      <th>...</th>\n",
       "      <td>...</td>\n",
       "      <td>...</td>\n",
       "      <td>...</td>\n",
       "    </tr>\n",
       "    <tr>\n",
       "      <th>115</th>\n",
       "      <td>RFC1_27</td>\n",
       "      <td>C:\\Users\\sshukor\\OneDrive - Bionano Genomics\\D...</td>\n",
       "      <td>4</td>\n",
       "    </tr>\n",
       "    <tr>\n",
       "      <th>116</th>\n",
       "      <td>RFC1_28</td>\n",
       "      <td>C:\\Users\\sshukor\\OneDrive - Bionano Genomics\\D...</td>\n",
       "      <td>2</td>\n",
       "    </tr>\n",
       "    <tr>\n",
       "      <th>117</th>\n",
       "      <td>RFC1_29</td>\n",
       "      <td>C:\\Users\\sshukor\\OneDrive - Bionano Genomics\\D...</td>\n",
       "      <td>2</td>\n",
       "    </tr>\n",
       "    <tr>\n",
       "      <th>118</th>\n",
       "      <td>RFC1_30</td>\n",
       "      <td>C:\\Users\\sshukor\\OneDrive - Bionano Genomics\\D...</td>\n",
       "      <td>4</td>\n",
       "    </tr>\n",
       "    <tr>\n",
       "      <th>119</th>\n",
       "      <td>STARD7_39292</td>\n",
       "      <td>C:\\Users\\sshukor\\OneDrive - Bionano Genomics\\D...</td>\n",
       "      <td>4</td>\n",
       "    </tr>\n",
       "  </tbody>\n",
       "</table>\n",
       "<p>120 rows × 3 columns</p>\n",
       "</div>"
      ],
      "text/plain": [
       "        Sample_ID                                              files  \\\n",
       "0         SUSL005  C:\\Users\\sshukor\\OneDrive - Bionano Genomics\\D...   \n",
       "1         SUSL007  C:\\Users\\sshukor\\OneDrive - Bionano Genomics\\D...   \n",
       "2         SUSL008  C:\\Users\\sshukor\\OneDrive - Bionano Genomics\\D...   \n",
       "3         SUSL012  C:\\Users\\sshukor\\OneDrive - Bionano Genomics\\D...   \n",
       "4         SUSL013  C:\\Users\\sshukor\\OneDrive - Bionano Genomics\\D...   \n",
       "..            ...                                                ...   \n",
       "115       RFC1_27  C:\\Users\\sshukor\\OneDrive - Bionano Genomics\\D...   \n",
       "116       RFC1_28  C:\\Users\\sshukor\\OneDrive - Bionano Genomics\\D...   \n",
       "117       RFC1_29  C:\\Users\\sshukor\\OneDrive - Bionano Genomics\\D...   \n",
       "118       RFC1_30  C:\\Users\\sshukor\\OneDrive - Bionano Genomics\\D...   \n",
       "119  STARD7_39292  C:\\Users\\sshukor\\OneDrive - Bionano Genomics\\D...   \n",
       "\n",
       "     num_files  \n",
       "0            4  \n",
       "1            5  \n",
       "2            2  \n",
       "3            4  \n",
       "4            4  \n",
       "..         ...  \n",
       "115          4  \n",
       "116          2  \n",
       "117          2  \n",
       "118          4  \n",
       "119          4  \n",
       "\n",
       "[120 rows x 3 columns]"
      ]
     },
     "execution_count": 541,
     "metadata": {},
     "output_type": "execute_result"
    }
   ],
   "source": [
    "df_1 = pd.DataFrame(zip(enfocus_list_1, files_list))\n",
    "df_1 = df_1.rename(columns={0:'Sample_ID', 1:'files'})\n",
    "df_1['num_files'] = df_1['files'].apply(lambda x: len(x.split(', ')))\n",
    "df_1"
   ]
  },
  {
   "cell_type": "code",
   "execution_count": 542,
   "metadata": {},
   "outputs": [
    {
     "data": {
      "text/html": [
       "<div>\n",
       "<style scoped>\n",
       "    .dataframe tbody tr th:only-of-type {\n",
       "        vertical-align: middle;\n",
       "    }\n",
       "\n",
       "    .dataframe tbody tr th {\n",
       "        vertical-align: top;\n",
       "    }\n",
       "\n",
       "    .dataframe thead th {\n",
       "        text-align: right;\n",
       "    }\n",
       "</style>\n",
       "<table border=\"1\" class=\"dataframe\">\n",
       "  <thead>\n",
       "    <tr style=\"text-align: right;\">\n",
       "      <th></th>\n",
       "      <th>Sample_ID</th>\n",
       "      <th>tables</th>\n",
       "    </tr>\n",
       "  </thead>\n",
       "  <tbody>\n",
       "    <tr>\n",
       "      <th>0</th>\n",
       "      <td>SUSL005</td>\n",
       "      <td>C:\\Users\\sshukor\\OneDrive - Bionano Genomics\\D...</td>\n",
       "    </tr>\n",
       "    <tr>\n",
       "      <th>1</th>\n",
       "      <td>SUSL007</td>\n",
       "      <td>C:\\Users\\sshukor\\OneDrive - Bionano Genomics\\D...</td>\n",
       "    </tr>\n",
       "    <tr>\n",
       "      <th>2</th>\n",
       "      <td>SUSL008</td>\n",
       "      <td>C:\\Users\\sshukor\\OneDrive - Bionano Genomics\\D...</td>\n",
       "    </tr>\n",
       "    <tr>\n",
       "      <th>3</th>\n",
       "      <td>SUSL012</td>\n",
       "      <td>C:\\Users\\sshukor\\OneDrive - Bionano Genomics\\D...</td>\n",
       "    </tr>\n",
       "    <tr>\n",
       "      <th>4</th>\n",
       "      <td>SUSL013</td>\n",
       "      <td>C:\\Users\\sshukor\\OneDrive - Bionano Genomics\\D...</td>\n",
       "    </tr>\n",
       "    <tr>\n",
       "      <th>...</th>\n",
       "      <td>...</td>\n",
       "      <td>...</td>\n",
       "    </tr>\n",
       "    <tr>\n",
       "      <th>115</th>\n",
       "      <td>RFC1_27</td>\n",
       "      <td>C:\\Users\\sshukor\\OneDrive - Bionano Genomics\\D...</td>\n",
       "    </tr>\n",
       "    <tr>\n",
       "      <th>116</th>\n",
       "      <td>RFC1_28</td>\n",
       "      <td>C:\\Users\\sshukor\\OneDrive - Bionano Genomics\\D...</td>\n",
       "    </tr>\n",
       "    <tr>\n",
       "      <th>117</th>\n",
       "      <td>RFC1_29</td>\n",
       "      <td>C:\\Users\\sshukor\\OneDrive - Bionano Genomics\\D...</td>\n",
       "    </tr>\n",
       "    <tr>\n",
       "      <th>118</th>\n",
       "      <td>RFC1_30</td>\n",
       "      <td>C:\\Users\\sshukor\\OneDrive - Bionano Genomics\\D...</td>\n",
       "    </tr>\n",
       "    <tr>\n",
       "      <th>119</th>\n",
       "      <td>STARD7_39292</td>\n",
       "      <td>C:\\Users\\sshukor\\OneDrive - Bionano Genomics\\D...</td>\n",
       "    </tr>\n",
       "  </tbody>\n",
       "</table>\n",
       "<p>120 rows × 2 columns</p>\n",
       "</div>"
      ],
      "text/plain": [
       "        Sample_ID                                             tables\n",
       "0         SUSL005  C:\\Users\\sshukor\\OneDrive - Bionano Genomics\\D...\n",
       "1         SUSL007  C:\\Users\\sshukor\\OneDrive - Bionano Genomics\\D...\n",
       "2         SUSL008  C:\\Users\\sshukor\\OneDrive - Bionano Genomics\\D...\n",
       "3         SUSL012  C:\\Users\\sshukor\\OneDrive - Bionano Genomics\\D...\n",
       "4         SUSL013  C:\\Users\\sshukor\\OneDrive - Bionano Genomics\\D...\n",
       "..            ...                                                ...\n",
       "115       RFC1_27  C:\\Users\\sshukor\\OneDrive - Bionano Genomics\\D...\n",
       "116       RFC1_28  C:\\Users\\sshukor\\OneDrive - Bionano Genomics\\D...\n",
       "117       RFC1_29  C:\\Users\\sshukor\\OneDrive - Bionano Genomics\\D...\n",
       "118       RFC1_30  C:\\Users\\sshukor\\OneDrive - Bionano Genomics\\D...\n",
       "119  STARD7_39292  C:\\Users\\sshukor\\OneDrive - Bionano Genomics\\D...\n",
       "\n",
       "[120 rows x 2 columns]"
      ]
     },
     "execution_count": 542,
     "metadata": {},
     "output_type": "execute_result"
    }
   ],
   "source": [
    "df_2 = pd.DataFrame(zip(mol_dis_list, mol_dist_paths))\n",
    "df_2 = df_2.rename(columns={0:'Sample_ID', 1:'tables'})\n",
    "df_2"
   ]
  },
  {
   "cell_type": "code",
   "execution_count": 543,
   "metadata": {},
   "outputs": [
    {
     "data": {
      "text/html": [
       "<div>\n",
       "<style scoped>\n",
       "    .dataframe tbody tr th:only-of-type {\n",
       "        vertical-align: middle;\n",
       "    }\n",
       "\n",
       "    .dataframe tbody tr th {\n",
       "        vertical-align: top;\n",
       "    }\n",
       "\n",
       "    .dataframe thead th {\n",
       "        text-align: right;\n",
       "    }\n",
       "</style>\n",
       "<table border=\"1\" class=\"dataframe\">\n",
       "  <thead>\n",
       "    <tr style=\"text-align: right;\">\n",
       "      <th></th>\n",
       "      <th>Sample_ID</th>\n",
       "      <th>repeat_summary</th>\n",
       "    </tr>\n",
       "  </thead>\n",
       "  <tbody>\n",
       "    <tr>\n",
       "      <th>0</th>\n",
       "      <td>SUSL005</td>\n",
       "      <td>C:\\Users\\sshukor\\OneDrive - Bionano Genomics\\D...</td>\n",
       "    </tr>\n",
       "    <tr>\n",
       "      <th>1</th>\n",
       "      <td>SUSL007</td>\n",
       "      <td>C:\\Users\\sshukor\\OneDrive - Bionano Genomics\\D...</td>\n",
       "    </tr>\n",
       "    <tr>\n",
       "      <th>2</th>\n",
       "      <td>SUSL008</td>\n",
       "      <td>C:\\Users\\sshukor\\OneDrive - Bionano Genomics\\D...</td>\n",
       "    </tr>\n",
       "    <tr>\n",
       "      <th>3</th>\n",
       "      <td>SUSL012</td>\n",
       "      <td>C:\\Users\\sshukor\\OneDrive - Bionano Genomics\\D...</td>\n",
       "    </tr>\n",
       "    <tr>\n",
       "      <th>4</th>\n",
       "      <td>SUSL013</td>\n",
       "      <td>C:\\Users\\sshukor\\OneDrive - Bionano Genomics\\D...</td>\n",
       "    </tr>\n",
       "    <tr>\n",
       "      <th>...</th>\n",
       "      <td>...</td>\n",
       "      <td>...</td>\n",
       "    </tr>\n",
       "    <tr>\n",
       "      <th>115</th>\n",
       "      <td>RFC1_27</td>\n",
       "      <td>C:\\Users\\sshukor\\OneDrive - Bionano Genomics\\D...</td>\n",
       "    </tr>\n",
       "    <tr>\n",
       "      <th>116</th>\n",
       "      <td>RFC1_28</td>\n",
       "      <td>C:\\Users\\sshukor\\OneDrive - Bionano Genomics\\D...</td>\n",
       "    </tr>\n",
       "    <tr>\n",
       "      <th>117</th>\n",
       "      <td>RFC1_29</td>\n",
       "      <td>C:\\Users\\sshukor\\OneDrive - Bionano Genomics\\D...</td>\n",
       "    </tr>\n",
       "    <tr>\n",
       "      <th>118</th>\n",
       "      <td>RFC1_30</td>\n",
       "      <td>C:\\Users\\sshukor\\OneDrive - Bionano Genomics\\D...</td>\n",
       "    </tr>\n",
       "    <tr>\n",
       "      <th>119</th>\n",
       "      <td>STARD7_39292</td>\n",
       "      <td>C:\\Users\\sshukor\\OneDrive - Bionano Genomics\\D...</td>\n",
       "    </tr>\n",
       "  </tbody>\n",
       "</table>\n",
       "<p>120 rows × 2 columns</p>\n",
       "</div>"
      ],
      "text/plain": [
       "        Sample_ID                                     repeat_summary\n",
       "0         SUSL005  C:\\Users\\sshukor\\OneDrive - Bionano Genomics\\D...\n",
       "1         SUSL007  C:\\Users\\sshukor\\OneDrive - Bionano Genomics\\D...\n",
       "2         SUSL008  C:\\Users\\sshukor\\OneDrive - Bionano Genomics\\D...\n",
       "3         SUSL012  C:\\Users\\sshukor\\OneDrive - Bionano Genomics\\D...\n",
       "4         SUSL013  C:\\Users\\sshukor\\OneDrive - Bionano Genomics\\D...\n",
       "..            ...                                                ...\n",
       "115       RFC1_27  C:\\Users\\sshukor\\OneDrive - Bionano Genomics\\D...\n",
       "116       RFC1_28  C:\\Users\\sshukor\\OneDrive - Bionano Genomics\\D...\n",
       "117       RFC1_29  C:\\Users\\sshukor\\OneDrive - Bionano Genomics\\D...\n",
       "118       RFC1_30  C:\\Users\\sshukor\\OneDrive - Bionano Genomics\\D...\n",
       "119  STARD7_39292  C:\\Users\\sshukor\\OneDrive - Bionano Genomics\\D...\n",
       "\n",
       "[120 rows x 2 columns]"
      ]
     },
     "execution_count": 543,
     "metadata": {},
     "output_type": "execute_result"
    }
   ],
   "source": [
    "df_3 = pd.DataFrame(zip(enfocus_list_2,repeat_analysis_list))\n",
    "df_3 = df_3.rename(columns={0:'Sample_ID', 1:'repeat_summary'})\n",
    "df_3"
   ]
  },
  {
   "cell_type": "code",
   "execution_count": 544,
   "metadata": {},
   "outputs": [],
   "source": [
    "input_summary_df = pd.merge(df_2, df_1, on='Sample_ID')\n",
    "input_summary_df = pd.merge(input_summary_df, df_3, on='Sample_ID')"
   ]
  },
  {
   "cell_type": "code",
   "execution_count": 545,
   "metadata": {},
   "outputs": [
    {
     "data": {
      "text/plain": [
       "WindowsPath('c:/Users/sshukor/OneDrive - Bionano Genomics/Documents/Repeat Expansion Project/scripts')"
      ]
     },
     "execution_count": 545,
     "metadata": {},
     "output_type": "execute_result"
    }
   ],
   "source": [
    "working_dir"
   ]
  },
  {
   "cell_type": "code",
   "execution_count": 546,
   "metadata": {},
   "outputs": [
    {
     "data": {
      "text/html": [
       "<div>\n",
       "<style scoped>\n",
       "    .dataframe tbody tr th:only-of-type {\n",
       "        vertical-align: middle;\n",
       "    }\n",
       "\n",
       "    .dataframe tbody tr th {\n",
       "        vertical-align: top;\n",
       "    }\n",
       "\n",
       "    .dataframe thead th {\n",
       "        text-align: right;\n",
       "    }\n",
       "</style>\n",
       "<table border=\"1\" class=\"dataframe\">\n",
       "  <thead>\n",
       "    <tr style=\"text-align: right;\">\n",
       "      <th></th>\n",
       "      <th>Sample_ID</th>\n",
       "      <th>tables</th>\n",
       "      <th>files</th>\n",
       "      <th>num_files</th>\n",
       "      <th>repeat_summary</th>\n",
       "    </tr>\n",
       "  </thead>\n",
       "  <tbody>\n",
       "    <tr>\n",
       "      <th>0</th>\n",
       "      <td>SUSL005</td>\n",
       "      <td>C:\\Users\\sshukor\\OneDrive - Bionano Genomics\\D...</td>\n",
       "      <td>C:\\Users\\sshukor\\OneDrive - Bionano Genomics\\D...</td>\n",
       "      <td>4</td>\n",
       "      <td>C:\\Users\\sshukor\\OneDrive - Bionano Genomics\\D...</td>\n",
       "    </tr>\n",
       "    <tr>\n",
       "      <th>1</th>\n",
       "      <td>SUSL007</td>\n",
       "      <td>C:\\Users\\sshukor\\OneDrive - Bionano Genomics\\D...</td>\n",
       "      <td>C:\\Users\\sshukor\\OneDrive - Bionano Genomics\\D...</td>\n",
       "      <td>5</td>\n",
       "      <td>C:\\Users\\sshukor\\OneDrive - Bionano Genomics\\D...</td>\n",
       "    </tr>\n",
       "    <tr>\n",
       "      <th>2</th>\n",
       "      <td>SUSL008</td>\n",
       "      <td>C:\\Users\\sshukor\\OneDrive - Bionano Genomics\\D...</td>\n",
       "      <td>C:\\Users\\sshukor\\OneDrive - Bionano Genomics\\D...</td>\n",
       "      <td>2</td>\n",
       "      <td>C:\\Users\\sshukor\\OneDrive - Bionano Genomics\\D...</td>\n",
       "    </tr>\n",
       "    <tr>\n",
       "      <th>3</th>\n",
       "      <td>SUSL012</td>\n",
       "      <td>C:\\Users\\sshukor\\OneDrive - Bionano Genomics\\D...</td>\n",
       "      <td>C:\\Users\\sshukor\\OneDrive - Bionano Genomics\\D...</td>\n",
       "      <td>4</td>\n",
       "      <td>C:\\Users\\sshukor\\OneDrive - Bionano Genomics\\D...</td>\n",
       "    </tr>\n",
       "    <tr>\n",
       "      <th>4</th>\n",
       "      <td>SUSL013</td>\n",
       "      <td>C:\\Users\\sshukor\\OneDrive - Bionano Genomics\\D...</td>\n",
       "      <td>C:\\Users\\sshukor\\OneDrive - Bionano Genomics\\D...</td>\n",
       "      <td>4</td>\n",
       "      <td>C:\\Users\\sshukor\\OneDrive - Bionano Genomics\\D...</td>\n",
       "    </tr>\n",
       "  </tbody>\n",
       "</table>\n",
       "</div>"
      ],
      "text/plain": [
       "  Sample_ID                                             tables  \\\n",
       "0   SUSL005  C:\\Users\\sshukor\\OneDrive - Bionano Genomics\\D...   \n",
       "1   SUSL007  C:\\Users\\sshukor\\OneDrive - Bionano Genomics\\D...   \n",
       "2   SUSL008  C:\\Users\\sshukor\\OneDrive - Bionano Genomics\\D...   \n",
       "3   SUSL012  C:\\Users\\sshukor\\OneDrive - Bionano Genomics\\D...   \n",
       "4   SUSL013  C:\\Users\\sshukor\\OneDrive - Bionano Genomics\\D...   \n",
       "\n",
       "                                               files  num_files  \\\n",
       "0  C:\\Users\\sshukor\\OneDrive - Bionano Genomics\\D...          4   \n",
       "1  C:\\Users\\sshukor\\OneDrive - Bionano Genomics\\D...          5   \n",
       "2  C:\\Users\\sshukor\\OneDrive - Bionano Genomics\\D...          2   \n",
       "3  C:\\Users\\sshukor\\OneDrive - Bionano Genomics\\D...          4   \n",
       "4  C:\\Users\\sshukor\\OneDrive - Bionano Genomics\\D...          4   \n",
       "\n",
       "                                      repeat_summary  \n",
       "0  C:\\Users\\sshukor\\OneDrive - Bionano Genomics\\D...  \n",
       "1  C:\\Users\\sshukor\\OneDrive - Bionano Genomics\\D...  \n",
       "2  C:\\Users\\sshukor\\OneDrive - Bionano Genomics\\D...  \n",
       "3  C:\\Users\\sshukor\\OneDrive - Bionano Genomics\\D...  \n",
       "4  C:\\Users\\sshukor\\OneDrive - Bionano Genomics\\D...  "
      ]
     },
     "execution_count": 546,
     "metadata": {},
     "output_type": "execute_result"
    }
   ],
   "source": [
    "input_summary_df.head()"
   ]
  },
  {
   "cell_type": "code",
   "execution_count": 547,
   "metadata": {},
   "outputs": [],
   "source": [
    "input_summary_df.to_csv(rf\"C:/Users\\sshukor\\OneDrive - Bionano Genomics/Documents/Repeat Expansion Project/for_Radboud_repeat_expansion_paper/Mol_distance_mapped/mol_dist_xmap_input_summary.csv\", index=False)"
   ]
  },
  {
   "cell_type": "markdown",
   "metadata": {},
   "source": [
    "## Test and Development"
   ]
  },
  {
   "cell_type": "markdown",
   "metadata": {},
   "source": [
    "### Load example to parse mol distance .csv and map to .xmap rows"
   ]
  },
  {
   "cell_type": "code",
   "execution_count": 548,
   "metadata": {},
   "outputs": [],
   "source": [
    "# load mol distance mol_d\n",
    "# load .xmap xrow and compile details\n",
    "# for each row of mol_d\n",
    "#   match QryContigID beween mol_d and xrow\n",
    "#   if exist:\n",
    "#       append RefContigID (map ID)\n",
    "#       append size: QryStartPos - QryEndPos\n",
    "#   if not:\n",
    "#       append not found\n",
    "# output new mol_d table \n"
   ]
  },
  {
   "cell_type": "code",
   "execution_count": 549,
   "metadata": {},
   "outputs": [
    {
     "data": {
      "text/plain": [
       "'C:\\\\Users\\\\sshukor\\\\OneDrive - Bionano Genomics\\\\Documents\\\\Repeat Expansion Project\\\\for_Radboud_repeat_expansion_paper\\\\Molecule_distance_output\\\\ATXN10\\\\SUSL005\\\\ATXN10_SUSL005_complete_data.csv'"
      ]
     },
     "execution_count": 549,
     "metadata": {},
     "output_type": "execute_result"
    }
   ],
   "source": [
    "test_path = input_summary_df['tables'][0]\n",
    "test_path"
   ]
  },
  {
   "cell_type": "code",
   "execution_count": 550,
   "metadata": {},
   "outputs": [
    {
     "data": {
      "text/html": [
       "<div>\n",
       "<style scoped>\n",
       "    .dataframe tbody tr th:only-of-type {\n",
       "        vertical-align: middle;\n",
       "    }\n",
       "\n",
       "    .dataframe tbody tr th {\n",
       "        vertical-align: top;\n",
       "    }\n",
       "\n",
       "    .dataframe thead th {\n",
       "        text-align: right;\n",
       "    }\n",
       "</style>\n",
       "<table border=\"1\" class=\"dataframe\">\n",
       "  <thead>\n",
       "    <tr style=\"text-align: right;\">\n",
       "      <th></th>\n",
       "      <th>QryContigID</th>\n",
       "      <th>Qrylabel.x</th>\n",
       "      <th>refpos.x</th>\n",
       "      <th>QryPos.x</th>\n",
       "      <th>Qrylabel.y</th>\n",
       "      <th>refpos.y</th>\n",
       "      <th>QryPos.y</th>\n",
       "      <th>distance</th>\n",
       "      <th>refstartlabelid</th>\n",
       "      <th>refendlabelid</th>\n",
       "      <th>refdistance</th>\n",
       "    </tr>\n",
       "  </thead>\n",
       "  <tbody>\n",
       "    <tr>\n",
       "      <th>1</th>\n",
       "      <td>323759</td>\n",
       "      <td>21</td>\n",
       "      <td>45794058</td>\n",
       "      <td>141310.7</td>\n",
       "      <td>23</td>\n",
       "      <td>45799413</td>\n",
       "      <td>146360</td>\n",
       "      <td>5049</td>\n",
       "      <td>5045</td>\n",
       "      <td>5048</td>\n",
       "      <td>5355</td>\n",
       "    </tr>\n",
       "    <tr>\n",
       "      <th>2</th>\n",
       "      <td>1627511</td>\n",
       "      <td>20</td>\n",
       "      <td>45794058</td>\n",
       "      <td>189523.5</td>\n",
       "      <td>18</td>\n",
       "      <td>45799413</td>\n",
       "      <td>184188.9</td>\n",
       "      <td>5335</td>\n",
       "      <td>5045</td>\n",
       "      <td>5048</td>\n",
       "      <td>5355</td>\n",
       "    </tr>\n",
       "    <tr>\n",
       "      <th>3</th>\n",
       "      <td>1848195</td>\n",
       "      <td>13</td>\n",
       "      <td>45794058</td>\n",
       "      <td>93164.1</td>\n",
       "      <td>11</td>\n",
       "      <td>45799413</td>\n",
       "      <td>81544.9</td>\n",
       "      <td>11619</td>\n",
       "      <td>5045</td>\n",
       "      <td>5048</td>\n",
       "      <td>5355</td>\n",
       "    </tr>\n",
       "    <tr>\n",
       "      <th>4</th>\n",
       "      <td>1850898</td>\n",
       "      <td>13</td>\n",
       "      <td>45794058</td>\n",
       "      <td>124032.5</td>\n",
       "      <td>11</td>\n",
       "      <td>45799413</td>\n",
       "      <td>112601.9</td>\n",
       "      <td>11431</td>\n",
       "      <td>5045</td>\n",
       "      <td>5048</td>\n",
       "      <td>5355</td>\n",
       "    </tr>\n",
       "    <tr>\n",
       "      <th>5</th>\n",
       "      <td>2342770</td>\n",
       "      <td>26</td>\n",
       "      <td>45794058</td>\n",
       "      <td>143272.9</td>\n",
       "      <td>28</td>\n",
       "      <td>45799413</td>\n",
       "      <td>148411.1</td>\n",
       "      <td>5138</td>\n",
       "      <td>5045</td>\n",
       "      <td>5048</td>\n",
       "      <td>5355</td>\n",
       "    </tr>\n",
       "  </tbody>\n",
       "</table>\n",
       "</div>"
      ],
      "text/plain": [
       "  QryContigID Qrylabel.x  refpos.x  QryPos.x Qrylabel.y  refpos.y  QryPos.y  \\\n",
       "1      323759         21  45794058  141310.7         23  45799413    146360   \n",
       "2     1627511         20  45794058  189523.5         18  45799413  184188.9   \n",
       "3     1848195         13  45794058   93164.1         11  45799413   81544.9   \n",
       "4     1850898         13  45794058  124032.5         11  45799413  112601.9   \n",
       "5     2342770         26  45794058  143272.9         28  45799413  148411.1   \n",
       "\n",
       "  distance refstartlabelid refendlabelid refdistance  \n",
       "1     5049            5045          5048        5355  \n",
       "2     5335            5045          5048        5355  \n",
       "3    11619            5045          5048        5355  \n",
       "4    11431            5045          5048        5355  \n",
       "5     5138            5045          5048        5355  "
      ]
     },
     "execution_count": 550,
     "metadata": {},
     "output_type": "execute_result"
    }
   ],
   "source": [
    "# helper function to load mol distance mol_d\n",
    "def load_mol_distance_table(mol_d_path):\n",
    "    out_df = pd.read_csv(mol_d_path, dtype=object,  index_col=0)\n",
    "    # display(out_df.head())\n",
    "    return out_df\n",
    "\n",
    "load_mol_distance_table(test_path).head()"
   ]
  },
  {
   "cell_type": "code",
   "execution_count": 551,
   "metadata": {},
   "outputs": [
    {
     "data": {
      "text/plain": [
       "['C:\\\\Users\\\\sshukor\\\\OneDrive - Bionano Genomics\\\\Documents\\\\Repeat Expansion Project\\\\for_Radboud_repeat_expansion_paper\\\\Enfocus\\\\ATXN10\\\\SUSL005\\\\output\\\\contigs\\\\exp_refineFinal1\\\\alignmol\\\\merge\\\\exp_refineFinal1_contig1271.xmap',\n",
       " 'C:\\\\Users\\\\sshukor\\\\OneDrive - Bionano Genomics\\\\Documents\\\\Repeat Expansion Project\\\\for_Radboud_repeat_expansion_paper\\\\Enfocus\\\\ATXN10\\\\SUSL005\\\\output\\\\contigs\\\\exp_refineFinal1\\\\alignmol\\\\merge\\\\exp_refineFinal1_contig1272.xmap',\n",
       " 'C:\\\\Users\\\\sshukor\\\\OneDrive - Bionano Genomics\\\\Documents\\\\Repeat Expansion Project\\\\for_Radboud_repeat_expansion_paper\\\\Enfocus\\\\ATXN10\\\\SUSL005\\\\output\\\\contigs\\\\exp_refineFinal1\\\\alignmol\\\\merge\\\\exp_refineFinal1_contig31.xmap',\n",
       " 'C:\\\\Users\\\\sshukor\\\\OneDrive - Bionano Genomics\\\\Documents\\\\Repeat Expansion Project\\\\for_Radboud_repeat_expansion_paper\\\\Enfocus\\\\ATXN10\\\\SUSL005\\\\output\\\\contigs\\\\exp_refineFinal1\\\\alignmol\\\\merge\\\\exp_refineFinal1_contig32.xmap']"
      ]
     },
     "execution_count": 551,
     "metadata": {},
     "output_type": "execute_result"
    }
   ],
   "source": [
    "test_path = input_summary_df['files'][0]\n",
    "(test_path).split(', ')"
   ]
  },
  {
   "cell_type": "code",
   "execution_count": 552,
   "metadata": {},
   "outputs": [
    {
     "data": {
      "text/html": [
       "<div>\n",
       "<style scoped>\n",
       "    .dataframe tbody tr th:only-of-type {\n",
       "        vertical-align: middle;\n",
       "    }\n",
       "\n",
       "    .dataframe tbody tr th {\n",
       "        vertical-align: top;\n",
       "    }\n",
       "\n",
       "    .dataframe thead th {\n",
       "        text-align: right;\n",
       "    }\n",
       "</style>\n",
       "<table border=\"1\" class=\"dataframe\">\n",
       "  <thead>\n",
       "    <tr style=\"text-align: right;\">\n",
       "      <th></th>\n",
       "      <th>Sample_ID</th>\n",
       "      <th>tables</th>\n",
       "      <th>files</th>\n",
       "      <th>num_files</th>\n",
       "      <th>repeat_summary</th>\n",
       "    </tr>\n",
       "  </thead>\n",
       "  <tbody>\n",
       "    <tr>\n",
       "      <th>0</th>\n",
       "      <td>SUSL005</td>\n",
       "      <td>C:\\Users\\sshukor\\OneDrive - Bionano Genomics\\D...</td>\n",
       "      <td>C:\\Users\\sshukor\\OneDrive - Bionano Genomics\\D...</td>\n",
       "      <td>4</td>\n",
       "      <td>C:\\Users\\sshukor\\OneDrive - Bionano Genomics\\D...</td>\n",
       "    </tr>\n",
       "    <tr>\n",
       "      <th>1</th>\n",
       "      <td>SUSL007</td>\n",
       "      <td>C:\\Users\\sshukor\\OneDrive - Bionano Genomics\\D...</td>\n",
       "      <td>C:\\Users\\sshukor\\OneDrive - Bionano Genomics\\D...</td>\n",
       "      <td>5</td>\n",
       "      <td>C:\\Users\\sshukor\\OneDrive - Bionano Genomics\\D...</td>\n",
       "    </tr>\n",
       "    <tr>\n",
       "      <th>2</th>\n",
       "      <td>SUSL008</td>\n",
       "      <td>C:\\Users\\sshukor\\OneDrive - Bionano Genomics\\D...</td>\n",
       "      <td>C:\\Users\\sshukor\\OneDrive - Bionano Genomics\\D...</td>\n",
       "      <td>2</td>\n",
       "      <td>C:\\Users\\sshukor\\OneDrive - Bionano Genomics\\D...</td>\n",
       "    </tr>\n",
       "    <tr>\n",
       "      <th>3</th>\n",
       "      <td>SUSL012</td>\n",
       "      <td>C:\\Users\\sshukor\\OneDrive - Bionano Genomics\\D...</td>\n",
       "      <td>C:\\Users\\sshukor\\OneDrive - Bionano Genomics\\D...</td>\n",
       "      <td>4</td>\n",
       "      <td>C:\\Users\\sshukor\\OneDrive - Bionano Genomics\\D...</td>\n",
       "    </tr>\n",
       "    <tr>\n",
       "      <th>4</th>\n",
       "      <td>SUSL013</td>\n",
       "      <td>C:\\Users\\sshukor\\OneDrive - Bionano Genomics\\D...</td>\n",
       "      <td>C:\\Users\\sshukor\\OneDrive - Bionano Genomics\\D...</td>\n",
       "      <td>4</td>\n",
       "      <td>C:\\Users\\sshukor\\OneDrive - Bionano Genomics\\D...</td>\n",
       "    </tr>\n",
       "    <tr>\n",
       "      <th>...</th>\n",
       "      <td>...</td>\n",
       "      <td>...</td>\n",
       "      <td>...</td>\n",
       "      <td>...</td>\n",
       "      <td>...</td>\n",
       "    </tr>\n",
       "    <tr>\n",
       "      <th>115</th>\n",
       "      <td>RFC1_27</td>\n",
       "      <td>C:\\Users\\sshukor\\OneDrive - Bionano Genomics\\D...</td>\n",
       "      <td>C:\\Users\\sshukor\\OneDrive - Bionano Genomics\\D...</td>\n",
       "      <td>4</td>\n",
       "      <td>C:\\Users\\sshukor\\OneDrive - Bionano Genomics\\D...</td>\n",
       "    </tr>\n",
       "    <tr>\n",
       "      <th>116</th>\n",
       "      <td>RFC1_28</td>\n",
       "      <td>C:\\Users\\sshukor\\OneDrive - Bionano Genomics\\D...</td>\n",
       "      <td>C:\\Users\\sshukor\\OneDrive - Bionano Genomics\\D...</td>\n",
       "      <td>2</td>\n",
       "      <td>C:\\Users\\sshukor\\OneDrive - Bionano Genomics\\D...</td>\n",
       "    </tr>\n",
       "    <tr>\n",
       "      <th>117</th>\n",
       "      <td>RFC1_29</td>\n",
       "      <td>C:\\Users\\sshukor\\OneDrive - Bionano Genomics\\D...</td>\n",
       "      <td>C:\\Users\\sshukor\\OneDrive - Bionano Genomics\\D...</td>\n",
       "      <td>2</td>\n",
       "      <td>C:\\Users\\sshukor\\OneDrive - Bionano Genomics\\D...</td>\n",
       "    </tr>\n",
       "    <tr>\n",
       "      <th>118</th>\n",
       "      <td>RFC1_30</td>\n",
       "      <td>C:\\Users\\sshukor\\OneDrive - Bionano Genomics\\D...</td>\n",
       "      <td>C:\\Users\\sshukor\\OneDrive - Bionano Genomics\\D...</td>\n",
       "      <td>4</td>\n",
       "      <td>C:\\Users\\sshukor\\OneDrive - Bionano Genomics\\D...</td>\n",
       "    </tr>\n",
       "    <tr>\n",
       "      <th>119</th>\n",
       "      <td>STARD7_39292</td>\n",
       "      <td>C:\\Users\\sshukor\\OneDrive - Bionano Genomics\\D...</td>\n",
       "      <td>C:\\Users\\sshukor\\OneDrive - Bionano Genomics\\D...</td>\n",
       "      <td>4</td>\n",
       "      <td>C:\\Users\\sshukor\\OneDrive - Bionano Genomics\\D...</td>\n",
       "    </tr>\n",
       "  </tbody>\n",
       "</table>\n",
       "<p>120 rows × 5 columns</p>\n",
       "</div>"
      ],
      "text/plain": [
       "        Sample_ID                                             tables  \\\n",
       "0         SUSL005  C:\\Users\\sshukor\\OneDrive - Bionano Genomics\\D...   \n",
       "1         SUSL007  C:\\Users\\sshukor\\OneDrive - Bionano Genomics\\D...   \n",
       "2         SUSL008  C:\\Users\\sshukor\\OneDrive - Bionano Genomics\\D...   \n",
       "3         SUSL012  C:\\Users\\sshukor\\OneDrive - Bionano Genomics\\D...   \n",
       "4         SUSL013  C:\\Users\\sshukor\\OneDrive - Bionano Genomics\\D...   \n",
       "..            ...                                                ...   \n",
       "115       RFC1_27  C:\\Users\\sshukor\\OneDrive - Bionano Genomics\\D...   \n",
       "116       RFC1_28  C:\\Users\\sshukor\\OneDrive - Bionano Genomics\\D...   \n",
       "117       RFC1_29  C:\\Users\\sshukor\\OneDrive - Bionano Genomics\\D...   \n",
       "118       RFC1_30  C:\\Users\\sshukor\\OneDrive - Bionano Genomics\\D...   \n",
       "119  STARD7_39292  C:\\Users\\sshukor\\OneDrive - Bionano Genomics\\D...   \n",
       "\n",
       "                                                 files  num_files  \\\n",
       "0    C:\\Users\\sshukor\\OneDrive - Bionano Genomics\\D...          4   \n",
       "1    C:\\Users\\sshukor\\OneDrive - Bionano Genomics\\D...          5   \n",
       "2    C:\\Users\\sshukor\\OneDrive - Bionano Genomics\\D...          2   \n",
       "3    C:\\Users\\sshukor\\OneDrive - Bionano Genomics\\D...          4   \n",
       "4    C:\\Users\\sshukor\\OneDrive - Bionano Genomics\\D...          4   \n",
       "..                                                 ...        ...   \n",
       "115  C:\\Users\\sshukor\\OneDrive - Bionano Genomics\\D...          4   \n",
       "116  C:\\Users\\sshukor\\OneDrive - Bionano Genomics\\D...          2   \n",
       "117  C:\\Users\\sshukor\\OneDrive - Bionano Genomics\\D...          2   \n",
       "118  C:\\Users\\sshukor\\OneDrive - Bionano Genomics\\D...          4   \n",
       "119  C:\\Users\\sshukor\\OneDrive - Bionano Genomics\\D...          4   \n",
       "\n",
       "                                        repeat_summary  \n",
       "0    C:\\Users\\sshukor\\OneDrive - Bionano Genomics\\D...  \n",
       "1    C:\\Users\\sshukor\\OneDrive - Bionano Genomics\\D...  \n",
       "2    C:\\Users\\sshukor\\OneDrive - Bionano Genomics\\D...  \n",
       "3    C:\\Users\\sshukor\\OneDrive - Bionano Genomics\\D...  \n",
       "4    C:\\Users\\sshukor\\OneDrive - Bionano Genomics\\D...  \n",
       "..                                                 ...  \n",
       "115  C:\\Users\\sshukor\\OneDrive - Bionano Genomics\\D...  \n",
       "116  C:\\Users\\sshukor\\OneDrive - Bionano Genomics\\D...  \n",
       "117  C:\\Users\\sshukor\\OneDrive - Bionano Genomics\\D...  \n",
       "118  C:\\Users\\sshukor\\OneDrive - Bionano Genomics\\D...  \n",
       "119  C:\\Users\\sshukor\\OneDrive - Bionano Genomics\\D...  \n",
       "\n",
       "[120 rows x 5 columns]"
      ]
     },
     "execution_count": 552,
     "metadata": {},
     "output_type": "execute_result"
    }
   ],
   "source": [
    "input_summary_df"
   ]
  },
  {
   "cell_type": "markdown",
   "metadata": {},
   "source": [
    "inspect rfc1_16"
   ]
  },
  {
   "cell_type": "code",
   "execution_count": 553,
   "metadata": {},
   "outputs": [
    {
     "data": {
      "text/plain": [
       "'C:\\\\Users\\\\sshukor\\\\OneDrive - Bionano Genomics\\\\Documents\\\\Repeat Expansion Project\\\\for_Radboud_repeat_expansion_paper\\\\Enfocus\\\\RFC1\\\\RFC1_07\\\\output\\\\repeat_analysis_summary_for_Access.csv'"
      ]
     },
     "execution_count": 553,
     "metadata": {},
     "output_type": "execute_result"
    }
   ],
   "source": [
    "input_summary_df.iloc[95]['repeat_summary']"
   ]
  },
  {
   "cell_type": "code",
   "execution_count": 554,
   "metadata": {},
   "outputs": [
    {
     "data": {
      "text/plain": [
       "'C:\\\\Users\\\\sshukor\\\\OneDrive - Bionano Genomics\\\\Documents\\\\Repeat Expansion Project\\\\for_Radboud_repeat_expansion_paper\\\\Enfocus\\\\ATXN10\\\\SUSL005\\\\output\\\\repeat_analysis_summary_for_Access.csv'"
      ]
     },
     "execution_count": 554,
     "metadata": {},
     "output_type": "execute_result"
    }
   ],
   "source": [
    "input_summary_df['repeat_summary'][0]"
   ]
  },
  {
   "cell_type": "code",
   "execution_count": 555,
   "metadata": {},
   "outputs": [
    {
     "data": {
      "text/html": [
       "<div>\n",
       "<style scoped>\n",
       "    .dataframe tbody tr th:only-of-type {\n",
       "        vertical-align: middle;\n",
       "    }\n",
       "\n",
       "    .dataframe tbody tr th {\n",
       "        vertical-align: top;\n",
       "    }\n",
       "\n",
       "    .dataframe thead th {\n",
       "        text-align: right;\n",
       "    }\n",
       "</style>\n",
       "<table border=\"1\" class=\"dataframe\">\n",
       "  <thead>\n",
       "    <tr style=\"text-align: right;\">\n",
       "      <th></th>\n",
       "      <th>Sample</th>\n",
       "      <th>Sex</th>\n",
       "      <th>Chr</th>\n",
       "      <th>Start_ref</th>\n",
       "      <th>End_ref</th>\n",
       "      <th>Interval_ref</th>\n",
       "      <th>Count_repeat_ref</th>\n",
       "      <th>Repeat_unit_size</th>\n",
       "      <th>Irrelevant_ref</th>\n",
       "      <th>MapID</th>\n",
       "      <th>...</th>\n",
       "      <th>Count_repeat</th>\n",
       "      <th>P &gt;= expansion_cutoff</th>\n",
       "      <th>Expanded_repeat</th>\n",
       "      <th>Realigned</th>\n",
       "      <th>CI_lower</th>\n",
       "      <th>CI_upper</th>\n",
       "      <th>Percentile</th>\n",
       "      <th>Repeat_spanning_coverage</th>\n",
       "      <th>Qry_contig_length</th>\n",
       "      <th>ImageText</th>\n",
       "    </tr>\n",
       "    <tr>\n",
       "      <th>Gene</th>\n",
       "      <th></th>\n",
       "      <th></th>\n",
       "      <th></th>\n",
       "      <th></th>\n",
       "      <th></th>\n",
       "      <th></th>\n",
       "      <th></th>\n",
       "      <th></th>\n",
       "      <th></th>\n",
       "      <th></th>\n",
       "      <th></th>\n",
       "      <th></th>\n",
       "      <th></th>\n",
       "      <th></th>\n",
       "      <th></th>\n",
       "      <th></th>\n",
       "      <th></th>\n",
       "      <th></th>\n",
       "      <th></th>\n",
       "      <th></th>\n",
       "      <th></th>\n",
       "    </tr>\n",
       "  </thead>\n",
       "  <tbody>\n",
       "    <tr>\n",
       "      <th>FMR1</th>\n",
       "      <td>exp</td>\n",
       "      <td>male</td>\n",
       "      <td>4</td>\n",
       "      <td>39343732.0</td>\n",
       "      <td>39350590.0</td>\n",
       "      <td>6858.0</td>\n",
       "      <td>12.0</td>\n",
       "      <td>5</td>\n",
       "      <td>6799.0</td>\n",
       "      <td>12</td>\n",
       "      <td>...</td>\n",
       "      <td>10</td>\n",
       "      <td>&lt; 0.01%</td>\n",
       "      <td>600</td>\n",
       "      <td>False</td>\n",
       "      <td>0.0</td>\n",
       "      <td>32.0</td>\n",
       "      <td>19</td>\n",
       "      <td>44.0</td>\n",
       "      <td>10448525.2</td>\n",
       "      <td>Chromosome 4, Map12 has a calculated repeat co...</td>\n",
       "    </tr>\n",
       "    <tr>\n",
       "      <th>FMR1</th>\n",
       "      <td>exp</td>\n",
       "      <td>male</td>\n",
       "      <td>4</td>\n",
       "      <td>39343732.0</td>\n",
       "      <td>39350590.0</td>\n",
       "      <td>6858.0</td>\n",
       "      <td>12.0</td>\n",
       "      <td>5</td>\n",
       "      <td>6799.0</td>\n",
       "      <td>16571</td>\n",
       "      <td>...</td>\n",
       "      <td>643</td>\n",
       "      <td>&gt;= 99.9%</td>\n",
       "      <td>600</td>\n",
       "      <td>False</td>\n",
       "      <td>608.0</td>\n",
       "      <td>679.0</td>\n",
       "      <td>100</td>\n",
       "      <td>45.0</td>\n",
       "      <td>4385697.7</td>\n",
       "      <td>Chromosome 4, Map16571 has a calculated repeat...</td>\n",
       "    </tr>\n",
       "  </tbody>\n",
       "</table>\n",
       "<p>2 rows × 27 columns</p>\n",
       "</div>"
      ],
      "text/plain": [
       "     Sample   Sex Chr   Start_ref     End_ref Interval_ref Count_repeat_ref  \\\n",
       "Gene                                                                          \n",
       "FMR1    exp  male   4  39343732.0  39350590.0       6858.0             12.0   \n",
       "FMR1    exp  male   4  39343732.0  39350590.0       6858.0             12.0   \n",
       "\n",
       "     Repeat_unit_size Irrelevant_ref  MapID  ... Count_repeat  \\\n",
       "Gene                                         ...                \n",
       "FMR1                5         6799.0     12  ...           10   \n",
       "FMR1                5         6799.0  16571  ...          643   \n",
       "\n",
       "     P >= expansion_cutoff Expanded_repeat Realigned CI_lower CI_upper  \\\n",
       "Gene                                                                     \n",
       "FMR1               < 0.01%             600     False      0.0     32.0   \n",
       "FMR1              >= 99.9%             600     False    608.0    679.0   \n",
       "\n",
       "     Percentile Repeat_spanning_coverage Qry_contig_length  \\\n",
       "Gene                                                         \n",
       "FMR1         19                     44.0        10448525.2   \n",
       "FMR1        100                     45.0         4385697.7   \n",
       "\n",
       "                                              ImageText  \n",
       "Gene                                                     \n",
       "FMR1  Chromosome 4, Map12 has a calculated repeat co...  \n",
       "FMR1  Chromosome 4, Map16571 has a calculated repeat...  \n",
       "\n",
       "[2 rows x 27 columns]"
      ]
     },
     "execution_count": 555,
     "metadata": {},
     "output_type": "execute_result"
    }
   ],
   "source": [
    "# Helper function to load enfocus summary\n",
    "def load_repeat_summary_table(repeat_summary_path):\n",
    "    out_df = pd.read_csv(repeat_summary_path, dtype=object,  index_col=0)\n",
    "    # display(out_df.head())\n",
    "    return out_df\n",
    "\n",
    "# load_repeat_summary_table(input_summary_df['repeat_summary'][0]).head()\n",
    "load_repeat_summary_table(input_summary_df.iloc[95]['repeat_summary'])\n",
    "# input_summary_df.loc[input_summary_df['Sample_ID'] == 'RFC1_16']"
   ]
  },
  {
   "cell_type": "code",
   "execution_count": 556,
   "metadata": {},
   "outputs": [
    {
     "data": {
      "text/html": [
       "<div>\n",
       "<style scoped>\n",
       "    .dataframe tbody tr th:only-of-type {\n",
       "        vertical-align: middle;\n",
       "    }\n",
       "\n",
       "    .dataframe tbody tr th {\n",
       "        vertical-align: top;\n",
       "    }\n",
       "\n",
       "    .dataframe thead th {\n",
       "        text-align: right;\n",
       "    }\n",
       "</style>\n",
       "<table border=\"1\" class=\"dataframe\">\n",
       "  <thead>\n",
       "    <tr style=\"text-align: right;\">\n",
       "      <th></th>\n",
       "      <th>XmapEntryID</th>\n",
       "      <th>QryContigID</th>\n",
       "      <th>RefContigID</th>\n",
       "      <th>QryStartPos</th>\n",
       "      <th>QryEndPos</th>\n",
       "      <th>RefStartPos</th>\n",
       "      <th>RefEndPos</th>\n",
       "      <th>Orientation</th>\n",
       "      <th>Confidence</th>\n",
       "      <th>HitEnum</th>\n",
       "      <th>QryLen</th>\n",
       "      <th>RefLen</th>\n",
       "      <th>LabelChannel</th>\n",
       "      <th>Alignment</th>\n",
       "      <th>MapWt</th>\n",
       "      <th>MaxOutlierKB</th>\n",
       "    </tr>\n",
       "  </thead>\n",
       "  <tbody>\n",
       "    <tr>\n",
       "      <th>0</th>\n",
       "      <td>1</td>\n",
       "      <td>13188804</td>\n",
       "      <td>1271</td>\n",
       "      <td>483092.7</td>\n",
       "      <td>11274.1</td>\n",
       "      <td>12135.5</td>\n",
       "      <td>484810.7</td>\n",
       "      <td>-</td>\n",
       "      <td>58.38</td>\n",
       "      <td>26M1D4M1D7M1I4M1I2D1M1D1M1D7M1D1M1D4M</td>\n",
       "      <td>656515.9</td>\n",
       "      <td>643795.8</td>\n",
       "      <td>1</td>\n",
       "      <td>(1,57)(2,56)(3,55)(4,54)(5,53)(6,52)(7,51)(8,5...</td>\n",
       "      <td>1.0</td>\n",
       "      <td>0.885</td>\n",
       "    </tr>\n",
       "  </tbody>\n",
       "</table>\n",
       "</div>"
      ],
      "text/plain": [
       "  XmapEntryID QryContigID RefContigID QryStartPos QryEndPos RefStartPos  \\\n",
       "0           1    13188804        1271    483092.7   11274.1     12135.5   \n",
       "\n",
       "  RefEndPos Orientation Confidence  \\\n",
       "0  484810.7           -      58.38   \n",
       "\n",
       "                                         HitEnum    QryLen    RefLen  \\\n",
       "0          26M1D4M1D7M1I4M1I2D1M1D1M1D7M1D1M1D4M  656515.9  643795.8   \n",
       "\n",
       "  LabelChannel                                          Alignment MapWt  \\\n",
       "0            1  (1,57)(2,56)(3,55)(4,54)(5,53)(6,52)(7,51)(8,5...   1.0   \n",
       "\n",
       "  MaxOutlierKB  \n",
       "0        0.885  "
      ]
     },
     "metadata": {},
     "output_type": "display_data"
    },
    {
     "data": {
      "text/html": [
       "<div>\n",
       "<style scoped>\n",
       "    .dataframe tbody tr th:only-of-type {\n",
       "        vertical-align: middle;\n",
       "    }\n",
       "\n",
       "    .dataframe tbody tr th {\n",
       "        vertical-align: top;\n",
       "    }\n",
       "\n",
       "    .dataframe thead th {\n",
       "        text-align: right;\n",
       "    }\n",
       "</style>\n",
       "<table border=\"1\" class=\"dataframe\">\n",
       "  <thead>\n",
       "    <tr style=\"text-align: right;\">\n",
       "      <th></th>\n",
       "      <th>XmapEntryID</th>\n",
       "      <th>QryContigID</th>\n",
       "      <th>RefContigID</th>\n",
       "      <th>QryStartPos</th>\n",
       "      <th>QryEndPos</th>\n",
       "      <th>RefStartPos</th>\n",
       "      <th>RefEndPos</th>\n",
       "      <th>Orientation</th>\n",
       "      <th>Confidence</th>\n",
       "      <th>HitEnum</th>\n",
       "      <th>QryLen</th>\n",
       "      <th>RefLen</th>\n",
       "      <th>LabelChannel</th>\n",
       "      <th>Alignment</th>\n",
       "      <th>MapWt</th>\n",
       "      <th>MaxOutlierKB</th>\n",
       "    </tr>\n",
       "  </thead>\n",
       "  <tbody>\n",
       "    <tr>\n",
       "      <th>0</th>\n",
       "      <td>1</td>\n",
       "      <td>17862463</td>\n",
       "      <td>1272</td>\n",
       "      <td>30410.4</td>\n",
       "      <td>512173.6</td>\n",
       "      <td>41079.3</td>\n",
       "      <td>524669.3</td>\n",
       "      <td>+</td>\n",
       "      <td>55.09</td>\n",
       "      <td>4M1D1M1D5M1I2M1D1M1D3M1D3M1D12M1I5M1D3...</td>\n",
       "      <td>516811.7</td>\n",
       "      <td>605916.8</td>\n",
       "      <td>1</td>\n",
       "      <td>(1,2)(2,3)(3,4)(4,5)(6,6)(8,7)(9,8)(10,9)(11,1...</td>\n",
       "      <td>1.0</td>\n",
       "      <td>6.778</td>\n",
       "    </tr>\n",
       "  </tbody>\n",
       "</table>\n",
       "</div>"
      ],
      "text/plain": [
       "  XmapEntryID QryContigID RefContigID QryStartPos QryEndPos RefStartPos  \\\n",
       "0           1    17862463        1272     30410.4  512173.6     41079.3   \n",
       "\n",
       "  RefEndPos Orientation Confidence  \\\n",
       "0  524669.3           +      55.09   \n",
       "\n",
       "                                             HitEnum    QryLen    RefLen  \\\n",
       "0          4M1D1M1D5M1I2M1D1M1D3M1D3M1D12M1I5M1D3...  516811.7  605916.8   \n",
       "\n",
       "  LabelChannel                                          Alignment MapWt  \\\n",
       "0            1  (1,2)(2,3)(3,4)(4,5)(6,6)(8,7)(9,8)(10,9)(11,1...   1.0   \n",
       "\n",
       "  MaxOutlierKB  \n",
       "0        6.778  "
      ]
     },
     "metadata": {},
     "output_type": "display_data"
    },
    {
     "data": {
      "text/html": [
       "<div>\n",
       "<style scoped>\n",
       "    .dataframe tbody tr th:only-of-type {\n",
       "        vertical-align: middle;\n",
       "    }\n",
       "\n",
       "    .dataframe tbody tr th {\n",
       "        vertical-align: top;\n",
       "    }\n",
       "\n",
       "    .dataframe thead th {\n",
       "        text-align: right;\n",
       "    }\n",
       "</style>\n",
       "<table border=\"1\" class=\"dataframe\">\n",
       "  <thead>\n",
       "    <tr style=\"text-align: right;\">\n",
       "      <th></th>\n",
       "      <th>XmapEntryID</th>\n",
       "      <th>QryContigID</th>\n",
       "      <th>RefContigID</th>\n",
       "      <th>QryStartPos</th>\n",
       "      <th>QryEndPos</th>\n",
       "      <th>RefStartPos</th>\n",
       "      <th>RefEndPos</th>\n",
       "      <th>Orientation</th>\n",
       "      <th>Confidence</th>\n",
       "      <th>HitEnum</th>\n",
       "      <th>QryLen</th>\n",
       "      <th>RefLen</th>\n",
       "      <th>LabelChannel</th>\n",
       "      <th>Alignment</th>\n",
       "      <th>MapWt</th>\n",
       "      <th>MaxOutlierKB</th>\n",
       "    </tr>\n",
       "  </thead>\n",
       "  <tbody>\n",
       "    <tr>\n",
       "      <th>0</th>\n",
       "      <td>1</td>\n",
       "      <td>7494907</td>\n",
       "      <td>31</td>\n",
       "      <td>3455.6</td>\n",
       "      <td>377617.8</td>\n",
       "      <td>3455.6</td>\n",
       "      <td>378123.5</td>\n",
       "      <td>+</td>\n",
       "      <td>66.42</td>\n",
       "      <td>1M1D5M1I3M1I3M1D12M1D1M1D2M1D9M1D3M2D3...</td>\n",
       "      <td>384125.6</td>\n",
       "      <td>10964465.8</td>\n",
       "      <td>1</td>\n",
       "      <td>(1,1)(3,2)(4,3)(5,4)(6,5)(7,6)(8,8)(9,9)(10,10...</td>\n",
       "      <td>1.0</td>\n",
       "      <td>0.0</td>\n",
       "    </tr>\n",
       "  </tbody>\n",
       "</table>\n",
       "</div>"
      ],
      "text/plain": [
       "  XmapEntryID QryContigID RefContigID QryStartPos QryEndPos RefStartPos  \\\n",
       "0           1     7494907          31      3455.6  377617.8      3455.6   \n",
       "\n",
       "  RefEndPos Orientation Confidence  \\\n",
       "0  378123.5           +      66.42   \n",
       "\n",
       "                                             HitEnum    QryLen      RefLen  \\\n",
       "0          1M1D5M1I3M1I3M1D12M1D1M1D2M1D9M1D3M2D3...  384125.6  10964465.8   \n",
       "\n",
       "  LabelChannel                                          Alignment MapWt  \\\n",
       "0            1  (1,1)(3,2)(4,3)(5,4)(6,5)(7,6)(8,8)(9,9)(10,10...   1.0   \n",
       "\n",
       "  MaxOutlierKB  \n",
       "0          0.0  "
      ]
     },
     "metadata": {},
     "output_type": "display_data"
    },
    {
     "data": {
      "text/html": [
       "<div>\n",
       "<style scoped>\n",
       "    .dataframe tbody tr th:only-of-type {\n",
       "        vertical-align: middle;\n",
       "    }\n",
       "\n",
       "    .dataframe tbody tr th {\n",
       "        vertical-align: top;\n",
       "    }\n",
       "\n",
       "    .dataframe thead th {\n",
       "        text-align: right;\n",
       "    }\n",
       "</style>\n",
       "<table border=\"1\" class=\"dataframe\">\n",
       "  <thead>\n",
       "    <tr style=\"text-align: right;\">\n",
       "      <th></th>\n",
       "      <th>XmapEntryID</th>\n",
       "      <th>QryContigID</th>\n",
       "      <th>RefContigID</th>\n",
       "      <th>QryStartPos</th>\n",
       "      <th>QryEndPos</th>\n",
       "      <th>RefStartPos</th>\n",
       "      <th>RefEndPos</th>\n",
       "      <th>Orientation</th>\n",
       "      <th>Confidence</th>\n",
       "      <th>HitEnum</th>\n",
       "      <th>QryLen</th>\n",
       "      <th>RefLen</th>\n",
       "      <th>LabelChannel</th>\n",
       "      <th>Alignment</th>\n",
       "      <th>MapWt</th>\n",
       "      <th>MaxOutlierKB</th>\n",
       "    </tr>\n",
       "  </thead>\n",
       "  <tbody>\n",
       "    <tr>\n",
       "      <th>0</th>\n",
       "      <td>1</td>\n",
       "      <td>2891422</td>\n",
       "      <td>32</td>\n",
       "      <td>134299.5</td>\n",
       "      <td>8964.5</td>\n",
       "      <td>2321.0</td>\n",
       "      <td>128101.9</td>\n",
       "      <td>-</td>\n",
       "      <td>23.95</td>\n",
       "      <td>12M1D2M1I6M1D1M</td>\n",
       "      <td>527205.6</td>\n",
       "      <td>10970732.5</td>\n",
       "      <td>1</td>\n",
       "      <td>(1,22)(2,21)(3,20)(4,19)(5,18)(6,17)(7,16)(8,1...</td>\n",
       "      <td>1.0</td>\n",
       "      <td>0.0</td>\n",
       "    </tr>\n",
       "  </tbody>\n",
       "</table>\n",
       "</div>"
      ],
      "text/plain": [
       "  XmapEntryID QryContigID RefContigID QryStartPos QryEndPos RefStartPos  \\\n",
       "0           1     2891422          32    134299.5    8964.5      2321.0   \n",
       "\n",
       "  RefEndPos Orientation Confidence                  HitEnum    QryLen  \\\n",
       "0  128101.9           -      23.95          12M1D2M1I6M1D1M  527205.6   \n",
       "\n",
       "       RefLen LabelChannel                                          Alignment  \\\n",
       "0  10970732.5            1  (1,22)(2,21)(3,20)(4,19)(5,18)(6,17)(7,16)(8,1...   \n",
       "\n",
       "  MapWt MaxOutlierKB  \n",
       "0   1.0          0.0  "
      ]
     },
     "metadata": {},
     "output_type": "display_data"
    }
   ],
   "source": [
    "# Helper function to get smap table without preceding \"#...\"\" lines\n",
    "def get_xmap_table(xmap_path):\n",
    "\n",
    "    with open(xmap_path) as file:\n",
    "        for line in file:\n",
    "            if line[0:2] == \"#h\":\n",
    "                header = line[3:].strip()\n",
    "            elif line[0:2] == \"#f\":\n",
    "                # print(line)\n",
    "                break\n",
    "            elif line[0:1] == \"#\":\n",
    "                pass\n",
    "        \n",
    "        data = [line.strip() for line in file]\n",
    "        # print(data[:100])\n",
    "        \n",
    "    df = pd.DataFrame([row.split('\\t') for row in data])\n",
    "    df.columns = header.split('\\t')[:len(df.columns)]\n",
    "    # print((header.split('\\t')))\n",
    "    return df\n",
    "\n",
    "# helper function to load .xmap xrow and compile details\n",
    "def load_enfocus_xmap_tables(list_xmap_paths):\n",
    "    xmap_paths = list_xmap_paths.split(', ')\n",
    "    xmap_tables = []\n",
    "    # print(xmap_paths)\n",
    "\n",
    "    for x in xmap_paths:\n",
    "        xmap_tables.append(get_xmap_table(x))\n",
    "\n",
    "    return xmap_tables\n",
    "\n",
    "for df in load_enfocus_xmap_tables(test_path):\n",
    "    display(df.head(1))"
   ]
  },
  {
   "cell_type": "code",
   "execution_count": 557,
   "metadata": {},
   "outputs": [],
   "source": [
    "# for each row of mol_d\n",
    "#   match QryContigID beween mol_d and xrow\n",
    "#   if exist:\n",
    "#       append RefContigID (map ID)\n",
    "#       append size: QryStartPos - QryEndPos\n",
    "#   if not:\n",
    "#       append not found\n",
    "# output new mol_d table \n",
    "\n",
    "# helper function to append mol distance with xmap and distance\n",
    "def match_map_by_mol(mol_d, xmap):\n",
    "\n",
    "\n",
    "    meta_mapID = [] \n",
    "    meta_mapSize = [] \n",
    "\n",
    "    out_df = mol_d.copy()\n",
    "    out_df['RefContigID'] = -1\n",
    "    out_df['QryContigSize'] = -1\n",
    "    out_df['MapWt'] = -1\n",
    "    # display(out_df)\n",
    "    for x in xmap:\n",
    "        map_ID = x['RefContigID'].unique()[0]\n",
    "        x = x.astype({'RefEndPos':'float', 'RefStartPos':'float', 'QryEndPos':'float', 'QryStartPos':'float'})\n",
    "        map_size = x['RefEndPos'].max() - x['RefStartPos'].min()\n",
    "\n",
    "        # print(map_ID, ': ', map_size)\n",
    "        meta_mapID.append(map_ID)\n",
    "        meta_mapSize.append(map_size)\n",
    "        \n",
    "        # mol_d[map_ID] = mol_d.apply(lambda x: map_ID if x['QryContigID'])\n",
    "        x['QryContigSize'] = round(abs(x['QryEndPos'] - x['QryStartPos']), 0)\n",
    "        x['RefContigSize'] = x['RefEndPos'].max() - x['RefStartPos'].min()\n",
    "\n",
    "        # x_cols = ['QryContigID', 'RefContigID']\n",
    "        # x_cols = ['QryContigID', 'QryContigSize']\n",
    "        x_cols = ['QryContigID', 'MapWt']\n",
    "        out_df = out_df.merge(x[x_cols], on='QryContigID', how='left', suffixes=(None, f'_{map_ID}'))\n",
    "    \n",
    "    out_df = out_df.drop(columns = 'RefContigID')\n",
    "    out_df = out_df.drop(columns = 'QryContigSize')\n",
    "    out_df = out_df.drop(columns = 'MapWt')\n",
    "\n",
    "    # fill na w/ -1\n",
    "\n",
    "    meta_df = pd.DataFrame(\n",
    "        {'Map_ID':meta_mapID,\n",
    "        'Map_size': meta_mapSize}\n",
    "    )\n",
    "\n",
    "    # display(meta_df)\n",
    "\n",
    "    return out_df, meta_df\n",
    "\n",
    "# test_out = match_map_by_mol(sus5_mol_d, sus5_xmap)\n",
    "\n",
    "# sus5_mol_d = load_mol_distance_table(input_summary_df['tables'][0])\n",
    "# sus5_xmap = load_enfocus_xmap_tables(input_summary_df['files'][0])\n",
    "# out_df, meta_df = match_map_by_mol(sus5_mol_d, sus5_xmap)\n",
    "\n",
    "r16_mol_d = load_mol_distance_table(input_summary_df.iloc[95]['tables'])\n",
    "r16_xmap = load_enfocus_xmap_tables(input_summary_df.iloc[95]['files'])\n",
    "out_df, meta_df = match_map_by_mol(r16_mol_d, r16_xmap)"
   ]
  },
  {
   "cell_type": "code",
   "execution_count": 558,
   "metadata": {},
   "outputs": [],
   "source": [
    "# Helper function to split MapIDs into alleles by repeat count\n",
    "def assign_allele_by_repeat_count(meta_df):\n",
    "    # get mean repeat count\n",
    "    mean_count = repeat_count_col.mean()\n",
    "    "
   ]
  },
  {
   "cell_type": "code",
   "execution_count": 559,
   "metadata": {},
   "outputs": [
    {
     "name": "stdout",
     "output_type": "stream",
     "text": [
      "['MapWt_12', 'MapWt_16571']\n"
     ]
    }
   ],
   "source": [
    "# helper function to choose the map with highest MapWt score\n",
    "def assign_best_map_ID(mol_df, in_meta_df, repeat_summary_df):\n",
    "    out_df = mol_df.copy(deep=True)\n",
    "\n",
    "    # find only MapWt columns\n",
    "    meta_df = in_meta_df.copy(deep=True)\n",
    "    meta_df = meta_df.rename(columns={'Map_ID':'MapID'})\n",
    "    meta_df = meta_df.merge(repeat_summary_df[['MapID', 'Count_repeat']], on='MapID', how='left')\n",
    "    meta_df = meta_df.sort_values(by=['Map_size'], ascending=False)\n",
    "\n",
    "    # display(meta_df)\n",
    "    meta_df['Count_repeat'] = meta_df['Count_repeat'].fillna('Not in Enfocus')\n",
    "    meta_df['Count_repeat'] = meta_df['Count_repeat'].astype(str).str.replace('-1', 'Unknown')\n",
    "    # enfocus_maps = list(meta_df.loc[(meta_df['Count_repeat'] != 'Not in Enfocus') | (meta_df['Count_repeat'] != 'Unknown'), 'MapID'])\n",
    "    enfocus_maps = list(meta_df.loc[~meta_df['Count_repeat'].isin(['Not in Enfocus', 'Unknown']), 'MapID'])\n",
    "    enfocus_maps = ['MapWt_'+x for x in enfocus_maps]\n",
    "    # print(enfocus_maps)\n",
    "\n",
    "    # use lambda x to choose highest value, return column name of highest value\n",
    "    # MapWt_cols = [col for col in out_df.columns if 'MapWt' in col]\n",
    "    MapWt_cols = enfocus_maps\n",
    "\n",
    "    print(MapWt_cols)\n",
    "    \n",
    "    out_df[MapWt_cols] = out_df[MapWt_cols].astype('float64')\n",
    "    out_df['best_mapID'] = out_df[MapWt_cols].idxmax(axis=1)\n",
    "\n",
    "    # display(out_df)\n",
    "    out_df['best_mapID'] = out_df['best_mapID'].fillna(\"Not Found\")\n",
    "    out_df['best_mapID'] = out_df['best_mapID'].astype(str).str.replace('MapWt_', '')\n",
    "    \n",
    "    return out_df, meta_df\n",
    "\n",
    "# sus5_repeat_summary = load_repeat_summary_table(input_summary_df['repeat_summary'][0])\n",
    "# main, meta = assign_best_map_ID(out_df, meta_df, sus5_repeat_summary)\n",
    "\n",
    "r16_mol_d = load_mol_distance_table(input_summary_df.iloc[95]['tables'])\n",
    "r16_xmap = load_enfocus_xmap_tables(input_summary_df.iloc[95]['files'])\n",
    "out_df, meta_df = match_map_by_mol(r16_mol_d, r16_xmap)\n",
    "r16_repeat_summary = load_repeat_summary_table(input_summary_df.loc[95]['repeat_summary'])\n",
    "main, meta = assign_best_map_ID(out_df, meta_df, r16_repeat_summary)"
   ]
  },
  {
   "cell_type": "code",
   "execution_count": 560,
   "metadata": {},
   "outputs": [
    {
     "data": {
      "text/html": [
       "<div>\n",
       "<style scoped>\n",
       "    .dataframe tbody tr th:only-of-type {\n",
       "        vertical-align: middle;\n",
       "    }\n",
       "\n",
       "    .dataframe tbody tr th {\n",
       "        vertical-align: top;\n",
       "    }\n",
       "\n",
       "    .dataframe thead th {\n",
       "        text-align: right;\n",
       "    }\n",
       "</style>\n",
       "<table border=\"1\" class=\"dataframe\">\n",
       "  <thead>\n",
       "    <tr style=\"text-align: right;\">\n",
       "      <th></th>\n",
       "      <th>QryContigID</th>\n",
       "      <th>Qrylabel.x</th>\n",
       "      <th>refpos.x</th>\n",
       "      <th>QryPos.x</th>\n",
       "      <th>Qrylabel.y</th>\n",
       "      <th>refpos.y</th>\n",
       "      <th>QryPos.y</th>\n",
       "      <th>distance</th>\n",
       "      <th>refstartlabelid</th>\n",
       "      <th>refendlabelid</th>\n",
       "      <th>refdistance</th>\n",
       "      <th>MapWt_12</th>\n",
       "      <th>MapWt_16571</th>\n",
       "      <th>best_mapID</th>\n",
       "    </tr>\n",
       "  </thead>\n",
       "  <tbody>\n",
       "    <tr>\n",
       "      <th>0</th>\n",
       "      <td>3255</td>\n",
       "      <td>24</td>\n",
       "      <td>39339156</td>\n",
       "      <td>145676.1</td>\n",
       "      <td>28</td>\n",
       "      <td>39362886.5</td>\n",
       "      <td>169407</td>\n",
       "      <td>23731</td>\n",
       "      <td>7722</td>\n",
       "      <td>7725</td>\n",
       "      <td>23730.5</td>\n",
       "      <td>NaN</td>\n",
       "      <td>NaN</td>\n",
       "      <td>Not Found</td>\n",
       "    </tr>\n",
       "    <tr>\n",
       "      <th>1</th>\n",
       "      <td>113308</td>\n",
       "      <td>40</td>\n",
       "      <td>39339156</td>\n",
       "      <td>202183.3</td>\n",
       "      <td>43</td>\n",
       "      <td>39362886.5</td>\n",
       "      <td>228900.3</td>\n",
       "      <td>26717</td>\n",
       "      <td>7722</td>\n",
       "      <td>7725</td>\n",
       "      <td>23730.5</td>\n",
       "      <td>NaN</td>\n",
       "      <td>1.000000</td>\n",
       "      <td>16571</td>\n",
       "    </tr>\n",
       "    <tr>\n",
       "      <th>2</th>\n",
       "      <td>204187</td>\n",
       "      <td>22</td>\n",
       "      <td>39339156</td>\n",
       "      <td>132093</td>\n",
       "      <td>19</td>\n",
       "      <td>39362886.5</td>\n",
       "      <td>105112.1</td>\n",
       "      <td>26981</td>\n",
       "      <td>7722</td>\n",
       "      <td>7725</td>\n",
       "      <td>23730.5</td>\n",
       "      <td>NaN</td>\n",
       "      <td>1.000000</td>\n",
       "      <td>16571</td>\n",
       "    </tr>\n",
       "    <tr>\n",
       "      <th>3</th>\n",
       "      <td>253240</td>\n",
       "      <td>57</td>\n",
       "      <td>39339156</td>\n",
       "      <td>313348.9</td>\n",
       "      <td>54</td>\n",
       "      <td>39362886.5</td>\n",
       "      <td>289842.5</td>\n",
       "      <td>23506</td>\n",
       "      <td>7722</td>\n",
       "      <td>7725</td>\n",
       "      <td>23730.5</td>\n",
       "      <td>1.0</td>\n",
       "      <td>0.547872</td>\n",
       "      <td>12</td>\n",
       "    </tr>\n",
       "    <tr>\n",
       "      <th>4</th>\n",
       "      <td>258273</td>\n",
       "      <td>15</td>\n",
       "      <td>39339156</td>\n",
       "      <td>79249.9</td>\n",
       "      <td>17</td>\n",
       "      <td>39362886.5</td>\n",
       "      <td>102729.7</td>\n",
       "      <td>23480</td>\n",
       "      <td>7722</td>\n",
       "      <td>7725</td>\n",
       "      <td>23730.5</td>\n",
       "      <td>1.0</td>\n",
       "      <td>NaN</td>\n",
       "      <td>12</td>\n",
       "    </tr>\n",
       "    <tr>\n",
       "      <th>...</th>\n",
       "      <td>...</td>\n",
       "      <td>...</td>\n",
       "      <td>...</td>\n",
       "      <td>...</td>\n",
       "      <td>...</td>\n",
       "      <td>...</td>\n",
       "      <td>...</td>\n",
       "      <td>...</td>\n",
       "      <td>...</td>\n",
       "      <td>...</td>\n",
       "      <td>...</td>\n",
       "      <td>...</td>\n",
       "      <td>...</td>\n",
       "      <td>...</td>\n",
       "    </tr>\n",
       "    <tr>\n",
       "      <th>169</th>\n",
       "      <td>6018228</td>\n",
       "      <td>19</td>\n",
       "      <td>39339156</td>\n",
       "      <td>115696</td>\n",
       "      <td>16</td>\n",
       "      <td>39362886.5</td>\n",
       "      <td>89035.9</td>\n",
       "      <td>26660</td>\n",
       "      <td>7722</td>\n",
       "      <td>7725</td>\n",
       "      <td>23730.5</td>\n",
       "      <td>NaN</td>\n",
       "      <td>1.000000</td>\n",
       "      <td>16571</td>\n",
       "    </tr>\n",
       "    <tr>\n",
       "      <th>170</th>\n",
       "      <td>6084062</td>\n",
       "      <td>23</td>\n",
       "      <td>39339156</td>\n",
       "      <td>110362.7</td>\n",
       "      <td>26</td>\n",
       "      <td>39362886.5</td>\n",
       "      <td>137003.9</td>\n",
       "      <td>26641</td>\n",
       "      <td>7722</td>\n",
       "      <td>7725</td>\n",
       "      <td>23730.5</td>\n",
       "      <td>NaN</td>\n",
       "      <td>NaN</td>\n",
       "      <td>Not Found</td>\n",
       "    </tr>\n",
       "    <tr>\n",
       "      <th>171</th>\n",
       "      <td>6091571</td>\n",
       "      <td>23</td>\n",
       "      <td>39339156</td>\n",
       "      <td>124329.2</td>\n",
       "      <td>25</td>\n",
       "      <td>39362886.5</td>\n",
       "      <td>151219.2</td>\n",
       "      <td>26890</td>\n",
       "      <td>7722</td>\n",
       "      <td>7725</td>\n",
       "      <td>23730.5</td>\n",
       "      <td>NaN</td>\n",
       "      <td>NaN</td>\n",
       "      <td>Not Found</td>\n",
       "    </tr>\n",
       "    <tr>\n",
       "      <th>172</th>\n",
       "      <td>6127818</td>\n",
       "      <td>9</td>\n",
       "      <td>39339156</td>\n",
       "      <td>51796.8</td>\n",
       "      <td>5</td>\n",
       "      <td>39362886.5</td>\n",
       "      <td>25433</td>\n",
       "      <td>26364</td>\n",
       "      <td>7722</td>\n",
       "      <td>7725</td>\n",
       "      <td>23730.5</td>\n",
       "      <td>NaN</td>\n",
       "      <td>1.000000</td>\n",
       "      <td>16571</td>\n",
       "    </tr>\n",
       "    <tr>\n",
       "      <th>173</th>\n",
       "      <td>6138140</td>\n",
       "      <td>14</td>\n",
       "      <td>39339156</td>\n",
       "      <td>76821.7</td>\n",
       "      <td>10</td>\n",
       "      <td>39362886.5</td>\n",
       "      <td>53035</td>\n",
       "      <td>23787</td>\n",
       "      <td>7722</td>\n",
       "      <td>7725</td>\n",
       "      <td>23730.5</td>\n",
       "      <td>NaN</td>\n",
       "      <td>NaN</td>\n",
       "      <td>Not Found</td>\n",
       "    </tr>\n",
       "  </tbody>\n",
       "</table>\n",
       "<p>174 rows × 14 columns</p>\n",
       "</div>"
      ],
      "text/plain": [
       "    QryContigID Qrylabel.x  refpos.x  QryPos.x Qrylabel.y    refpos.y  \\\n",
       "0          3255         24  39339156  145676.1         28  39362886.5   \n",
       "1        113308         40  39339156  202183.3         43  39362886.5   \n",
       "2        204187         22  39339156    132093         19  39362886.5   \n",
       "3        253240         57  39339156  313348.9         54  39362886.5   \n",
       "4        258273         15  39339156   79249.9         17  39362886.5   \n",
       "..          ...        ...       ...       ...        ...         ...   \n",
       "169     6018228         19  39339156    115696         16  39362886.5   \n",
       "170     6084062         23  39339156  110362.7         26  39362886.5   \n",
       "171     6091571         23  39339156  124329.2         25  39362886.5   \n",
       "172     6127818          9  39339156   51796.8          5  39362886.5   \n",
       "173     6138140         14  39339156   76821.7         10  39362886.5   \n",
       "\n",
       "     QryPos.y distance refstartlabelid refendlabelid refdistance  MapWt_12  \\\n",
       "0      169407    23731            7722          7725     23730.5       NaN   \n",
       "1    228900.3    26717            7722          7725     23730.5       NaN   \n",
       "2    105112.1    26981            7722          7725     23730.5       NaN   \n",
       "3    289842.5    23506            7722          7725     23730.5       1.0   \n",
       "4    102729.7    23480            7722          7725     23730.5       1.0   \n",
       "..        ...      ...             ...           ...         ...       ...   \n",
       "169   89035.9    26660            7722          7725     23730.5       NaN   \n",
       "170  137003.9    26641            7722          7725     23730.5       NaN   \n",
       "171  151219.2    26890            7722          7725     23730.5       NaN   \n",
       "172     25433    26364            7722          7725     23730.5       NaN   \n",
       "173     53035    23787            7722          7725     23730.5       NaN   \n",
       "\n",
       "     MapWt_16571 best_mapID  \n",
       "0            NaN  Not Found  \n",
       "1       1.000000      16571  \n",
       "2       1.000000      16571  \n",
       "3       0.547872         12  \n",
       "4            NaN         12  \n",
       "..           ...        ...  \n",
       "169     1.000000      16571  \n",
       "170          NaN  Not Found  \n",
       "171          NaN  Not Found  \n",
       "172     1.000000      16571  \n",
       "173          NaN  Not Found  \n",
       "\n",
       "[174 rows x 14 columns]"
      ]
     },
     "metadata": {},
     "output_type": "display_data"
    },
    {
     "data": {
      "text/html": [
       "<div>\n",
       "<style scoped>\n",
       "    .dataframe tbody tr th:only-of-type {\n",
       "        vertical-align: middle;\n",
       "    }\n",
       "\n",
       "    .dataframe tbody tr th {\n",
       "        vertical-align: top;\n",
       "    }\n",
       "\n",
       "    .dataframe thead th {\n",
       "        text-align: right;\n",
       "    }\n",
       "</style>\n",
       "<table border=\"1\" class=\"dataframe\">\n",
       "  <thead>\n",
       "    <tr style=\"text-align: right;\">\n",
       "      <th></th>\n",
       "      <th>MapID</th>\n",
       "      <th>Map_size</th>\n",
       "      <th>Count_repeat</th>\n",
       "    </tr>\n",
       "  </thead>\n",
       "  <tbody>\n",
       "    <tr>\n",
       "      <th>0</th>\n",
       "      <td>12</td>\n",
       "      <td>10448139.2</td>\n",
       "      <td>10</td>\n",
       "    </tr>\n",
       "    <tr>\n",
       "      <th>1</th>\n",
       "      <td>16571</td>\n",
       "      <td>4377388.6</td>\n",
       "      <td>643</td>\n",
       "    </tr>\n",
       "  </tbody>\n",
       "</table>\n",
       "</div>"
      ],
      "text/plain": [
       "   MapID    Map_size Count_repeat\n",
       "0     12  10448139.2           10\n",
       "1  16571   4377388.6          643"
      ]
     },
     "metadata": {},
     "output_type": "display_data"
    }
   ],
   "source": [
    "display(main, meta)"
   ]
  },
  {
   "cell_type": "code",
   "execution_count": 561,
   "metadata": {},
   "outputs": [],
   "source": [
    "# def assign_allele_to_meta_df(in_meta_df):\n",
    "#     meta_df = in_meta_df.copy()\n",
    "#     meta_df = meta_df.loc[~meta_df['Count_repeat'].isin(['Not in Enfocus', 'Unknown']), 'MapID']\n",
    "\n",
    "#     num_maps = len(meta_df)\n",
    "#     mean_repeat = meta_df['Count_repeat'].mean()\n",
    "#     median_repeat = meta_df['Count_repeat'].median()\n",
    "\n",
    "#     if num_maps == 1:\n",
    "#         meta_df['Allele'] = 1\n",
    "#     elif num_maps == 2:\n",
    "#         meta_df['Allele'] = [1,2]\n",
    "#     elif num_maps >2:\n",
    "#         meta_df['Allele']\n",
    "#     else:\n",
    "#         # no allele\n",
    "#         meta_df['Allele'] = None"
   ]
  },
  {
   "cell_type": "code",
   "execution_count": 562,
   "metadata": {},
   "outputs": [],
   "source": [
    "# test_out=match_map_by_mol(sus5_mol_d, sus5_xmap)\n",
    "# test_out.to_csv(rf\"C:/Users\\sshukor\\OneDrive - Bionano Genomics/Documents/Repeat Expansion Project/for_Radboud_repeat_expansion_paper/Mol_distance_mapped/test_susl005.tsv\", sep='\\t', index=False)\n",
    "out_path = rf\"C:/Users\\sshukor\\OneDrive - Bionano Genomics/Documents/Repeat Expansion Project/for_Radboud_repeat_expansion_paper/Mol_distance_mapped/\"\n",
    "with pd.ExcelWriter(f'{out_path}/sus005_test_output.xlsx') as writer:  # doctest: +SKIP\n",
    "    main.to_excel(writer, sheet_name='molecules_mapped')\n",
    "    meta.to_excel(writer, sheet_name='repeat_info')"
   ]
  },
  {
   "cell_type": "markdown",
   "metadata": {},
   "source": [
    "## Main"
   ]
  },
  {
   "cell_type": "code",
   "execution_count": 563,
   "metadata": {},
   "outputs": [],
   "source": [
    "def main_map_xmap_to_enfocus(mol_dist_table_path, xmap_tables_path, repeat_summary_path):\n",
    "    qry_mol_df = load_mol_distance_table(mol_dist_table_path)\n",
    "    xmap_df_list = load_enfocus_xmap_tables(xmap_tables_path)\n",
    "    repeat_summary_df = load_repeat_summary_table(repeat_summary_path) \n",
    "    out_df_1, meta_df_1 = match_map_by_mol(qry_mol_df, xmap_df_list)\n",
    "    out_df, meta_df = assign_best_map_ID(out_df_1, meta_df_1, repeat_summary_df)\n",
    "\n",
    "    meta_df['Allele'] = 'Not Assigned'\n",
    "\n",
    "    return out_df, meta_df"
   ]
  },
  {
   "cell_type": "markdown",
   "metadata": {},
   "source": [
    "### STEP 1: Connect molecule distance to enfocus output"
   ]
  },
  {
   "cell_type": "markdown",
   "metadata": {},
   "source": [
    "Each sample's molecule distance output and and Enfocus output (.xmap and repeat report summary) tables were parsed. Each molecule was matched with map IDs they map to in Enfocus, and the best map ID was chosen based on the largest map size with the best confidence (`MapWt`) score. A meta table of maps formed by these molecules was also output as another tab."
   ]
  },
  {
   "cell_type": "code",
   "execution_count": 564,
   "metadata": {},
   "outputs": [
    {
     "data": {
      "text/plain": [
       "'SUSL005'"
      ]
     },
     "metadata": {},
     "output_type": "display_data"
    },
    {
     "name": "stdout",
     "output_type": "stream",
     "text": [
      "['MapWt_32', 'MapWt_31', 'MapWt_1271', 'MapWt_1272']\n"
     ]
    },
    {
     "data": {
      "text/plain": [
       "'SUSL007'"
      ]
     },
     "metadata": {},
     "output_type": "display_data"
    },
    {
     "name": "stdout",
     "output_type": "stream",
     "text": [
      "['MapWt_42', 'MapWt_41', 'MapWt_1271', 'MapWt_1272', 'MapWt_2740']\n"
     ]
    },
    {
     "data": {
      "text/plain": [
       "'SUSL008'"
      ]
     },
     "metadata": {},
     "output_type": "display_data"
    },
    {
     "name": "stdout",
     "output_type": "stream",
     "text": [
      "['MapWt_3391', 'MapWt_3392']\n"
     ]
    },
    {
     "data": {
      "text/plain": [
       "'SUSL012'"
      ]
     },
     "metadata": {},
     "output_type": "display_data"
    },
    {
     "name": "stdout",
     "output_type": "stream",
     "text": [
      "['MapWt_5762', 'MapWt_5761']\n"
     ]
    },
    {
     "data": {
      "text/plain": [
       "'SUSL013'"
      ]
     },
     "metadata": {},
     "output_type": "display_data"
    },
    {
     "name": "stdout",
     "output_type": "stream",
     "text": [
      "['MapWt_41', 'MapWt_42', 'MapWt_1371', 'MapWt_1372']\n"
     ]
    },
    {
     "data": {
      "text/plain": [
       "'c9orf72_08-362'"
      ]
     },
     "metadata": {},
     "output_type": "display_data"
    },
    {
     "name": "stdout",
     "output_type": "stream",
     "text": [
      "['MapWt_12']\n"
     ]
    },
    {
     "data": {
      "text/plain": [
       "'c9orf72_106340'"
      ]
     },
     "metadata": {},
     "output_type": "display_data"
    },
    {
     "name": "stdout",
     "output_type": "stream",
     "text": [
      "['MapWt_12', 'MapWt_11', 'MapWt_411', 'MapWt_412']\n"
     ]
    },
    {
     "data": {
      "text/plain": [
       "'CNBP_01'"
      ]
     },
     "metadata": {},
     "output_type": "display_data"
    },
    {
     "name": "stdout",
     "output_type": "stream",
     "text": [
      "['MapWt_6141', 'MapWt_451']\n"
     ]
    },
    {
     "data": {
      "text/plain": [
       "'CNBP_02'"
      ]
     },
     "metadata": {},
     "output_type": "display_data"
    },
    {
     "name": "stdout",
     "output_type": "stream",
     "text": [
      "['MapWt_21', 'MapWt_351', 'MapWt_352']\n"
     ]
    },
    {
     "data": {
      "text/plain": [
       "'CNBP_03'"
      ]
     },
     "metadata": {},
     "output_type": "display_data"
    },
    {
     "name": "stdout",
     "output_type": "stream",
     "text": [
      "['MapWt_31', 'MapWt_32', 'MapWt_651', 'MapWt_652', 'MapWt_3981', 'MapWt_4650']\n"
     ]
    },
    {
     "data": {
      "text/plain": [
       "'CNBP_04'"
      ]
     },
     "metadata": {},
     "output_type": "display_data"
    },
    {
     "name": "stdout",
     "output_type": "stream",
     "text": [
      "['MapWt_22', 'MapWt_4631', 'MapWt_352', 'MapWt_4961', 'MapWt_3892']\n"
     ]
    },
    {
     "data": {
      "text/plain": [
       "'CNBP_05'"
      ]
     },
     "metadata": {},
     "output_type": "display_data"
    },
    {
     "name": "stdout",
     "output_type": "stream",
     "text": [
      "['MapWt_7562', 'MapWt_322', 'MapWt_392', 'MapWt_2681']\n"
     ]
    },
    {
     "data": {
      "text/plain": [
       "'CNBP_06'"
      ]
     },
     "metadata": {},
     "output_type": "display_data"
    },
    {
     "name": "stdout",
     "output_type": "stream",
     "text": [
      "['MapWt_22', 'MapWt_21', 'MapWt_1212', 'MapWt_1211', 'MapWt_2152', 'MapWt_2151', 'MapWt_2772', 'MapWt_2771']\n"
     ]
    },
    {
     "data": {
      "text/plain": [
       "'CNBP_07'"
      ]
     },
     "metadata": {},
     "output_type": "display_data"
    },
    {
     "name": "stdout",
     "output_type": "stream",
     "text": [
      "['MapWt_21', 'MapWt_971', 'MapWt_2562']\n"
     ]
    },
    {
     "data": {
      "text/plain": [
       "'CNBP_08'"
      ]
     },
     "metadata": {},
     "output_type": "display_data"
    },
    {
     "name": "stdout",
     "output_type": "stream",
     "text": [
      "['MapWt_31', 'MapWt_6452', 'MapWt_351', 'MapWt_352', 'MapWt_2400']\n"
     ]
    },
    {
     "data": {
      "text/plain": [
       "'CNBP_10'"
      ]
     },
     "metadata": {},
     "output_type": "display_data"
    },
    {
     "name": "stdout",
     "output_type": "stream",
     "text": [
      "['MapWt_22', 'MapWt_21', 'MapWt_361', 'MapWt_362', 'MapWt_1881', 'MapWt_1882', 'MapWt_2300', 'MapWt_3470', 'MapWt_3401', 'MapWt_3402']\n"
     ]
    },
    {
     "data": {
      "text/plain": [
       "'CNBP_11'"
      ]
     },
     "metadata": {},
     "output_type": "display_data"
    },
    {
     "name": "stdout",
     "output_type": "stream",
     "text": [
      "['MapWt_32', 'MapWt_5741', 'MapWt_581']\n"
     ]
    },
    {
     "data": {
      "text/plain": [
       "'CNBP_12'"
      ]
     },
     "metadata": {},
     "output_type": "display_data"
    },
    {
     "name": "stdout",
     "output_type": "stream",
     "text": [
      "['MapWt_21', 'MapWt_1032', 'MapWt_1031', 'MapWt_4190', 'MapWt_6790']\n"
     ]
    },
    {
     "data": {
      "text/plain": [
       "'CNBP_13'"
      ]
     },
     "metadata": {},
     "output_type": "display_data"
    },
    {
     "name": "stdout",
     "output_type": "stream",
     "text": [
      "['MapWt_31', 'MapWt_20552', 'MapWt_972', 'MapWt_1311', 'MapWt_1312', 'MapWt_11231']\n"
     ]
    },
    {
     "data": {
      "text/plain": [
       "'CNBP_14'"
      ]
     },
     "metadata": {},
     "output_type": "display_data"
    },
    {
     "name": "stdout",
     "output_type": "stream",
     "text": [
      "['MapWt_21', 'MapWt_11042', 'MapWt_352', 'MapWt_351', 'MapWt_2381', 'MapWt_2382']\n"
     ]
    },
    {
     "data": {
      "text/plain": [
       "'CNBP_15'"
      ]
     },
     "metadata": {},
     "output_type": "display_data"
    },
    {
     "name": "stdout",
     "output_type": "stream",
     "text": [
      "['MapWt_22', 'MapWt_21', 'MapWt_1041', 'MapWt_1042', 'MapWt_2320']\n"
     ]
    },
    {
     "data": {
      "text/plain": [
       "'CNBP_16'"
      ]
     },
     "metadata": {},
     "output_type": "display_data"
    },
    {
     "name": "stdout",
     "output_type": "stream",
     "text": [
      "['MapWt_21', 'MapWt_22', 'MapWt_101', 'MapWt_1252', 'MapWt_1251', 'MapWt_3760']\n"
     ]
    },
    {
     "data": {
      "text/plain": [
       "'CNBP_17'"
      ]
     },
     "metadata": {},
     "output_type": "display_data"
    },
    {
     "name": "stdout",
     "output_type": "stream",
     "text": [
      "['MapWt_21', 'MapWt_452', 'MapWt_5241']\n"
     ]
    },
    {
     "data": {
      "text/plain": [
       "'CNBP_18'"
      ]
     },
     "metadata": {},
     "output_type": "display_data"
    },
    {
     "name": "stdout",
     "output_type": "stream",
     "text": [
      "['MapWt_21', 'MapWt_6152', 'MapWt_382', 'MapWt_1151', 'MapWt_1152', 'MapWt_1522', 'MapWt_1521', 'MapWt_2281', 'MapWt_2282']\n"
     ]
    },
    {
     "data": {
      "text/plain": [
       "'CNBP_19'"
      ]
     },
     "metadata": {},
     "output_type": "display_data"
    },
    {
     "name": "stdout",
     "output_type": "stream",
     "text": [
      "['MapWt_32', 'MapWt_31', 'MapWt_1162', 'MapWt_1161', 'MapWt_2160']\n"
     ]
    },
    {
     "data": {
      "text/plain": [
       "'CNBP_20'"
      ]
     },
     "metadata": {},
     "output_type": "display_data"
    },
    {
     "name": "stdout",
     "output_type": "stream",
     "text": [
      "['MapWt_21', 'MapWt_420', 'MapWt_641', 'MapWt_642', 'MapWt_2982']\n"
     ]
    },
    {
     "data": {
      "text/plain": [
       "'CNBP_21'"
      ]
     },
     "metadata": {},
     "output_type": "display_data"
    },
    {
     "name": "stdout",
     "output_type": "stream",
     "text": [
      "['MapWt_12', 'MapWt_331', 'MapWt_1872', 'MapWt_1871']\n"
     ]
    },
    {
     "data": {
      "text/plain": [
       "'CNBP_22'"
      ]
     },
     "metadata": {},
     "output_type": "display_data"
    },
    {
     "name": "stdout",
     "output_type": "stream",
     "text": [
      "['MapWt_31', 'MapWt_8402', 'MapWt_1311']\n"
     ]
    },
    {
     "data": {
      "text/plain": [
       "'CNBP_23'"
      ]
     },
     "metadata": {},
     "output_type": "display_data"
    },
    {
     "name": "stdout",
     "output_type": "stream",
     "text": [
      "['MapWt_32', 'MapWt_31', 'MapWt_381', 'MapWt_382', 'MapWt_3900']\n"
     ]
    },
    {
     "data": {
      "text/plain": [
       "'CNBP_24'"
      ]
     },
     "metadata": {},
     "output_type": "display_data"
    },
    {
     "name": "stdout",
     "output_type": "stream",
     "text": [
      "['MapWt_15802', 'MapWt_23691', 'MapWt_531', 'MapWt_532', 'MapWt_1231', 'MapWt_1232', 'MapWt_1740']\n"
     ]
    },
    {
     "data": {
      "text/plain": [
       "'CNBP_25'"
      ]
     },
     "metadata": {},
     "output_type": "display_data"
    },
    {
     "name": "stdout",
     "output_type": "stream",
     "text": [
      "['MapWt_22', 'MapWt_12961', 'MapWt_1221', 'MapWt_1222', 'MapWt_1531', 'MapWt_1532', 'MapWt_3020']\n"
     ]
    },
    {
     "data": {
      "text/plain": [
       "'CNBP_26'"
      ]
     },
     "metadata": {},
     "output_type": "display_data"
    },
    {
     "name": "stdout",
     "output_type": "stream",
     "text": [
      "['MapWt_10642', 'MapWt_15951', 'MapWt_351', 'MapWt_352', 'MapWt_2052', 'MapWt_2051']\n"
     ]
    },
    {
     "data": {
      "text/plain": [
       "'DMPK_01'"
      ]
     },
     "metadata": {},
     "output_type": "display_data"
    },
    {
     "name": "stdout",
     "output_type": "stream",
     "text": [
      "['MapWt_6101', 'MapWt_6102']\n"
     ]
    },
    {
     "data": {
      "text/plain": [
       "'DMPK_02'"
      ]
     },
     "metadata": {},
     "output_type": "display_data"
    },
    {
     "name": "stdout",
     "output_type": "stream",
     "text": [
      "['MapWt_4302', 'MapWt_4301']\n"
     ]
    },
    {
     "data": {
      "text/plain": [
       "'DMPK_03'"
      ]
     },
     "metadata": {},
     "output_type": "display_data"
    },
    {
     "name": "stdout",
     "output_type": "stream",
     "text": [
      "['MapWt_7641']\n"
     ]
    },
    {
     "data": {
      "text/plain": [
       "'DMPK_04'"
      ]
     },
     "metadata": {},
     "output_type": "display_data"
    },
    {
     "name": "stdout",
     "output_type": "stream",
     "text": [
      "['MapWt_7851', 'MapWt_7852']\n"
     ]
    },
    {
     "data": {
      "text/plain": [
       "'DMPK_05'"
      ]
     },
     "metadata": {},
     "output_type": "display_data"
    },
    {
     "name": "stdout",
     "output_type": "stream",
     "text": [
      "['MapWt_7932', 'MapWt_7931', 'MapWt_2390']\n"
     ]
    },
    {
     "data": {
      "text/plain": [
       "'DMPK_05_repeat'"
      ]
     },
     "metadata": {},
     "output_type": "display_data"
    },
    {
     "name": "stdout",
     "output_type": "stream",
     "text": [
      "['MapWt_9382', 'MapWt_18731', 'MapWt_4100']\n"
     ]
    },
    {
     "data": {
      "text/plain": [
       "'DMPK_06'"
      ]
     },
     "metadata": {},
     "output_type": "display_data"
    },
    {
     "name": "stdout",
     "output_type": "stream",
     "text": [
      "['MapWt_7631', 'MapWt_15232']\n"
     ]
    },
    {
     "data": {
      "text/plain": [
       "'DMPK_07'"
      ]
     },
     "metadata": {},
     "output_type": "display_data"
    },
    {
     "name": "stdout",
     "output_type": "stream",
     "text": [
      "['MapWt_6252', 'MapWt_12481']\n"
     ]
    },
    {
     "data": {
      "text/plain": [
       "'DMPK_08'"
      ]
     },
     "metadata": {},
     "output_type": "display_data"
    },
    {
     "name": "stdout",
     "output_type": "stream",
     "text": [
      "['MapWt_8392']\n"
     ]
    },
    {
     "data": {
      "text/plain": [
       "'DMPK_09'"
      ]
     },
     "metadata": {},
     "output_type": "display_data"
    },
    {
     "name": "stdout",
     "output_type": "stream",
     "text": [
      "['MapWt_7301', 'MapWt_14572']\n"
     ]
    },
    {
     "data": {
      "text/plain": [
       "'DMPK_10'"
      ]
     },
     "metadata": {},
     "output_type": "display_data"
    },
    {
     "name": "stdout",
     "output_type": "stream",
     "text": [
      "['MapWt_12712', 'MapWt_12711', 'MapWt_1940']\n"
     ]
    },
    {
     "data": {
      "text/plain": [
       "'DMPK_11'"
      ]
     },
     "metadata": {},
     "output_type": "display_data"
    },
    {
     "name": "stdout",
     "output_type": "stream",
     "text": [
      "['MapWt_40311', 'MapWt_26882', 'MapWt_2631', 'MapWt_2632']\n"
     ]
    },
    {
     "data": {
      "text/plain": [
       "'DMPK_12'"
      ]
     },
     "metadata": {},
     "output_type": "display_data"
    },
    {
     "name": "stdout",
     "output_type": "stream",
     "text": [
      "['MapWt_31151', 'MapWt_46702']\n"
     ]
    },
    {
     "data": {
      "text/plain": [
       "'DMPK_13'"
      ]
     },
     "metadata": {},
     "output_type": "display_data"
    },
    {
     "name": "stdout",
     "output_type": "stream",
     "text": [
      "['MapWt_16161', 'MapWt_16162', 'MapWt_2530']\n"
     ]
    },
    {
     "data": {
      "text/plain": [
       "'DMPK_14'"
      ]
     },
     "metadata": {},
     "output_type": "display_data"
    },
    {
     "name": "stdout",
     "output_type": "stream",
     "text": [
      "['MapWt_16731', 'MapWt_16732']\n"
     ]
    },
    {
     "data": {
      "text/plain": [
       "'DMPK_15'"
      ]
     },
     "metadata": {},
     "output_type": "display_data"
    },
    {
     "name": "stdout",
     "output_type": "stream",
     "text": [
      "['MapWt_20171', 'MapWt_20172', 'MapWt_4181', 'MapWt_5091', 'MapWt_4182', 'MapWt_7100', 'MapWt_7410']\n"
     ]
    },
    {
     "data": {
      "text/plain": [
       "'DMPK_16'"
      ]
     },
     "metadata": {},
     "output_type": "display_data"
    },
    {
     "name": "stdout",
     "output_type": "stream",
     "text": [
      "['MapWt_9722']\n"
     ]
    },
    {
     "data": {
      "text/plain": [
       "'DMPK_17'"
      ]
     },
     "metadata": {},
     "output_type": "display_data"
    },
    {
     "name": "stdout",
     "output_type": "stream",
     "text": [
      "['MapWt_14672', 'MapWt_14671', 'MapWt_4961', 'MapWt_4962']\n"
     ]
    },
    {
     "data": {
      "text/plain": [
       "'DMPK_18'"
      ]
     },
     "metadata": {},
     "output_type": "display_data"
    },
    {
     "name": "stdout",
     "output_type": "stream",
     "text": [
      "['MapWt_12422', 'MapWt_12421']\n"
     ]
    },
    {
     "data": {
      "text/plain": [
       "'DMPK_19'"
      ]
     },
     "metadata": {},
     "output_type": "display_data"
    },
    {
     "name": "stdout",
     "output_type": "stream",
     "text": [
      "['MapWt_15031', 'MapWt_5480']\n"
     ]
    },
    {
     "data": {
      "text/plain": [
       "'DMPK_20'"
      ]
     },
     "metadata": {},
     "output_type": "display_data"
    },
    {
     "name": "stdout",
     "output_type": "stream",
     "text": [
      "['MapWt_16832', 'MapWt_33631']\n"
     ]
    },
    {
     "data": {
      "text/plain": [
       "'DMPK_21'"
      ]
     },
     "metadata": {},
     "output_type": "display_data"
    },
    {
     "name": "stdout",
     "output_type": "stream",
     "text": [
      "['MapWt_9361', 'MapWt_9362']\n"
     ]
    },
    {
     "data": {
      "text/plain": [
       "'DMPK_22'"
      ]
     },
     "metadata": {},
     "output_type": "display_data"
    },
    {
     "name": "stdout",
     "output_type": "stream",
     "text": [
      "['MapWt_51', 'MapWt_52', 'MapWt_5150', 'MapWt_8160']\n"
     ]
    },
    {
     "data": {
      "text/plain": [
       "'DMPK_23'"
      ]
     },
     "metadata": {},
     "output_type": "display_data"
    },
    {
     "name": "stdout",
     "output_type": "stream",
     "text": [
      "['MapWt_14891', 'MapWt_14892', 'MapWt_3270', 'MapWt_4280']\n"
     ]
    },
    {
     "data": {
      "text/plain": [
       "'DMPK_24'"
      ]
     },
     "metadata": {},
     "output_type": "display_data"
    },
    {
     "name": "stdout",
     "output_type": "stream",
     "text": [
      "['MapWt_11361', 'MapWt_11362', 'MapWt_4482', 'MapWt_5380', 'MapWt_4481']\n"
     ]
    },
    {
     "data": {
      "text/plain": [
       "'DMPK_25'"
      ]
     },
     "metadata": {},
     "output_type": "display_data"
    },
    {
     "name": "stdout",
     "output_type": "stream",
     "text": [
      "['MapWt_12071', 'MapWt_6610']\n"
     ]
    },
    {
     "data": {
      "text/plain": [
       "'DMPK_26'"
      ]
     },
     "metadata": {},
     "output_type": "display_data"
    },
    {
     "name": "stdout",
     "output_type": "stream",
     "text": [
      "['MapWt_14212', 'MapWt_28401', 'MapWt_12440']\n"
     ]
    },
    {
     "data": {
      "text/plain": [
       "'DMPK_27'"
      ]
     },
     "metadata": {},
     "output_type": "display_data"
    },
    {
     "name": "stdout",
     "output_type": "stream",
     "text": [
      "['MapWt_51', 'MapWt_52']\n"
     ]
    },
    {
     "data": {
      "text/plain": [
       "'DMPK_28'"
      ]
     },
     "metadata": {},
     "output_type": "display_data"
    },
    {
     "name": "stdout",
     "output_type": "stream",
     "text": [
      "['MapWt_5792', 'MapWt_5791']\n"
     ]
    },
    {
     "data": {
      "text/plain": [
       "'DMPK_29'"
      ]
     },
     "metadata": {},
     "output_type": "display_data"
    },
    {
     "name": "stdout",
     "output_type": "stream",
     "text": [
      "['MapWt_8672', 'MapWt_17301']\n"
     ]
    },
    {
     "data": {
      "text/plain": [
       "'DMPK_30'"
      ]
     },
     "metadata": {},
     "output_type": "display_data"
    },
    {
     "name": "stdout",
     "output_type": "stream",
     "text": [
      "['MapWt_3941', 'MapWt_7862']\n"
     ]
    },
    {
     "data": {
      "text/plain": [
       "'DMPK_HvB_01'"
      ]
     },
     "metadata": {},
     "output_type": "display_data"
    },
    {
     "name": "stdout",
     "output_type": "stream",
     "text": [
      "['MapWt_5081', 'MapWt_52', 'MapWt_3311', 'MapWt_3312']\n"
     ]
    },
    {
     "data": {
      "text/plain": [
       "'DMPK_HvB_02'"
      ]
     },
     "metadata": {},
     "output_type": "display_data"
    },
    {
     "name": "stdout",
     "output_type": "stream",
     "text": [
      "['MapWt_52', 'MapWt_51', 'MapWt_2831', 'MapWt_2832']\n"
     ]
    },
    {
     "data": {
      "text/plain": [
       "'DMPK_HvB_03'"
      ]
     },
     "metadata": {},
     "output_type": "display_data"
    },
    {
     "name": "stdout",
     "output_type": "stream",
     "text": [
      "['MapWt_52', 'MapWt_4431', 'MapWt_871', 'MapWt_872']\n"
     ]
    },
    {
     "data": {
      "text/plain": [
       "'DMPK_RW_01'"
      ]
     },
     "metadata": {},
     "output_type": "display_data"
    },
    {
     "name": "stdout",
     "output_type": "stream",
     "text": [
      "['MapWt_6231', 'MapWt_18612', 'MapWt_2820', 'MapWt_4171', 'MapWt_4172']\n"
     ]
    },
    {
     "data": {
      "text/plain": [
       "'DMPK_RW_02'"
      ]
     },
     "metadata": {},
     "output_type": "display_data"
    },
    {
     "name": "stdout",
     "output_type": "stream",
     "text": [
      "['MapWt_5561', 'MapWt_11092', 'MapWt_2052', 'MapWt_2051']\n"
     ]
    },
    {
     "data": {
      "text/plain": [
       "'DMPK_RW_03'"
      ]
     },
     "metadata": {},
     "output_type": "display_data"
    },
    {
     "name": "stdout",
     "output_type": "stream",
     "text": [
      "['MapWt_10482', 'MapWt_15711', 'MapWt_2501', 'MapWt_2502']\n"
     ]
    },
    {
     "data": {
      "text/plain": [
       "'DMPK_RW_04'"
      ]
     },
     "metadata": {},
     "output_type": "display_data"
    },
    {
     "name": "stdout",
     "output_type": "stream",
     "text": [
      "['MapWt_7692', 'MapWt_11531']\n"
     ]
    },
    {
     "data": {
      "text/plain": [
       "'DMPK_RW_05'"
      ]
     },
     "metadata": {},
     "output_type": "display_data"
    },
    {
     "name": "stdout",
     "output_type": "stream",
     "text": [
      "['MapWt_11851', 'MapWt_11852', 'MapWt_2411', 'MapWt_2412']\n"
     ]
    },
    {
     "data": {
      "text/plain": [
       "'DMPK_RW_06'"
      ]
     },
     "metadata": {},
     "output_type": "display_data"
    },
    {
     "name": "stdout",
     "output_type": "stream",
     "text": [
      "['MapWt_4562', 'MapWt_9091']\n"
     ]
    },
    {
     "data": {
      "text/plain": [
       "'FMR1_01'"
      ]
     },
     "metadata": {},
     "output_type": "display_data"
    },
    {
     "name": "stdout",
     "output_type": "stream",
     "text": [
      "['MapWt_310', 'MapWt_2360']\n"
     ]
    },
    {
     "data": {
      "text/plain": [
       "'FMR1_02'"
      ]
     },
     "metadata": {},
     "output_type": "display_data"
    },
    {
     "name": "stdout",
     "output_type": "stream",
     "text": [
      "['MapWt_311']\n"
     ]
    },
    {
     "data": {
      "text/plain": [
       "'FMR1_03'"
      ]
     },
     "metadata": {},
     "output_type": "display_data"
    },
    {
     "name": "stdout",
     "output_type": "stream",
     "text": [
      "['MapWt_301']\n"
     ]
    },
    {
     "data": {
      "text/plain": [
       "'FMR1_05'"
      ]
     },
     "metadata": {},
     "output_type": "display_data"
    },
    {
     "name": "stdout",
     "output_type": "stream",
     "text": [
      "['MapWt_321', 'MapWt_322']\n"
     ]
    },
    {
     "data": {
      "text/plain": [
       "'FMR1_06'"
      ]
     },
     "metadata": {},
     "output_type": "display_data"
    },
    {
     "name": "stdout",
     "output_type": "stream",
     "text": [
      "['MapWt_301']\n"
     ]
    },
    {
     "data": {
      "text/plain": [
       "'FMR1_07'"
      ]
     },
     "metadata": {},
     "output_type": "display_data"
    },
    {
     "name": "stdout",
     "output_type": "stream",
     "text": [
      "['MapWt_301', 'MapWt_302']\n"
     ]
    },
    {
     "data": {
      "text/plain": [
       "'FMR1_08'"
      ]
     },
     "metadata": {},
     "output_type": "display_data"
    },
    {
     "name": "stdout",
     "output_type": "stream",
     "text": [
      "['MapWt_300']\n"
     ]
    },
    {
     "data": {
      "text/plain": [
       "'FMR1_09'"
      ]
     },
     "metadata": {},
     "output_type": "display_data"
    },
    {
     "name": "stdout",
     "output_type": "stream",
     "text": [
      "['MapWt_290']\n"
     ]
    },
    {
     "data": {
      "text/plain": [
       "'FMR1_10'"
      ]
     },
     "metadata": {},
     "output_type": "display_data"
    },
    {
     "name": "stdout",
     "output_type": "stream",
     "text": [
      "['MapWt_321', 'MapWt_13152']\n"
     ]
    },
    {
     "data": {
      "text/plain": [
       "'FMR1_11'"
      ]
     },
     "metadata": {},
     "output_type": "display_data"
    },
    {
     "name": "stdout",
     "output_type": "stream",
     "text": [
      "['MapWt_312', 'MapWt_311', 'MapWt_342', 'MapWt_11111']\n"
     ]
    },
    {
     "data": {
      "text/plain": [
       "'FMR1_12'"
      ]
     },
     "metadata": {},
     "output_type": "display_data"
    },
    {
     "name": "stdout",
     "output_type": "stream",
     "text": [
      "['MapWt_301', 'MapWt_302']\n"
     ]
    },
    {
     "data": {
      "text/plain": [
       "'FMR1_13'"
      ]
     },
     "metadata": {},
     "output_type": "display_data"
    },
    {
     "name": "stdout",
     "output_type": "stream",
     "text": [
      "['MapWt_302', 'MapWt_301']\n"
     ]
    },
    {
     "data": {
      "text/plain": [
       "'FMR1_14'"
      ]
     },
     "metadata": {},
     "output_type": "display_data"
    },
    {
     "name": "stdout",
     "output_type": "stream",
     "text": [
      "['MapWt_302', 'MapWt_301']\n"
     ]
    },
    {
     "data": {
      "text/plain": [
       "'FXN_01'"
      ]
     },
     "metadata": {},
     "output_type": "display_data"
    },
    {
     "name": "stdout",
     "output_type": "stream",
     "text": [
      "['MapWt_6501', 'MapWt_6502', 'MapWt_1862', 'MapWt_1861']\n"
     ]
    },
    {
     "data": {
      "text/plain": [
       "'FXN_02'"
      ]
     },
     "metadata": {},
     "output_type": "display_data"
    },
    {
     "name": "stdout",
     "output_type": "stream",
     "text": [
      "['MapWt_8611', 'MapWt_302', 'MapWt_301', 'MapWt_2051']\n"
     ]
    },
    {
     "data": {
      "text/plain": [
       "'NOP56_01'"
      ]
     },
     "metadata": {},
     "output_type": "display_data"
    },
    {
     "name": "stdout",
     "output_type": "stream",
     "text": [
      "['MapWt_51', 'MapWt_52', 'MapWt_311']\n"
     ]
    },
    {
     "data": {
      "text/plain": [
       "'NOP56_02'"
      ]
     },
     "metadata": {},
     "output_type": "display_data"
    },
    {
     "name": "stdout",
     "output_type": "stream",
     "text": [
      "['MapWt_41', 'MapWt_1172']\n"
     ]
    },
    {
     "data": {
      "text/plain": [
       "'RFC1_01'"
      ]
     },
     "metadata": {},
     "output_type": "display_data"
    },
    {
     "name": "stdout",
     "output_type": "stream",
     "text": [
      "['MapWt_11', 'MapWt_12', 'MapWt_751', 'MapWt_752']\n"
     ]
    },
    {
     "data": {
      "text/plain": [
       "'RFC1_02'"
      ]
     },
     "metadata": {},
     "output_type": "display_data"
    },
    {
     "name": "stdout",
     "output_type": "stream",
     "text": [
      "['MapWt_12', 'MapWt_11']\n"
     ]
    },
    {
     "data": {
      "text/plain": [
       "'RFC1_03'"
      ]
     },
     "metadata": {},
     "output_type": "display_data"
    },
    {
     "name": "stdout",
     "output_type": "stream",
     "text": [
      "['MapWt_11', 'MapWt_12', 'MapWt_741', 'MapWt_742']\n"
     ]
    },
    {
     "data": {
      "text/plain": [
       "'RFC1_04'"
      ]
     },
     "metadata": {},
     "output_type": "display_data"
    },
    {
     "name": "stdout",
     "output_type": "stream",
     "text": [
      "['MapWt_12', 'MapWt_11']\n"
     ]
    },
    {
     "data": {
      "text/plain": [
       "'RFC1_05'"
      ]
     },
     "metadata": {},
     "output_type": "display_data"
    },
    {
     "name": "stdout",
     "output_type": "stream",
     "text": [
      "['MapWt_12', 'MapWt_11', 'MapWt_2321', 'MapWt_2322']\n"
     ]
    },
    {
     "data": {
      "text/plain": [
       "'RFC1_06'"
      ]
     },
     "metadata": {},
     "output_type": "display_data"
    },
    {
     "name": "stdout",
     "output_type": "stream",
     "text": [
      "['MapWt_11', 'MapWt_12', 'MapWt_2512', 'MapWt_2511']\n"
     ]
    },
    {
     "data": {
      "text/plain": [
       "'RFC1_07'"
      ]
     },
     "metadata": {},
     "output_type": "display_data"
    },
    {
     "name": "stdout",
     "output_type": "stream",
     "text": [
      "['MapWt_12', 'MapWt_16571']\n"
     ]
    },
    {
     "data": {
      "text/plain": [
       "'RFC1_08'"
      ]
     },
     "metadata": {},
     "output_type": "display_data"
    },
    {
     "name": "stdout",
     "output_type": "stream",
     "text": [
      "['MapWt_12']\n"
     ]
    },
    {
     "data": {
      "text/plain": [
       "'RFC1_09'"
      ]
     },
     "metadata": {},
     "output_type": "display_data"
    },
    {
     "name": "stdout",
     "output_type": "stream",
     "text": [
      "['MapWt_12', 'MapWt_11', 'MapWt_1392', 'MapWt_1391', 'MapWt_6760']\n"
     ]
    },
    {
     "data": {
      "text/plain": [
       "'RFC1_10'"
      ]
     },
     "metadata": {},
     "output_type": "display_data"
    },
    {
     "name": "stdout",
     "output_type": "stream",
     "text": [
      "['MapWt_11', 'MapWt_12', 'MapWt_671', 'MapWt_672']\n"
     ]
    },
    {
     "data": {
      "text/plain": [
       "'RFC1_11'"
      ]
     },
     "metadata": {},
     "output_type": "display_data"
    },
    {
     "name": "stdout",
     "output_type": "stream",
     "text": [
      "['MapWt_12', 'MapWt_13181']\n"
     ]
    },
    {
     "data": {
      "text/plain": [
       "'RFC1_12'"
      ]
     },
     "metadata": {},
     "output_type": "display_data"
    },
    {
     "name": "stdout",
     "output_type": "stream",
     "text": [
      "['MapWt_12', 'MapWt_11', 'MapWt_661', 'MapWt_662']\n"
     ]
    },
    {
     "data": {
      "text/plain": [
       "'RFC1_13'"
      ]
     },
     "metadata": {},
     "output_type": "display_data"
    },
    {
     "name": "stdout",
     "output_type": "stream",
     "text": [
      "['MapWt_12', 'MapWt_11']\n"
     ]
    },
    {
     "data": {
      "text/plain": [
       "'RFC1_14'"
      ]
     },
     "metadata": {},
     "output_type": "display_data"
    },
    {
     "name": "stdout",
     "output_type": "stream",
     "text": [
      "['MapWt_11', 'MapWt_3120']\n"
     ]
    },
    {
     "data": {
      "text/plain": [
       "'RFC1_15'"
      ]
     },
     "metadata": {},
     "output_type": "display_data"
    },
    {
     "name": "stdout",
     "output_type": "stream",
     "text": [
      "['MapWt_11', 'MapWt_12', 'MapWt_1200']\n"
     ]
    },
    {
     "data": {
      "text/plain": [
       "'RFC1_16'"
      ]
     },
     "metadata": {},
     "output_type": "display_data"
    },
    {
     "name": "stdout",
     "output_type": "stream",
     "text": [
      "['MapWt_11', 'MapWt_12', 'MapWt_3001', 'MapWt_3002', 'MapWt_12170', 'MapWt_12180']\n"
     ]
    },
    {
     "data": {
      "text/plain": [
       "'RFC1_17'"
      ]
     },
     "metadata": {},
     "output_type": "display_data"
    },
    {
     "name": "stdout",
     "output_type": "stream",
     "text": [
      "['MapWt_9421', 'MapWt_32']\n"
     ]
    },
    {
     "data": {
      "text/plain": [
       "'RFC1_18'"
      ]
     },
     "metadata": {},
     "output_type": "display_data"
    },
    {
     "name": "stdout",
     "output_type": "stream",
     "text": [
      "['MapWt_12', 'MapWt_11', 'MapWt_1511', 'MapWt_1391', 'MapWt_1392', 'MapWt_1512', 'MapWt_2812', 'MapWt_2811']\n"
     ]
    },
    {
     "data": {
      "text/plain": [
       "'RFC1_19'"
      ]
     },
     "metadata": {},
     "output_type": "display_data"
    },
    {
     "name": "stdout",
     "output_type": "stream",
     "text": [
      "['MapWt_12', 'MapWt_11', 'MapWt_3102', 'MapWt_3101']\n"
     ]
    },
    {
     "data": {
      "text/plain": [
       "'RFC1_20'"
      ]
     },
     "metadata": {},
     "output_type": "display_data"
    },
    {
     "name": "stdout",
     "output_type": "stream",
     "text": [
      "['MapWt_12', 'MapWt_11']\n"
     ]
    },
    {
     "data": {
      "text/plain": [
       "'RFC1_21'"
      ]
     },
     "metadata": {},
     "output_type": "display_data"
    },
    {
     "name": "stdout",
     "output_type": "stream",
     "text": [
      "['MapWt_12', 'MapWt_11', 'MapWt_2141', 'MapWt_2142']\n"
     ]
    },
    {
     "data": {
      "text/plain": [
       "'RFC1_22'"
      ]
     },
     "metadata": {},
     "output_type": "display_data"
    },
    {
     "name": "stdout",
     "output_type": "stream",
     "text": [
      "['MapWt_11', 'MapWt_451', 'MapWt_452']\n"
     ]
    },
    {
     "data": {
      "text/plain": [
       "'RFC1_23'"
      ]
     },
     "metadata": {},
     "output_type": "display_data"
    },
    {
     "name": "stdout",
     "output_type": "stream",
     "text": [
      "['MapWt_11', 'MapWt_12']\n"
     ]
    },
    {
     "data": {
      "text/plain": [
       "'RFC1_24'"
      ]
     },
     "metadata": {},
     "output_type": "display_data"
    },
    {
     "name": "stdout",
     "output_type": "stream",
     "text": [
      "['MapWt_12', 'MapWt_6161', 'MapWt_1421', 'MapWt_1422']\n"
     ]
    },
    {
     "data": {
      "text/plain": [
       "'RFC1_25'"
      ]
     },
     "metadata": {},
     "output_type": "display_data"
    },
    {
     "name": "stdout",
     "output_type": "stream",
     "text": [
      "['MapWt_12', 'MapWt_11']\n"
     ]
    },
    {
     "data": {
      "text/plain": [
       "'RFC1_26'"
      ]
     },
     "metadata": {},
     "output_type": "display_data"
    },
    {
     "name": "stdout",
     "output_type": "stream",
     "text": [
      "['MapWt_11', 'MapWt_12']\n"
     ]
    },
    {
     "data": {
      "text/plain": [
       "'RFC1_27'"
      ]
     },
     "metadata": {},
     "output_type": "display_data"
    },
    {
     "name": "stdout",
     "output_type": "stream",
     "text": [
      "['MapWt_11', 'MapWt_12', 'MapWt_691', 'MapWt_692']\n"
     ]
    },
    {
     "data": {
      "text/plain": [
       "'RFC1_28'"
      ]
     },
     "metadata": {},
     "output_type": "display_data"
    },
    {
     "name": "stdout",
     "output_type": "stream",
     "text": [
      "['MapWt_9302']\n"
     ]
    },
    {
     "data": {
      "text/plain": [
       "'RFC1_29'"
      ]
     },
     "metadata": {},
     "output_type": "display_data"
    },
    {
     "name": "stdout",
     "output_type": "stream",
     "text": [
      "['MapWt_12', 'MapWt_11']\n"
     ]
    },
    {
     "data": {
      "text/plain": [
       "'RFC1_30'"
      ]
     },
     "metadata": {},
     "output_type": "display_data"
    },
    {
     "name": "stdout",
     "output_type": "stream",
     "text": [
      "['MapWt_12', 'MapWt_11', 'MapWt_402', 'MapWt_401']\n"
     ]
    },
    {
     "data": {
      "text/plain": [
       "'STARD7_39292'"
      ]
     },
     "metadata": {},
     "output_type": "display_data"
    },
    {
     "name": "stdout",
     "output_type": "stream",
     "text": [
      "['MapWt_7211', 'MapWt_1521']\n"
     ]
    }
   ],
   "source": [
    "samples = pd.read_csv(rf\"C:/Users\\sshukor\\OneDrive - Bionano Genomics/Documents/Repeat Expansion Project/for_Radboud_repeat_expansion_paper/Mol_distance_mapped/mol_dist_xmap_input_summary.csv\")\n",
    "\n",
    "for s in samples.itertuples():\n",
    "    display(s[1])\n",
    "    # display(s[2])\n",
    "    # display(s[3])\n",
    "    # display(s[5])\n",
    "    sample_name = s[1]\n",
    "    out_df, meta_df = main_map_xmap_to_enfocus(s[2], s[3], s[5])\n",
    "\n",
    "    # display(out_df, meta_df)\n",
    "    # out_df.to_csv(rf\"C:/Users\\sshukor\\OneDrive - Bionano Genomics/Documents/Repeat Expansion Project/for_Radboud_repeat_expansion_paper/Mol_distance_mapped/{sample_name}_complete_data_mapped.tsv\", sep='\\t', index=False)\n",
    "\n",
    "    out_path = rf\"C:/Users\\sshukor\\OneDrive - Bionano Genomics/Documents/Repeat Expansion Project/for_Radboud_repeat_expansion_paper/Mol_distance_mapped/\"\n",
    "    with pd.ExcelWriter(f'{out_path}/{sample_name}_complete_data_mapped.xlsx') as writer:  # doctest: +SKIP\n",
    "        out_df.to_excel(writer, sheet_name='molecules_mapped')\n",
    "        meta_df.to_excel(writer, sheet_name='repeat_info')"
   ]
  },
  {
   "cell_type": "markdown",
   "metadata": {},
   "source": [
    "### STEP 2: QC - Inspect Percent of molecules mapped to Enfocus"
   ]
  },
  {
   "cell_type": "markdown",
   "metadata": {},
   "source": [
    "Map rate of molecule distance molecules that successfully map to Enfocus map IDs were calculated for each sample. 100% means that all molecule distance script molecules were found in at least one Enfocus map."
   ]
  },
  {
   "cell_type": "code",
   "execution_count": 565,
   "metadata": {},
   "outputs": [
    {
     "data": {
      "text/plain": [
       "'SUSL005'"
      ]
     },
     "metadata": {},
     "output_type": "display_data"
    },
    {
     "name": "stdout",
     "output_type": "stream",
     "text": [
      "1.0\n"
     ]
    },
    {
     "data": {
      "text/plain": [
       "'SUSL007'"
      ]
     },
     "metadata": {},
     "output_type": "display_data"
    },
    {
     "name": "stdout",
     "output_type": "stream",
     "text": [
      "1.0\n"
     ]
    },
    {
     "data": {
      "text/plain": [
       "'SUSL008'"
      ]
     },
     "metadata": {},
     "output_type": "display_data"
    },
    {
     "name": "stdout",
     "output_type": "stream",
     "text": [
      "1.0\n"
     ]
    },
    {
     "data": {
      "text/plain": [
       "'SUSL012'"
      ]
     },
     "metadata": {},
     "output_type": "display_data"
    },
    {
     "name": "stdout",
     "output_type": "stream",
     "text": [
      "0.660377358490566\n"
     ]
    },
    {
     "data": {
      "text/plain": [
       "'SUSL013'"
      ]
     },
     "metadata": {},
     "output_type": "display_data"
    },
    {
     "name": "stdout",
     "output_type": "stream",
     "text": [
      "0.9861111111111112\n"
     ]
    },
    {
     "data": {
      "text/plain": [
       "'c9orf72_08-362'"
      ]
     },
     "metadata": {},
     "output_type": "display_data"
    },
    {
     "name": "stdout",
     "output_type": "stream",
     "text": [
      "0.4140625\n"
     ]
    },
    {
     "data": {
      "text/plain": [
       "'c9orf72_106340'"
      ]
     },
     "metadata": {},
     "output_type": "display_data"
    },
    {
     "name": "stdout",
     "output_type": "stream",
     "text": [
      "0.8235294117647058\n"
     ]
    },
    {
     "data": {
      "text/plain": [
       "'CNBP_01'"
      ]
     },
     "metadata": {},
     "output_type": "display_data"
    },
    {
     "name": "stdout",
     "output_type": "stream",
     "text": [
      "1.0\n"
     ]
    },
    {
     "data": {
      "text/plain": [
       "'CNBP_02'"
      ]
     },
     "metadata": {},
     "output_type": "display_data"
    },
    {
     "name": "stdout",
     "output_type": "stream",
     "text": [
      "0.7421875\n"
     ]
    },
    {
     "data": {
      "text/plain": [
       "'CNBP_03'"
      ]
     },
     "metadata": {},
     "output_type": "display_data"
    },
    {
     "name": "stdout",
     "output_type": "stream",
     "text": [
      "0.8913043478260869\n"
     ]
    },
    {
     "data": {
      "text/plain": [
       "'CNBP_04'"
      ]
     },
     "metadata": {},
     "output_type": "display_data"
    },
    {
     "name": "stdout",
     "output_type": "stream",
     "text": [
      "0.8343949044585988\n"
     ]
    },
    {
     "data": {
      "text/plain": [
       "'CNBP_05'"
      ]
     },
     "metadata": {},
     "output_type": "display_data"
    },
    {
     "name": "stdout",
     "output_type": "stream",
     "text": [
      "0.86\n"
     ]
    },
    {
     "data": {
      "text/plain": [
       "'CNBP_06'"
      ]
     },
     "metadata": {},
     "output_type": "display_data"
    },
    {
     "name": "stdout",
     "output_type": "stream",
     "text": [
      "0.9122807017543859\n"
     ]
    },
    {
     "data": {
      "text/plain": [
       "'CNBP_07'"
      ]
     },
     "metadata": {},
     "output_type": "display_data"
    },
    {
     "name": "stdout",
     "output_type": "stream",
     "text": [
      "0.7615384615384615\n"
     ]
    },
    {
     "data": {
      "text/plain": [
       "'CNBP_08'"
      ]
     },
     "metadata": {},
     "output_type": "display_data"
    },
    {
     "name": "stdout",
     "output_type": "stream",
     "text": [
      "0.940677966101695\n"
     ]
    },
    {
     "data": {
      "text/plain": [
       "'CNBP_10'"
      ]
     },
     "metadata": {},
     "output_type": "display_data"
    },
    {
     "name": "stdout",
     "output_type": "stream",
     "text": [
      "0.9555555555555556\n"
     ]
    },
    {
     "data": {
      "text/plain": [
       "'CNBP_11'"
      ]
     },
     "metadata": {},
     "output_type": "display_data"
    },
    {
     "name": "stdout",
     "output_type": "stream",
     "text": [
      "0.6565656565656566\n"
     ]
    },
    {
     "data": {
      "text/plain": [
       "'CNBP_12'"
      ]
     },
     "metadata": {},
     "output_type": "display_data"
    },
    {
     "name": "stdout",
     "output_type": "stream",
     "text": [
      "0.7261146496815286\n"
     ]
    },
    {
     "data": {
      "text/plain": [
       "'CNBP_13'"
      ]
     },
     "metadata": {},
     "output_type": "display_data"
    },
    {
     "name": "stdout",
     "output_type": "stream",
     "text": [
      "0.8709677419354839\n"
     ]
    },
    {
     "data": {
      "text/plain": [
       "'CNBP_14'"
      ]
     },
     "metadata": {},
     "output_type": "display_data"
    },
    {
     "name": "stdout",
     "output_type": "stream",
     "text": [
      "0.9365079365079365\n"
     ]
    },
    {
     "data": {
      "text/plain": [
       "'CNBP_15'"
      ]
     },
     "metadata": {},
     "output_type": "display_data"
    },
    {
     "name": "stdout",
     "output_type": "stream",
     "text": [
      "0.698019801980198\n"
     ]
    },
    {
     "data": {
      "text/plain": [
       "'CNBP_16'"
      ]
     },
     "metadata": {},
     "output_type": "display_data"
    },
    {
     "name": "stdout",
     "output_type": "stream",
     "text": [
      "0.7671957671957672\n"
     ]
    },
    {
     "data": {
      "text/plain": [
       "'CNBP_17'"
      ]
     },
     "metadata": {},
     "output_type": "display_data"
    },
    {
     "name": "stdout",
     "output_type": "stream",
     "text": [
      "0.42592592592592593\n"
     ]
    },
    {
     "data": {
      "text/plain": [
       "'CNBP_18'"
      ]
     },
     "metadata": {},
     "output_type": "display_data"
    },
    {
     "name": "stdout",
     "output_type": "stream",
     "text": [
      "0.9523809523809523\n"
     ]
    },
    {
     "data": {
      "text/plain": [
       "'CNBP_19'"
      ]
     },
     "metadata": {},
     "output_type": "display_data"
    },
    {
     "name": "stdout",
     "output_type": "stream",
     "text": [
      "0.8817204301075269\n"
     ]
    },
    {
     "data": {
      "text/plain": [
       "'CNBP_20'"
      ]
     },
     "metadata": {},
     "output_type": "display_data"
    },
    {
     "name": "stdout",
     "output_type": "stream",
     "text": [
      "0.8888888888888888\n"
     ]
    },
    {
     "data": {
      "text/plain": [
       "'CNBP_21'"
      ]
     },
     "metadata": {},
     "output_type": "display_data"
    },
    {
     "name": "stdout",
     "output_type": "stream",
     "text": [
      "0.7219512195121951\n"
     ]
    },
    {
     "data": {
      "text/plain": [
       "'CNBP_22'"
      ]
     },
     "metadata": {},
     "output_type": "display_data"
    },
    {
     "name": "stdout",
     "output_type": "stream",
     "text": [
      "0.7105263157894737\n"
     ]
    },
    {
     "data": {
      "text/plain": [
       "'CNBP_23'"
      ]
     },
     "metadata": {},
     "output_type": "display_data"
    },
    {
     "name": "stdout",
     "output_type": "stream",
     "text": [
      "0.9552238805970149\n"
     ]
    },
    {
     "data": {
      "text/plain": [
       "'CNBP_24'"
      ]
     },
     "metadata": {},
     "output_type": "display_data"
    },
    {
     "name": "stdout",
     "output_type": "stream",
     "text": [
      "0.9323308270676691\n"
     ]
    },
    {
     "data": {
      "text/plain": [
       "'CNBP_25'"
      ]
     },
     "metadata": {},
     "output_type": "display_data"
    },
    {
     "name": "stdout",
     "output_type": "stream",
     "text": [
      "0.981651376146789\n"
     ]
    },
    {
     "data": {
      "text/plain": [
       "'CNBP_26'"
      ]
     },
     "metadata": {},
     "output_type": "display_data"
    },
    {
     "name": "stdout",
     "output_type": "stream",
     "text": [
      "0.9032258064516129\n"
     ]
    },
    {
     "data": {
      "text/plain": [
       "'DMPK_01'"
      ]
     },
     "metadata": {},
     "output_type": "display_data"
    },
    {
     "name": "stdout",
     "output_type": "stream",
     "text": [
      "0.5963302752293578\n"
     ]
    },
    {
     "data": {
      "text/plain": [
       "'DMPK_02'"
      ]
     },
     "metadata": {},
     "output_type": "display_data"
    },
    {
     "name": "stdout",
     "output_type": "stream",
     "text": [
      "0.5858585858585859\n"
     ]
    },
    {
     "data": {
      "text/plain": [
       "'DMPK_03'"
      ]
     },
     "metadata": {},
     "output_type": "display_data"
    },
    {
     "name": "stdout",
     "output_type": "stream",
     "text": [
      "0.5575221238938053\n"
     ]
    },
    {
     "data": {
      "text/plain": [
       "'DMPK_04'"
      ]
     },
     "metadata": {},
     "output_type": "display_data"
    },
    {
     "name": "stdout",
     "output_type": "stream",
     "text": [
      "0.5663716814159292\n"
     ]
    },
    {
     "data": {
      "text/plain": [
       "'DMPK_05'"
      ]
     },
     "metadata": {},
     "output_type": "display_data"
    },
    {
     "name": "stdout",
     "output_type": "stream",
     "text": [
      "0.9428571428571428\n"
     ]
    },
    {
     "data": {
      "text/plain": [
       "'DMPK_05_repeat'"
      ]
     },
     "metadata": {},
     "output_type": "display_data"
    },
    {
     "name": "stdout",
     "output_type": "stream",
     "text": [
      "0.5390625\n"
     ]
    },
    {
     "data": {
      "text/plain": [
       "'DMPK_06'"
      ]
     },
     "metadata": {},
     "output_type": "display_data"
    },
    {
     "name": "stdout",
     "output_type": "stream",
     "text": [
      "0.543859649122807\n"
     ]
    },
    {
     "data": {
      "text/plain": [
       "'DMPK_07'"
      ]
     },
     "metadata": {},
     "output_type": "display_data"
    },
    {
     "name": "stdout",
     "output_type": "stream",
     "text": [
      "0.6181818181818182\n"
     ]
    },
    {
     "data": {
      "text/plain": [
       "'DMPK_08'"
      ]
     },
     "metadata": {},
     "output_type": "display_data"
    },
    {
     "name": "stdout",
     "output_type": "stream",
     "text": [
      "0.5892857142857143\n"
     ]
    },
    {
     "data": {
      "text/plain": [
       "'DMPK_09'"
      ]
     },
     "metadata": {},
     "output_type": "display_data"
    },
    {
     "name": "stdout",
     "output_type": "stream",
     "text": [
      "0.4748201438848921\n"
     ]
    },
    {
     "data": {
      "text/plain": [
       "'DMPK_10'"
      ]
     },
     "metadata": {},
     "output_type": "display_data"
    },
    {
     "name": "stdout",
     "output_type": "stream",
     "text": [
      "0.9156626506024096\n"
     ]
    },
    {
     "data": {
      "text/plain": [
       "'DMPK_11'"
      ]
     },
     "metadata": {},
     "output_type": "display_data"
    },
    {
     "name": "stdout",
     "output_type": "stream",
     "text": [
      "0.9017857142857143\n"
     ]
    },
    {
     "data": {
      "text/plain": [
       "'DMPK_12'"
      ]
     },
     "metadata": {},
     "output_type": "display_data"
    },
    {
     "name": "stdout",
     "output_type": "stream",
     "text": [
      "0.6666666666666666\n"
     ]
    },
    {
     "data": {
      "text/plain": [
       "'DMPK_13'"
      ]
     },
     "metadata": {},
     "output_type": "display_data"
    },
    {
     "name": "stdout",
     "output_type": "stream",
     "text": [
      "0.8924731182795699\n"
     ]
    },
    {
     "data": {
      "text/plain": [
       "'DMPK_14'"
      ]
     },
     "metadata": {},
     "output_type": "display_data"
    },
    {
     "name": "stdout",
     "output_type": "stream",
     "text": [
      "0.6111111111111112\n"
     ]
    },
    {
     "data": {
      "text/plain": [
       "'DMPK_15'"
      ]
     },
     "metadata": {},
     "output_type": "display_data"
    },
    {
     "name": "stdout",
     "output_type": "stream",
     "text": [
      "0.8846153846153846\n"
     ]
    },
    {
     "data": {
      "text/plain": [
       "'DMPK_16'"
      ]
     },
     "metadata": {},
     "output_type": "display_data"
    },
    {
     "name": "stdout",
     "output_type": "stream",
     "text": [
      "0.76\n"
     ]
    },
    {
     "data": {
      "text/plain": [
       "'DMPK_17'"
      ]
     },
     "metadata": {},
     "output_type": "display_data"
    },
    {
     "name": "stdout",
     "output_type": "stream",
     "text": [
      "0.84\n"
     ]
    },
    {
     "data": {
      "text/plain": [
       "'DMPK_18'"
      ]
     },
     "metadata": {},
     "output_type": "display_data"
    },
    {
     "name": "stdout",
     "output_type": "stream",
     "text": [
      "0.6262626262626263\n"
     ]
    },
    {
     "data": {
      "text/plain": [
       "'DMPK_19'"
      ]
     },
     "metadata": {},
     "output_type": "display_data"
    },
    {
     "name": "stdout",
     "output_type": "stream",
     "text": [
      "0.7209302325581395\n"
     ]
    },
    {
     "data": {
      "text/plain": [
       "'DMPK_20'"
      ]
     },
     "metadata": {},
     "output_type": "display_data"
    },
    {
     "name": "stdout",
     "output_type": "stream",
     "text": [
      "0.8518518518518519\n"
     ]
    },
    {
     "data": {
      "text/plain": [
       "'DMPK_21'"
      ]
     },
     "metadata": {},
     "output_type": "display_data"
    },
    {
     "name": "stdout",
     "output_type": "stream",
     "text": [
      "0.6153846153846154\n"
     ]
    },
    {
     "data": {
      "text/plain": [
       "'DMPK_22'"
      ]
     },
     "metadata": {},
     "output_type": "display_data"
    },
    {
     "name": "stdout",
     "output_type": "stream",
     "text": [
      "0.6576576576576577\n"
     ]
    },
    {
     "data": {
      "text/plain": [
       "'DMPK_23'"
      ]
     },
     "metadata": {},
     "output_type": "display_data"
    },
    {
     "name": "stdout",
     "output_type": "stream",
     "text": [
      "1.0\n"
     ]
    },
    {
     "data": {
      "text/plain": [
       "'DMPK_24'"
      ]
     },
     "metadata": {},
     "output_type": "display_data"
    },
    {
     "name": "stdout",
     "output_type": "stream",
     "text": [
      "0.7452830188679245\n"
     ]
    },
    {
     "data": {
      "text/plain": [
       "'DMPK_25'"
      ]
     },
     "metadata": {},
     "output_type": "display_data"
    },
    {
     "name": "stdout",
     "output_type": "stream",
     "text": [
      "0.7049180327868853\n"
     ]
    },
    {
     "data": {
      "text/plain": [
       "'DMPK_26'"
      ]
     },
     "metadata": {},
     "output_type": "display_data"
    },
    {
     "name": "stdout",
     "output_type": "stream",
     "text": [
      "0.6372549019607843\n"
     ]
    },
    {
     "data": {
      "text/plain": [
       "'DMPK_27'"
      ]
     },
     "metadata": {},
     "output_type": "display_data"
    },
    {
     "name": "stdout",
     "output_type": "stream",
     "text": [
      "0.5643564356435643\n"
     ]
    },
    {
     "data": {
      "text/plain": [
       "'DMPK_28'"
      ]
     },
     "metadata": {},
     "output_type": "display_data"
    },
    {
     "name": "stdout",
     "output_type": "stream",
     "text": [
      "0.41496598639455784\n"
     ]
    },
    {
     "data": {
      "text/plain": [
       "'DMPK_29'"
      ]
     },
     "metadata": {},
     "output_type": "display_data"
    },
    {
     "name": "stdout",
     "output_type": "stream",
     "text": [
      "0.52\n"
     ]
    },
    {
     "data": {
      "text/plain": [
       "'DMPK_30'"
      ]
     },
     "metadata": {},
     "output_type": "display_data"
    },
    {
     "name": "stdout",
     "output_type": "stream",
     "text": [
      "0.5614035087719298\n"
     ]
    },
    {
     "data": {
      "text/plain": [
       "'DMPK_HvB_01'"
      ]
     },
     "metadata": {},
     "output_type": "display_data"
    },
    {
     "name": "stdout",
     "output_type": "stream",
     "text": [
      "0.768\n"
     ]
    },
    {
     "data": {
      "text/plain": [
       "'DMPK_HvB_02'"
      ]
     },
     "metadata": {},
     "output_type": "display_data"
    },
    {
     "name": "stdout",
     "output_type": "stream",
     "text": [
      "0.8169014084507042\n"
     ]
    },
    {
     "data": {
      "text/plain": [
       "'DMPK_HvB_03'"
      ]
     },
     "metadata": {},
     "output_type": "display_data"
    },
    {
     "name": "stdout",
     "output_type": "stream",
     "text": [
      "0.6233766233766234\n"
     ]
    },
    {
     "data": {
      "text/plain": [
       "'DMPK_RW_01'"
      ]
     },
     "metadata": {},
     "output_type": "display_data"
    },
    {
     "name": "stdout",
     "output_type": "stream",
     "text": [
      "0.847457627118644\n"
     ]
    },
    {
     "data": {
      "text/plain": [
       "'DMPK_RW_02'"
      ]
     },
     "metadata": {},
     "output_type": "display_data"
    },
    {
     "name": "stdout",
     "output_type": "stream",
     "text": [
      "0.7175572519083969\n"
     ]
    },
    {
     "data": {
      "text/plain": [
       "'DMPK_RW_03'"
      ]
     },
     "metadata": {},
     "output_type": "display_data"
    },
    {
     "name": "stdout",
     "output_type": "stream",
     "text": [
      "0.648\n"
     ]
    },
    {
     "data": {
      "text/plain": [
       "'DMPK_RW_04'"
      ]
     },
     "metadata": {},
     "output_type": "display_data"
    },
    {
     "name": "stdout",
     "output_type": "stream",
     "text": [
      "0.46835443037974683\n"
     ]
    },
    {
     "data": {
      "text/plain": [
       "'DMPK_RW_05'"
      ]
     },
     "metadata": {},
     "output_type": "display_data"
    },
    {
     "name": "stdout",
     "output_type": "stream",
     "text": [
      "0.7481481481481481\n"
     ]
    },
    {
     "data": {
      "text/plain": [
       "'DMPK_RW_06'"
      ]
     },
     "metadata": {},
     "output_type": "display_data"
    },
    {
     "name": "stdout",
     "output_type": "stream",
     "text": [
      "0.46153846153846156\n"
     ]
    },
    {
     "data": {
      "text/plain": [
       "'FMR1_01'"
      ]
     },
     "metadata": {},
     "output_type": "display_data"
    },
    {
     "name": "stdout",
     "output_type": "stream",
     "text": [
      "0.9523809523809523\n"
     ]
    },
    {
     "data": {
      "text/plain": [
       "'FMR1_02'"
      ]
     },
     "metadata": {},
     "output_type": "display_data"
    },
    {
     "name": "stdout",
     "output_type": "stream",
     "text": [
      "0.5714285714285714\n"
     ]
    },
    {
     "data": {
      "text/plain": [
       "'FMR1_03'"
      ]
     },
     "metadata": {},
     "output_type": "display_data"
    },
    {
     "name": "stdout",
     "output_type": "stream",
     "text": [
      "0.9315068493150684\n"
     ]
    },
    {
     "data": {
      "text/plain": [
       "'FMR1_05'"
      ]
     },
     "metadata": {},
     "output_type": "display_data"
    },
    {
     "name": "stdout",
     "output_type": "stream",
     "text": [
      "0.7903225806451613\n"
     ]
    },
    {
     "data": {
      "text/plain": [
       "'FMR1_06'"
      ]
     },
     "metadata": {},
     "output_type": "display_data"
    },
    {
     "name": "stdout",
     "output_type": "stream",
     "text": [
      "0.9354838709677419\n"
     ]
    },
    {
     "data": {
      "text/plain": [
       "'FMR1_07'"
      ]
     },
     "metadata": {},
     "output_type": "display_data"
    },
    {
     "name": "stdout",
     "output_type": "stream",
     "text": [
      "0.5803571428571429\n"
     ]
    },
    {
     "data": {
      "text/plain": [
       "'FMR1_08'"
      ]
     },
     "metadata": {},
     "output_type": "display_data"
    },
    {
     "name": "stdout",
     "output_type": "stream",
     "text": [
      "0.575\n"
     ]
    },
    {
     "data": {
      "text/plain": [
       "'FMR1_09'"
      ]
     },
     "metadata": {},
     "output_type": "display_data"
    },
    {
     "name": "stdout",
     "output_type": "stream",
     "text": [
      "0.86\n"
     ]
    },
    {
     "data": {
      "text/plain": [
       "'FMR1_10'"
      ]
     },
     "metadata": {},
     "output_type": "display_data"
    },
    {
     "name": "stdout",
     "output_type": "stream",
     "text": [
      "0.8478260869565217\n"
     ]
    },
    {
     "data": {
      "text/plain": [
       "'FMR1_11'"
      ]
     },
     "metadata": {},
     "output_type": "display_data"
    },
    {
     "name": "stdout",
     "output_type": "stream",
     "text": [
      "0.8191489361702128\n"
     ]
    },
    {
     "data": {
      "text/plain": [
       "'FMR1_12'"
      ]
     },
     "metadata": {},
     "output_type": "display_data"
    },
    {
     "name": "stdout",
     "output_type": "stream",
     "text": [
      "0.4358974358974359\n"
     ]
    },
    {
     "data": {
      "text/plain": [
       "'FMR1_13'"
      ]
     },
     "metadata": {},
     "output_type": "display_data"
    },
    {
     "name": "stdout",
     "output_type": "stream",
     "text": [
      "0.8048780487804879\n"
     ]
    },
    {
     "data": {
      "text/plain": [
       "'FMR1_14'"
      ]
     },
     "metadata": {},
     "output_type": "display_data"
    },
    {
     "name": "stdout",
     "output_type": "stream",
     "text": [
      "0.828125\n"
     ]
    },
    {
     "data": {
      "text/plain": [
       "'FXN_01'"
      ]
     },
     "metadata": {},
     "output_type": "display_data"
    },
    {
     "name": "stdout",
     "output_type": "stream",
     "text": [
      "0.8242424242424242\n"
     ]
    },
    {
     "data": {
      "text/plain": [
       "'FXN_02'"
      ]
     },
     "metadata": {},
     "output_type": "display_data"
    },
    {
     "name": "stdout",
     "output_type": "stream",
     "text": [
      "0.865979381443299\n"
     ]
    },
    {
     "data": {
      "text/plain": [
       "'NOP56_01'"
      ]
     },
     "metadata": {},
     "output_type": "display_data"
    },
    {
     "name": "stdout",
     "output_type": "stream",
     "text": [
      "0.5315315315315315\n"
     ]
    },
    {
     "data": {
      "text/plain": [
       "'NOP56_02'"
      ]
     },
     "metadata": {},
     "output_type": "display_data"
    },
    {
     "name": "stdout",
     "output_type": "stream",
     "text": [
      "0.36492890995260663\n"
     ]
    },
    {
     "data": {
      "text/plain": [
       "'RFC1_01'"
      ]
     },
     "metadata": {},
     "output_type": "display_data"
    },
    {
     "name": "stdout",
     "output_type": "stream",
     "text": [
      "0.7073170731707317\n"
     ]
    },
    {
     "data": {
      "text/plain": [
       "'RFC1_02'"
      ]
     },
     "metadata": {},
     "output_type": "display_data"
    },
    {
     "name": "stdout",
     "output_type": "stream",
     "text": [
      "0.42073170731707316\n"
     ]
    },
    {
     "data": {
      "text/plain": [
       "'RFC1_03'"
      ]
     },
     "metadata": {},
     "output_type": "display_data"
    },
    {
     "name": "stdout",
     "output_type": "stream",
     "text": [
      "0.8253012048192772\n"
     ]
    },
    {
     "data": {
      "text/plain": [
       "'RFC1_04'"
      ]
     },
     "metadata": {},
     "output_type": "display_data"
    },
    {
     "name": "stdout",
     "output_type": "stream",
     "text": [
      "0.4550898203592814\n"
     ]
    },
    {
     "data": {
      "text/plain": [
       "'RFC1_05'"
      ]
     },
     "metadata": {},
     "output_type": "display_data"
    },
    {
     "name": "stdout",
     "output_type": "stream",
     "text": [
      "0.8671875\n"
     ]
    },
    {
     "data": {
      "text/plain": [
       "'RFC1_06'"
      ]
     },
     "metadata": {},
     "output_type": "display_data"
    },
    {
     "name": "stdout",
     "output_type": "stream",
     "text": [
      "0.6915422885572139\n"
     ]
    },
    {
     "data": {
      "text/plain": [
       "'RFC1_07'"
      ]
     },
     "metadata": {},
     "output_type": "display_data"
    },
    {
     "name": "stdout",
     "output_type": "stream",
     "text": [
      "0.4942528735632184\n"
     ]
    },
    {
     "data": {
      "text/plain": [
       "'RFC1_08'"
      ]
     },
     "metadata": {},
     "output_type": "display_data"
    },
    {
     "name": "stdout",
     "output_type": "stream",
     "text": [
      "0.32679738562091504\n"
     ]
    },
    {
     "data": {
      "text/plain": [
       "'RFC1_09'"
      ]
     },
     "metadata": {},
     "output_type": "display_data"
    },
    {
     "name": "stdout",
     "output_type": "stream",
     "text": [
      "0.8028169014084507\n"
     ]
    },
    {
     "data": {
      "text/plain": [
       "'RFC1_10'"
      ]
     },
     "metadata": {},
     "output_type": "display_data"
    },
    {
     "name": "stdout",
     "output_type": "stream",
     "text": [
      "0.6853146853146853\n"
     ]
    },
    {
     "data": {
      "text/plain": [
       "'RFC1_11'"
      ]
     },
     "metadata": {},
     "output_type": "display_data"
    },
    {
     "name": "stdout",
     "output_type": "stream",
     "text": [
      "0.8117647058823529\n"
     ]
    },
    {
     "data": {
      "text/plain": [
       "'RFC1_12'"
      ]
     },
     "metadata": {},
     "output_type": "display_data"
    },
    {
     "name": "stdout",
     "output_type": "stream",
     "text": [
      "0.6275862068965518\n"
     ]
    },
    {
     "data": {
      "text/plain": [
       "'RFC1_13'"
      ]
     },
     "metadata": {},
     "output_type": "display_data"
    },
    {
     "name": "stdout",
     "output_type": "stream",
     "text": [
      "0.47058823529411764\n"
     ]
    },
    {
     "data": {
      "text/plain": [
       "'RFC1_14'"
      ]
     },
     "metadata": {},
     "output_type": "display_data"
    },
    {
     "name": "stdout",
     "output_type": "stream",
     "text": [
      "0.7272727272727273\n"
     ]
    },
    {
     "data": {
      "text/plain": [
       "'RFC1_15'"
      ]
     },
     "metadata": {},
     "output_type": "display_data"
    },
    {
     "name": "stdout",
     "output_type": "stream",
     "text": [
      "0.62\n"
     ]
    },
    {
     "data": {
      "text/plain": [
       "'RFC1_16'"
      ]
     },
     "metadata": {},
     "output_type": "display_data"
    },
    {
     "name": "stdout",
     "output_type": "stream",
     "text": [
      "0.7631578947368421\n"
     ]
    },
    {
     "data": {
      "text/plain": [
       "'RFC1_17'"
      ]
     },
     "metadata": {},
     "output_type": "display_data"
    },
    {
     "name": "stdout",
     "output_type": "stream",
     "text": [
      "0.46107784431137727\n"
     ]
    },
    {
     "data": {
      "text/plain": [
       "'RFC1_18'"
      ]
     },
     "metadata": {},
     "output_type": "display_data"
    },
    {
     "name": "stdout",
     "output_type": "stream",
     "text": [
      "0.9508196721311475\n"
     ]
    },
    {
     "data": {
      "text/plain": [
       "'RFC1_19'"
      ]
     },
     "metadata": {},
     "output_type": "display_data"
    },
    {
     "name": "stdout",
     "output_type": "stream",
     "text": [
      "0.7686567164179104\n"
     ]
    },
    {
     "data": {
      "text/plain": [
       "'RFC1_20'"
      ]
     },
     "metadata": {},
     "output_type": "display_data"
    },
    {
     "name": "stdout",
     "output_type": "stream",
     "text": [
      "0.4875\n"
     ]
    },
    {
     "data": {
      "text/plain": [
       "'RFC1_21'"
      ]
     },
     "metadata": {},
     "output_type": "display_data"
    },
    {
     "name": "stdout",
     "output_type": "stream",
     "text": [
      "0.9009009009009009\n"
     ]
    },
    {
     "data": {
      "text/plain": [
       "'RFC1_22'"
      ]
     },
     "metadata": {},
     "output_type": "display_data"
    },
    {
     "name": "stdout",
     "output_type": "stream",
     "text": [
      "0.6642335766423357\n"
     ]
    },
    {
     "data": {
      "text/plain": [
       "'RFC1_23'"
      ]
     },
     "metadata": {},
     "output_type": "display_data"
    },
    {
     "name": "stdout",
     "output_type": "stream",
     "text": [
      "0.5524475524475524\n"
     ]
    },
    {
     "data": {
      "text/plain": [
       "'RFC1_24'"
      ]
     },
     "metadata": {},
     "output_type": "display_data"
    },
    {
     "name": "stdout",
     "output_type": "stream",
     "text": [
      "0.7351351351351352\n"
     ]
    },
    {
     "data": {
      "text/plain": [
       "'RFC1_25'"
      ]
     },
     "metadata": {},
     "output_type": "display_data"
    },
    {
     "name": "stdout",
     "output_type": "stream",
     "text": [
      "0.3967391304347826\n"
     ]
    },
    {
     "data": {
      "text/plain": [
       "'RFC1_26'"
      ]
     },
     "metadata": {},
     "output_type": "display_data"
    },
    {
     "name": "stdout",
     "output_type": "stream",
     "text": [
      "0.7654320987654321\n"
     ]
    },
    {
     "data": {
      "text/plain": [
       "'RFC1_27'"
      ]
     },
     "metadata": {},
     "output_type": "display_data"
    },
    {
     "name": "stdout",
     "output_type": "stream",
     "text": [
      "0.7380952380952381\n"
     ]
    },
    {
     "data": {
      "text/plain": [
       "'RFC1_28'"
      ]
     },
     "metadata": {},
     "output_type": "display_data"
    },
    {
     "name": "stdout",
     "output_type": "stream",
     "text": [
      "0.3805970149253731\n"
     ]
    },
    {
     "data": {
      "text/plain": [
       "'RFC1_29'"
      ]
     },
     "metadata": {},
     "output_type": "display_data"
    },
    {
     "name": "stdout",
     "output_type": "stream",
     "text": [
      "0.4375\n"
     ]
    },
    {
     "data": {
      "text/plain": [
       "'RFC1_30'"
      ]
     },
     "metadata": {},
     "output_type": "display_data"
    },
    {
     "name": "stdout",
     "output_type": "stream",
     "text": [
      "0.8782608695652174\n"
     ]
    },
    {
     "data": {
      "text/plain": [
       "'STARD7_39292'"
      ]
     },
     "metadata": {},
     "output_type": "display_data"
    },
    {
     "name": "stdout",
     "output_type": "stream",
     "text": [
      "0.6521739130434783\n"
     ]
    }
   ],
   "source": [
    "samples = pd.read_csv(rf\"C:/Users\\sshukor\\OneDrive - Bionano Genomics/Documents/Repeat Expansion Project/for_Radboud_repeat_expansion_paper/Mol_distance_mapped/mol_dist_xmap_input_summary.csv\")\n",
    "\n",
    "QC_status = []\n",
    "# for s in samples.iloc[95:96].itertuples():\n",
    "for s in samples.itertuples():\n",
    "    display(s[1])\n",
    "    sample_name = s[1]\n",
    "    mapped_df = pd.read_excel(f'{out_path}/{sample_name}_complete_data_mapped.xlsx', index_col=0)\n",
    "\n",
    "    # # check if mapped_df is empty\n",
    "    # IDs_found = list(mapped_df['best_mapID'].unique())\n",
    "\n",
    "    # print(IDs_found)\n",
    "\n",
    "    # if (len(IDs_found) == 1) & (IDs_found[0] == 'Not Found'):\n",
    "    #     # print('no molecules pass enfocus')\n",
    "    #     QC_status.append('No molecules pass enfocus')\n",
    "    # elif (len(IDs_found) > 1) & ('Not Found' in IDs_found):\n",
    "    #     QC_status.append('Some molecules pass enfocus')\n",
    "    # elif ('Not Found' not in IDs_found):\n",
    "    #     QC_status.append('All molecules pass enfocus')\n",
    "    # else:\n",
    "    #     percent_mol_mapped = len(mapped_df.loc[mapped_df['best_mapID'] != 'Not Found'])/len(mapped_df)\n",
    "    #     QC_status.append('unknown')\n",
    "    \n",
    "    percent_mol_mapped = len(mapped_df.loc[mapped_df['best_mapID'] != 'Not Found'])/len(mapped_df)\n",
    "    print(percent_mol_mapped)\n",
    "    QC_status.append(percent_mol_mapped)\n",
    "\n",
    "samples['percent_mol_mapped'] = QC_status\n",
    "\n",
    "samples.to_csv(rf\"C:/Users\\sshukor\\OneDrive - Bionano Genomics/Documents/Repeat Expansion Project/for_Radboud_repeat_expansion_paper/Mol_distance_mapped/mol_dist_xmap_input_summary.csv\", index=False)"
   ]
  },
  {
   "cell_type": "markdown",
   "metadata": {},
   "source": [
    "### STEP 3: Assign Allele to each file"
   ]
  },
  {
   "cell_type": "markdown",
   "metadata": {},
   "source": [
    "After step 2. each sample's meta tables were manually curated to designate alleles. Alleles were assigned based on de novo assembly and Enfocus estimated repeat expansion counts. Then, each mapped molecule was assigned an allele based on its curated meta table."
   ]
  },
  {
   "cell_type": "code",
   "execution_count": 566,
   "metadata": {},
   "outputs": [
    {
     "data": {
      "text/plain": [
       "'SUSL005'"
      ]
     },
     "metadata": {},
     "output_type": "display_data"
    },
    {
     "data": {
      "text/plain": [
       "'SUSL007'"
      ]
     },
     "metadata": {},
     "output_type": "display_data"
    },
    {
     "data": {
      "text/plain": [
       "'SUSL008'"
      ]
     },
     "metadata": {},
     "output_type": "display_data"
    },
    {
     "data": {
      "text/plain": [
       "'SUSL012'"
      ]
     },
     "metadata": {},
     "output_type": "display_data"
    },
    {
     "data": {
      "text/plain": [
       "'SUSL013'"
      ]
     },
     "metadata": {},
     "output_type": "display_data"
    },
    {
     "data": {
      "text/plain": [
       "'c9orf72_08-362'"
      ]
     },
     "metadata": {},
     "output_type": "display_data"
    },
    {
     "data": {
      "text/plain": [
       "'c9orf72_106340'"
      ]
     },
     "metadata": {},
     "output_type": "display_data"
    },
    {
     "data": {
      "text/plain": [
       "'CNBP_01'"
      ]
     },
     "metadata": {},
     "output_type": "display_data"
    },
    {
     "data": {
      "text/plain": [
       "'CNBP_02'"
      ]
     },
     "metadata": {},
     "output_type": "display_data"
    },
    {
     "data": {
      "text/plain": [
       "'CNBP_03'"
      ]
     },
     "metadata": {},
     "output_type": "display_data"
    },
    {
     "data": {
      "text/plain": [
       "'CNBP_04'"
      ]
     },
     "metadata": {},
     "output_type": "display_data"
    },
    {
     "data": {
      "text/plain": [
       "'CNBP_05'"
      ]
     },
     "metadata": {},
     "output_type": "display_data"
    },
    {
     "data": {
      "text/plain": [
       "'CNBP_06'"
      ]
     },
     "metadata": {},
     "output_type": "display_data"
    },
    {
     "data": {
      "text/plain": [
       "'CNBP_07'"
      ]
     },
     "metadata": {},
     "output_type": "display_data"
    },
    {
     "data": {
      "text/plain": [
       "'CNBP_08'"
      ]
     },
     "metadata": {},
     "output_type": "display_data"
    },
    {
     "data": {
      "text/plain": [
       "'CNBP_10'"
      ]
     },
     "metadata": {},
     "output_type": "display_data"
    },
    {
     "data": {
      "text/plain": [
       "'CNBP_11'"
      ]
     },
     "metadata": {},
     "output_type": "display_data"
    },
    {
     "data": {
      "text/plain": [
       "'CNBP_12'"
      ]
     },
     "metadata": {},
     "output_type": "display_data"
    },
    {
     "data": {
      "text/plain": [
       "'CNBP_13'"
      ]
     },
     "metadata": {},
     "output_type": "display_data"
    },
    {
     "data": {
      "text/plain": [
       "'CNBP_14'"
      ]
     },
     "metadata": {},
     "output_type": "display_data"
    },
    {
     "data": {
      "text/plain": [
       "'CNBP_15'"
      ]
     },
     "metadata": {},
     "output_type": "display_data"
    },
    {
     "data": {
      "text/plain": [
       "'CNBP_16'"
      ]
     },
     "metadata": {},
     "output_type": "display_data"
    },
    {
     "data": {
      "text/plain": [
       "'CNBP_17'"
      ]
     },
     "metadata": {},
     "output_type": "display_data"
    },
    {
     "data": {
      "text/plain": [
       "'CNBP_18'"
      ]
     },
     "metadata": {},
     "output_type": "display_data"
    },
    {
     "data": {
      "text/plain": [
       "'CNBP_19'"
      ]
     },
     "metadata": {},
     "output_type": "display_data"
    },
    {
     "data": {
      "text/plain": [
       "'CNBP_20'"
      ]
     },
     "metadata": {},
     "output_type": "display_data"
    },
    {
     "data": {
      "text/plain": [
       "'CNBP_21'"
      ]
     },
     "metadata": {},
     "output_type": "display_data"
    },
    {
     "data": {
      "text/plain": [
       "'CNBP_22'"
      ]
     },
     "metadata": {},
     "output_type": "display_data"
    },
    {
     "data": {
      "text/plain": [
       "'CNBP_23'"
      ]
     },
     "metadata": {},
     "output_type": "display_data"
    },
    {
     "data": {
      "text/plain": [
       "'CNBP_24'"
      ]
     },
     "metadata": {},
     "output_type": "display_data"
    },
    {
     "data": {
      "text/plain": [
       "'CNBP_25'"
      ]
     },
     "metadata": {},
     "output_type": "display_data"
    },
    {
     "data": {
      "text/plain": [
       "'CNBP_26'"
      ]
     },
     "metadata": {},
     "output_type": "display_data"
    },
    {
     "data": {
      "text/plain": [
       "'DMPK_01'"
      ]
     },
     "metadata": {},
     "output_type": "display_data"
    },
    {
     "data": {
      "text/plain": [
       "'DMPK_02'"
      ]
     },
     "metadata": {},
     "output_type": "display_data"
    },
    {
     "data": {
      "text/plain": [
       "'DMPK_03'"
      ]
     },
     "metadata": {},
     "output_type": "display_data"
    },
    {
     "data": {
      "text/plain": [
       "'DMPK_04'"
      ]
     },
     "metadata": {},
     "output_type": "display_data"
    },
    {
     "data": {
      "text/plain": [
       "'DMPK_05'"
      ]
     },
     "metadata": {},
     "output_type": "display_data"
    },
    {
     "data": {
      "text/plain": [
       "'DMPK_05_repeat'"
      ]
     },
     "metadata": {},
     "output_type": "display_data"
    },
    {
     "data": {
      "text/plain": [
       "'DMPK_06'"
      ]
     },
     "metadata": {},
     "output_type": "display_data"
    },
    {
     "data": {
      "text/plain": [
       "'DMPK_07'"
      ]
     },
     "metadata": {},
     "output_type": "display_data"
    },
    {
     "data": {
      "text/plain": [
       "'DMPK_08'"
      ]
     },
     "metadata": {},
     "output_type": "display_data"
    },
    {
     "data": {
      "text/plain": [
       "'DMPK_09'"
      ]
     },
     "metadata": {},
     "output_type": "display_data"
    },
    {
     "data": {
      "text/plain": [
       "'DMPK_10'"
      ]
     },
     "metadata": {},
     "output_type": "display_data"
    },
    {
     "data": {
      "text/plain": [
       "'DMPK_11'"
      ]
     },
     "metadata": {},
     "output_type": "display_data"
    },
    {
     "data": {
      "text/plain": [
       "'DMPK_12'"
      ]
     },
     "metadata": {},
     "output_type": "display_data"
    },
    {
     "data": {
      "text/plain": [
       "'DMPK_13'"
      ]
     },
     "metadata": {},
     "output_type": "display_data"
    },
    {
     "data": {
      "text/plain": [
       "'DMPK_14'"
      ]
     },
     "metadata": {},
     "output_type": "display_data"
    },
    {
     "data": {
      "text/plain": [
       "'DMPK_15'"
      ]
     },
     "metadata": {},
     "output_type": "display_data"
    },
    {
     "data": {
      "text/plain": [
       "'DMPK_16'"
      ]
     },
     "metadata": {},
     "output_type": "display_data"
    },
    {
     "data": {
      "text/plain": [
       "'DMPK_17'"
      ]
     },
     "metadata": {},
     "output_type": "display_data"
    },
    {
     "data": {
      "text/plain": [
       "'DMPK_18'"
      ]
     },
     "metadata": {},
     "output_type": "display_data"
    },
    {
     "data": {
      "text/plain": [
       "'DMPK_19'"
      ]
     },
     "metadata": {},
     "output_type": "display_data"
    },
    {
     "data": {
      "text/plain": [
       "'DMPK_20'"
      ]
     },
     "metadata": {},
     "output_type": "display_data"
    },
    {
     "data": {
      "text/plain": [
       "'DMPK_21'"
      ]
     },
     "metadata": {},
     "output_type": "display_data"
    },
    {
     "data": {
      "text/plain": [
       "'DMPK_22'"
      ]
     },
     "metadata": {},
     "output_type": "display_data"
    },
    {
     "data": {
      "text/plain": [
       "'DMPK_23'"
      ]
     },
     "metadata": {},
     "output_type": "display_data"
    },
    {
     "data": {
      "text/plain": [
       "'DMPK_24'"
      ]
     },
     "metadata": {},
     "output_type": "display_data"
    },
    {
     "data": {
      "text/plain": [
       "'DMPK_25'"
      ]
     },
     "metadata": {},
     "output_type": "display_data"
    },
    {
     "data": {
      "text/plain": [
       "'DMPK_26'"
      ]
     },
     "metadata": {},
     "output_type": "display_data"
    },
    {
     "data": {
      "text/plain": [
       "'DMPK_27'"
      ]
     },
     "metadata": {},
     "output_type": "display_data"
    },
    {
     "data": {
      "text/plain": [
       "'DMPK_28'"
      ]
     },
     "metadata": {},
     "output_type": "display_data"
    },
    {
     "data": {
      "text/plain": [
       "'DMPK_29'"
      ]
     },
     "metadata": {},
     "output_type": "display_data"
    },
    {
     "data": {
      "text/plain": [
       "'DMPK_30'"
      ]
     },
     "metadata": {},
     "output_type": "display_data"
    },
    {
     "data": {
      "text/plain": [
       "'DMPK_HvB_01'"
      ]
     },
     "metadata": {},
     "output_type": "display_data"
    },
    {
     "data": {
      "text/plain": [
       "'DMPK_HvB_02'"
      ]
     },
     "metadata": {},
     "output_type": "display_data"
    },
    {
     "data": {
      "text/plain": [
       "'DMPK_HvB_03'"
      ]
     },
     "metadata": {},
     "output_type": "display_data"
    },
    {
     "data": {
      "text/plain": [
       "'DMPK_RW_01'"
      ]
     },
     "metadata": {},
     "output_type": "display_data"
    },
    {
     "data": {
      "text/plain": [
       "'DMPK_RW_02'"
      ]
     },
     "metadata": {},
     "output_type": "display_data"
    },
    {
     "data": {
      "text/plain": [
       "'DMPK_RW_03'"
      ]
     },
     "metadata": {},
     "output_type": "display_data"
    },
    {
     "data": {
      "text/plain": [
       "'DMPK_RW_04'"
      ]
     },
     "metadata": {},
     "output_type": "display_data"
    },
    {
     "data": {
      "text/plain": [
       "'DMPK_RW_05'"
      ]
     },
     "metadata": {},
     "output_type": "display_data"
    },
    {
     "data": {
      "text/plain": [
       "'DMPK_RW_06'"
      ]
     },
     "metadata": {},
     "output_type": "display_data"
    },
    {
     "data": {
      "text/plain": [
       "'FMR1_01'"
      ]
     },
     "metadata": {},
     "output_type": "display_data"
    },
    {
     "data": {
      "text/plain": [
       "'FMR1_02'"
      ]
     },
     "metadata": {},
     "output_type": "display_data"
    },
    {
     "data": {
      "text/plain": [
       "'FMR1_03'"
      ]
     },
     "metadata": {},
     "output_type": "display_data"
    },
    {
     "data": {
      "text/plain": [
       "'FMR1_05'"
      ]
     },
     "metadata": {},
     "output_type": "display_data"
    },
    {
     "data": {
      "text/plain": [
       "'FMR1_06'"
      ]
     },
     "metadata": {},
     "output_type": "display_data"
    },
    {
     "data": {
      "text/plain": [
       "'FMR1_07'"
      ]
     },
     "metadata": {},
     "output_type": "display_data"
    },
    {
     "data": {
      "text/plain": [
       "'FMR1_08'"
      ]
     },
     "metadata": {},
     "output_type": "display_data"
    },
    {
     "data": {
      "text/plain": [
       "'FMR1_09'"
      ]
     },
     "metadata": {},
     "output_type": "display_data"
    },
    {
     "data": {
      "text/plain": [
       "'FMR1_10'"
      ]
     },
     "metadata": {},
     "output_type": "display_data"
    },
    {
     "data": {
      "text/plain": [
       "'FMR1_11'"
      ]
     },
     "metadata": {},
     "output_type": "display_data"
    },
    {
     "data": {
      "text/plain": [
       "'FMR1_12'"
      ]
     },
     "metadata": {},
     "output_type": "display_data"
    },
    {
     "data": {
      "text/plain": [
       "'FMR1_13'"
      ]
     },
     "metadata": {},
     "output_type": "display_data"
    },
    {
     "data": {
      "text/plain": [
       "'FMR1_14'"
      ]
     },
     "metadata": {},
     "output_type": "display_data"
    },
    {
     "data": {
      "text/plain": [
       "'FXN_01'"
      ]
     },
     "metadata": {},
     "output_type": "display_data"
    },
    {
     "data": {
      "text/plain": [
       "'FXN_02'"
      ]
     },
     "metadata": {},
     "output_type": "display_data"
    },
    {
     "data": {
      "text/plain": [
       "'NOP56_01'"
      ]
     },
     "metadata": {},
     "output_type": "display_data"
    },
    {
     "data": {
      "text/plain": [
       "'NOP56_02'"
      ]
     },
     "metadata": {},
     "output_type": "display_data"
    },
    {
     "data": {
      "text/plain": [
       "'RFC1_01'"
      ]
     },
     "metadata": {},
     "output_type": "display_data"
    },
    {
     "data": {
      "text/plain": [
       "'RFC1_02'"
      ]
     },
     "metadata": {},
     "output_type": "display_data"
    },
    {
     "data": {
      "text/plain": [
       "'RFC1_03'"
      ]
     },
     "metadata": {},
     "output_type": "display_data"
    },
    {
     "data": {
      "text/plain": [
       "'RFC1_04'"
      ]
     },
     "metadata": {},
     "output_type": "display_data"
    },
    {
     "data": {
      "text/plain": [
       "'RFC1_05'"
      ]
     },
     "metadata": {},
     "output_type": "display_data"
    },
    {
     "data": {
      "text/plain": [
       "'RFC1_06'"
      ]
     },
     "metadata": {},
     "output_type": "display_data"
    },
    {
     "data": {
      "text/plain": [
       "'RFC1_07'"
      ]
     },
     "metadata": {},
     "output_type": "display_data"
    },
    {
     "data": {
      "text/plain": [
       "'RFC1_08'"
      ]
     },
     "metadata": {},
     "output_type": "display_data"
    },
    {
     "data": {
      "text/plain": [
       "'RFC1_09'"
      ]
     },
     "metadata": {},
     "output_type": "display_data"
    },
    {
     "data": {
      "text/plain": [
       "'RFC1_10'"
      ]
     },
     "metadata": {},
     "output_type": "display_data"
    },
    {
     "data": {
      "text/plain": [
       "'RFC1_11'"
      ]
     },
     "metadata": {},
     "output_type": "display_data"
    },
    {
     "data": {
      "text/plain": [
       "'RFC1_12'"
      ]
     },
     "metadata": {},
     "output_type": "display_data"
    },
    {
     "data": {
      "text/plain": [
       "'RFC1_13'"
      ]
     },
     "metadata": {},
     "output_type": "display_data"
    },
    {
     "data": {
      "text/plain": [
       "'RFC1_14'"
      ]
     },
     "metadata": {},
     "output_type": "display_data"
    },
    {
     "data": {
      "text/plain": [
       "'RFC1_15'"
      ]
     },
     "metadata": {},
     "output_type": "display_data"
    },
    {
     "data": {
      "text/plain": [
       "'RFC1_16'"
      ]
     },
     "metadata": {},
     "output_type": "display_data"
    },
    {
     "data": {
      "text/plain": [
       "'RFC1_17'"
      ]
     },
     "metadata": {},
     "output_type": "display_data"
    },
    {
     "data": {
      "text/plain": [
       "'RFC1_18'"
      ]
     },
     "metadata": {},
     "output_type": "display_data"
    },
    {
     "data": {
      "text/plain": [
       "'RFC1_19'"
      ]
     },
     "metadata": {},
     "output_type": "display_data"
    },
    {
     "data": {
      "text/plain": [
       "'RFC1_20'"
      ]
     },
     "metadata": {},
     "output_type": "display_data"
    },
    {
     "data": {
      "text/plain": [
       "'RFC1_21'"
      ]
     },
     "metadata": {},
     "output_type": "display_data"
    },
    {
     "data": {
      "text/plain": [
       "'RFC1_22'"
      ]
     },
     "metadata": {},
     "output_type": "display_data"
    },
    {
     "data": {
      "text/plain": [
       "'RFC1_23'"
      ]
     },
     "metadata": {},
     "output_type": "display_data"
    },
    {
     "data": {
      "text/plain": [
       "'RFC1_24'"
      ]
     },
     "metadata": {},
     "output_type": "display_data"
    },
    {
     "data": {
      "text/plain": [
       "'RFC1_25'"
      ]
     },
     "metadata": {},
     "output_type": "display_data"
    },
    {
     "data": {
      "text/plain": [
       "'RFC1_26'"
      ]
     },
     "metadata": {},
     "output_type": "display_data"
    },
    {
     "data": {
      "text/plain": [
       "'RFC1_27'"
      ]
     },
     "metadata": {},
     "output_type": "display_data"
    },
    {
     "data": {
      "text/plain": [
       "'RFC1_28'"
      ]
     },
     "metadata": {},
     "output_type": "display_data"
    },
    {
     "data": {
      "text/plain": [
       "'RFC1_29'"
      ]
     },
     "metadata": {},
     "output_type": "display_data"
    },
    {
     "data": {
      "text/plain": [
       "'RFC1_30'"
      ]
     },
     "metadata": {},
     "output_type": "display_data"
    },
    {
     "data": {
      "text/plain": [
       "'STARD7_39292'"
      ]
     },
     "metadata": {},
     "output_type": "display_data"
    }
   ],
   "source": [
    "samples = pd.read_csv(rf\"C:/Users/sshukor/OneDrive - Bionano Genomics/Documents/Repeat Expansion Project/for_Radboud_repeat_expansion_paper/Mol_distance_mapped/05Dec2023/mol_dist_xmap_input_summary.csv\")\n",
    "in_path = rf\"C:/Users/sshukor/OneDrive - Bionano Genomics/Documents/Repeat Expansion Project/for_Radboud_repeat_expansion_paper/Mol_distance_mapped/05Dec2023/\"\n",
    "\n",
    "QC_status = []\n",
    "# for s in samples.iloc[95:96].itertuples():\n",
    "for s in samples.itertuples():\n",
    "    display(s[1])\n",
    "    sample_name = s[1]\n",
    "    xls = pd.ExcelFile(f'{in_path}/{sample_name}_complete_data_mapped.xlsx')\n",
    "    mol_df = pd.read_excel(xls, 'molecules_mapped')\n",
    "    meta_df = pd.read_excel(xls, 'repeat_info')\n",
    "\n",
    "    mol_df['best_mapID'] = mol_df['best_mapID'].astype('string')\n",
    "    meta_df['MapID'] = meta_df['MapID'].astype('string')\n",
    "\n",
    "    # map allele in mol_df based on meta_df\n",
    "    mapping = dict(meta_df[['MapID', 'Allele']].values)\n",
    "    mol_df['Allele'] = mol_df['best_mapID'].map(mapping)\n",
    "\n",
    "    # display(mol_df.head())\n",
    "    # drop index columns\n",
    "    mol_df = mol_df.drop(columns=['Unnamed: 0'])\n",
    "    meta_df = meta_df.drop(columns=['Unnamed: 0'])\n",
    "\n",
    "    out_path = rf\"C:/Users/sshukor/OneDrive - Bionano Genomics/Documents/Repeat Expansion Project/for_Radboud_repeat_expansion_paper/Mol_distance_mapped/Alleles_mapped_06Dec2023/\"\n",
    "    with pd.ExcelWriter(f'{out_path}/{sample_name}_complete_data_mapped.xlsx') as writer:  # doctest: +SKIP\n",
    "        mol_df.to_excel(writer, sheet_name='molecules_mapped', index=False)\n",
    "        meta_df.to_excel(writer, sheet_name='repeat_info', index=False)\n",
    "\n",
    "samples.to_csv(rf\"C:/Users\\sshukor\\OneDrive - Bionano Genomics/Documents/Repeat Expansion Project/for_Radboud_repeat_expansion_paper/Mol_distance_mapped/Alleles_mapped_06Dec2023/mol_dist_xmap_input_summary.csv\", index=False)"
   ]
  }
 ],
 "metadata": {
  "kernelspec": {
   "display_name": "enrichment",
   "language": "python",
   "name": "python3"
  },
  "language_info": {
   "codemirror_mode": {
    "name": "ipython",
    "version": 3
   },
   "file_extension": ".py",
   "mimetype": "text/x-python",
   "name": "python",
   "nbconvert_exporter": "python",
   "pygments_lexer": "ipython3",
   "version": "3.11.0"
  }
 },
 "nbformat": 4,
 "nbformat_minor": 2
}
